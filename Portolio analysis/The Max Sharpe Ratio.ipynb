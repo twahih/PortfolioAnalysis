{
 "cells": [
  {
   "cell_type": "code",
   "execution_count": 37,
   "metadata": {},
   "outputs": [
    {
     "name": "stdout",
     "output_type": "stream",
     "text": [
      "The autoreload extension is already loaded. To reload it, use:\n",
      "  %reload_ext autoreload\n"
     ]
    }
   ],
   "source": [
    "%load_ext autoreload\n",
    "%autoreload 2\n",
    "%matplotlib inline\n",
    "import edhec_risk_kit as erk\n",
    "import numpy as np\n",
    "from scipy.optimize import minimize\n",
    "import pandas as pd"
   ]
  },
  {
   "cell_type": "code",
   "execution_count": 38,
   "metadata": {},
   "outputs": [],
   "source": [
    "ind =erk.get_ind_returns()\n",
    "er=erk.annualize_rets(ind[\"1996\":\"2000\"],12)\n",
    "cov=ind[\"1996\":\"2000\"].cov()"
   ]
  },
  {
   "cell_type": "code",
   "execution_count": 39,
   "metadata": {},
   "outputs": [],
   "source": [
    "def msr(riskfree_rate,er,cov):\n",
    "    \"\"\"\n",
    "    RiskFree rate+ER+COV->W \n",
    "    \"\"\"\n",
    "    n=er.shape[0]\n",
    "    init_guess=np.repeat(1/n,n)\n",
    "    bounds=((0.0,1.0),)*n\n",
    "    \n",
    "    weights_sum_to_1= {\n",
    "        'type':'eq',\n",
    "        'fun':lambda weights:np.sum(weights)-1\n",
    "        \n",
    "    }\n",
    "    \n",
    "    def neg_sharpe_ratio(weights,riskfree_rate,er,cov):\n",
    "        \"\"\"\n",
    "        Returns the negative of the sharpe ratio, given weights\n",
    "        \"\"\"\n",
    "        r=erk.portfolio_return(weights,er)\n",
    "        vol=erk.portfolio_vol(weights,cov)\n",
    "        return -(r-riskfree_rate)/vol\n",
    "    \n",
    "    results=minimize(neg_sharpe_ratio, init_guess,\n",
    "                    args=(riskfree_rate,er,cov,),method='SLSQP',\n",
    "                    options={'disp':False},\n",
    "                    constraints=(weights_sum_to_1),\n",
    "                    bounds=bounds\n",
    "                    )\n",
    "    \n",
    "    return results.x"
   ]
  },
  {
   "cell_type": "code",
   "execution_count": 40,
   "metadata": {},
   "outputs": [
    {
     "data": {
      "text/plain": [
       "[<matplotlib.lines.Line2D at 0x20179e00b38>]"
      ]
     },
     "execution_count": 40,
     "metadata": {},
     "output_type": "execute_result"
    },
    {
     "data": {
      "image/png": "[encoded data removed]",
      "text/plain": [
       "<Figure size 432x288 with 1 Axes>"
      ]
     },
     "metadata": {},
     "output_type": "display_data"
    }
   ],
   "source": [
    "ax=erk.plot_ef(20,er,cov)\n",
    "ax.set_xlim(left=0)\n",
    "rf=0.1\n",
    "w_msr=msr(rf,er,cov)\n",
    "r_msr=erk.portfolio_return(w_msr,er)\n",
    "vol_msr=erk.portfolio_vol(w_msr,cov)\n",
    "#Add CML\n",
    "\n",
    "cml_x=[0,vol_msr]\n",
    "cml_y=[rf,r_msr ]\n",
    "ax.plot(cml_x,cml_y, color=\"green\",marker=\"o\",linestyle=\"dashed\")"
   ]
  },
  {
   "cell_type": "code",
   "execution_count": 41,
   "metadata": {},
   "outputs": [
    {
     "data": {
      "text/plain": [
       "<matplotlib.axes._subplots.AxesSubplot at 0x20179eba470>"
      ]
     },
     "execution_count": 41,
     "metadata": {},
     "output_type": "execute_result"
    },
    {
     "data": {
      "image/png": "[encoded data removed]",
      "text/plain": [
       "<Figure size 432x288 with 1 Axes>"
      ]
     },
     "metadata": {},
     "output_type": "display_data"
    }
   ],
   "source": [
    "erk.plot_ef(20,er,cov,show_cml=True,riskfree_rate=0.1,show_ew=True,show_gmv=True)"
   ]
  },
  {
   "cell_type": "markdown",
   "metadata": {},
   "source": [
    "# Lack of Robustness of the Markwitz Procedure, and the GMV"
   ]
  },
  {
   "cell_type": "code",
   "execution_count": 42,
   "metadata": {},
   "outputs": [
    {
     "data": {
      "text/plain": [
       "array([0.75040363, 0.24959637])"
      ]
     },
     "execution_count": 42,
     "metadata": {},
     "output_type": "execute_result"
    }
   ],
   "source": [
    "l=[\"Food\",\"Steel\"]\n",
    "erk.msr(0.1,er[l],cov.loc[l,l])"
   ]
  },
  {
   "cell_type": "code",
   "execution_count": 43,
   "metadata": {},
   "outputs": [
    {
     "data": {
      "text/plain": [
       "Food     0.116799\n",
       "Steel    0.115809\n",
       "dtype: float64"
      ]
     },
     "execution_count": 43,
     "metadata": {},
     "output_type": "execute_result"
    }
   ],
   "source": [
    "er[l]"
   ]
  },
  {
   "cell_type": "code",
   "execution_count": 44,
   "metadata": {},
   "outputs": [
    {
     "data": {
      "text/plain": [
       "array([0.57930354, 0.42069646])"
      ]
     },
     "execution_count": 44,
     "metadata": {},
     "output_type": "execute_result"
    }
   ],
   "source": [
    "erk.msr(0.1,np.array([.11,.12]),cov.loc[l,l])"
   ]
  },
  {
   "cell_type": "code",
   "execution_count": 45,
   "metadata": {},
   "outputs": [
    {
     "data": {
      "text/plain": [
       "array([0., 1.])"
      ]
     },
     "execution_count": 45,
     "metadata": {},
     "output_type": "execute_result"
    }
   ],
   "source": [
    "erk.msr(0.1,np.array([.10,.13]),cov.loc[l,l])"
   ]
  },
  {
   "cell_type": "code",
   "execution_count": 46,
   "metadata": {},
   "outputs": [
    {
     "data": {
      "text/plain": [
       "array([1., 0.])"
      ]
     },
     "execution_count": 46,
     "metadata": {},
     "output_type": "execute_result"
    }
   ],
   "source": [
    "erk.msr(0.1,np.array([.13,.10]),cov.loc[l,l])"
   ]
  },
  {
   "cell_type": "code",
   "execution_count": 50,
   "metadata": {},
   "outputs": [
    {
     "data": {
      "text/plain": [
       "array([3.13254167e+00, 9.53125825e-11, 8.37378998e-01, 2.38181902e-01,\n",
       "       3.03526090e-12, 7.82312967e+00, 1.55052932e-10, 6.48765396e+00,\n",
       "       6.59368717e-12, 5.15147987e-13, 2.10482399e-10, 1.01850992e-12,\n",
       "       5.53049873e-13, 1.49601064e-10, 1.43964090e-10, 1.20209209e-10,\n",
       "       4.61151859e-12, 1.29137045e-12, 3.30213045e-12, 4.82924056e+01,\n",
       "       3.15167064e+00, 1.77688352e-11, 1.01321297e+01, 5.14678142e-12,\n",
       "       2.48831936e-11, 2.46036922e-11, 8.38588766e+00, 1.15190202e+01,\n",
       "       3.71552154e-10, 2.04232328e-10])"
      ]
     },
     "execution_count": 50,
     "metadata": {},
     "output_type": "execute_result"
    }
   ],
   "source": [
    "erk.gmv(cov)*100"
   ]
  },
  {
   "cell_type": "code",
   "execution_count": null,
   "metadata": {},
   "outputs": [],
   "source": []
  }
 ],
 "metadata": {
  "kernelspec": {
   "display_name": "Python 3",
   "language": "python",
   "name": "python3"
  },
  "language_info": {
   "codemirror_mode": {
    "name": "ipython",
    "version": 3
   },
   "file_extension": ".py",
   "mimetype": "text/x-python",
   "name": "python",
   "nbconvert_exporter": "python",
   "pygments_lexer": "ipython3",
   "version": "3.6.5"
  }
 },
 "nbformat": 4,
 "nbformat_minor": 2
}
