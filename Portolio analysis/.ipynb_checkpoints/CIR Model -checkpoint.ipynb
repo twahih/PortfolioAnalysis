{
 "cells": [
  {
   "cell_type": "markdown",
   "metadata": {},
   "source": [
    "# Simulating Interest Rate Changes and Liability Hedging\n",
    "### Implementing the Cox Ingersoll Ross Model for interest rates\n",
    "\n",
    "We saw in the previous lab that when you look at your financial condition in terms of funding ratio, rather than asset value, even cash can be a risky asset.\n",
    "\n",
    "We're going to simulate changes in interest rates using the Cox-Ingersoll-Ross model, usually just called the CIR model. It is very similar to what we have already done for generating random stock prices. Instead of a Geometric Brownian Motion, the mean reversion model features parameters to control the speed of mean reversion as well as the long term average rate.\n",
    "\n",
    "$$ dr_{t}=a(b-r_{t})\\,dt+\\sigma {\\sqrt  {r_{t}}}\\,dW_{t} $$\n",
    "\n",
    "where $a$ is the speed of mean reversion and $b$ is the long term mean rate and $\\sigma$ is the volatility parameter.\n",
    "\n",
    "This can be read as describing the change in interest at any point of time as a multiple of the distance of the current rate from it's long term mean plus a random value that depends on the volatility parameter.\n",
    "\n",
    "Thus, we can start at some rate $r_0$ and generate a sequence of rates over time using the change in rate defined by the stochastic differential equation above. If we eliminate the ${\\sqrt  {r_{t}}}$ term we get the simpler Vasicek model, but the CIR model eliminates the possibility of negative interest rates by shutting down the volatility term as interest rates approach zero. \n",
    "\n",
    "### Short Rate vs Annualized Rate\n",
    "\n",
    "One final piece of math we'll need is that the interest rate being described here is the \"instantaneous\" or \"short rate\" ... we will often want to think about interest rates as annualized rates, which means that the instantaneous rate needs to be compounded into an annual rate as follows:\n",
    "\n",
    "$$ 1 + r_{annual} = e^{r_{inst}} $$\n",
    "\n",
    "### Quick Explanation of Short Rate vs Annual Rate\n",
    "\n",
    "The distinction between the instantaneous rate and the annualized rate is subtle if you have never had an opportunity to think about it, but is best understood in terms of an example:\n",
    "\n",
    "Let's consider the growth of a dollar over a year, if the rate of interest is 100%.\n",
    "\n",
    "To answer the question about what that will grow to at the end of the year, we'll need to answer a second question, which is how often will that interest be paid?\n",
    "\n",
    "If it's paid just once at the end of the year, the answer is easy. The dollar grows to 2 dollars (one dollar in principle and another dollar in interest)."
   ]
  },
  {
   "cell_type": "code",
   "execution_count": 11,
   "metadata": {},
   "outputs": [
    {
     "name": "stdout",
     "output_type": "stream",
     "text": [
      "The autoreload extension is already loaded. To reload it, use:\n",
      "  %reload_ext autoreload\n"
     ]
    }
   ],
   "source": [
    "import numpy as np\n",
    "import pandas as pd\n",
    "import edhec_risk_kit as erk\n",
    "%load_ext autoreload\n",
    "%autoreload 2\n",
    "\n",
    "def inst_to_ann(r):\n",
    "    \"\"\"\n",
    "    Convert an instantaneous interest rate to an annual interest rate\n",
    "    \"\"\"\n",
    "    return np.expm1(r)\n",
    "\n",
    "def ann_to_inst(r):\n",
    "    \"\"\"\n",
    "    Convert annual interest rate to short interest rate\n",
    "    \"\"\"\n",
    "    return np.log1p(r)\n",
    "\n",
    "def cir(n_years = 10, n_scenarios=1, a=0.05, b=0.03, sigma=0.05, steps_per_year=12, r_0=None):\n",
    "    \"\"\"\n",
    "    Generate random interest rate evolution over time using the CIR model\n",
    "    b and r_0 are assumed to be the annualized rates, not the short rate\n",
    "    and the returned values are the annualized rates as well\n",
    "    \"\"\"\n",
    "    if r_0 is None: r_0 = b \n",
    "    r_0 = ann_to_inst(r_0)\n",
    "    dt = 1/steps_per_year\n",
    "    num_steps = int(n_years*steps_per_year) + 1 # because n_years might be a float\n",
    "    \n",
    "    shock = np.random.normal(0, scale=np.sqrt(dt), size=(num_steps, n_scenarios))\n",
    "    rates = np.empty_like(shock)\n",
    "    rates[0] = r_0\n",
    "    for step in range(1, num_steps):\n",
    "        r_t = rates[step-1]\n",
    "        d_r_t = a*(b-r_t)*dt + sigma*np.sqrt(r_t)*shock[step]\n",
    "        rates[step] = abs(r_t + d_r_t) # just in case of roundoff errors going negative\n",
    "        \n",
    "    return pd.DataFrame(data=inst_to_ann(rates), index=range(num_steps))\n",
    "\n",
    "%matplotlib inline"
   ]
  },
  {
   "cell_type": "code",
   "execution_count": 13,
   "metadata": {},
   "outputs": [
    {
     "data": {
      "application/vnd.jupyter.widget-view+json": {
       "model_id": "0e328667224543f080c1764fad1d160d",
       "version_major": 2,
       "version_minor": 0
      },
      "text/plain": [
       "interactive(children=(FloatSlider(value=0.03, description='r_0', max=0.15, step=0.01), FloatSlider(value=0.5, …"
      ]
     },
     "metadata": {},
     "output_type": "display_data"
    }
   ],
   "source": [
    "def show_cir(r_0=0.03,a=0.5,b=0.03,sigma=0.05,n_scenarios=5):\n",
    "    cir(r_0=r_0,a=a,b=b,sigma=sigma,n_scenarios=n_scenarios).plot(legend=False,figsize=(12,5))\n",
    "    \n",
    "    \n",
    "import ipywidgets as widgets\n",
    "from IPython.display import display\n",
    "\n",
    "controls=widgets.interactive(show_cir,\n",
    "                            r_0=(0,0.15,0.01),\n",
    "                            a=(0,1,.1),\n",
    "                             b=(0,0.15,0.01),\n",
    "                             sigma=(0,.1,0.01),\n",
    "                             n_scenarios=(1,100)\n",
    "                            \n",
    "                            )\n",
    "display(controls)"
   ]
  },
  {
   "cell_type": "code",
   "execution_count": null,
   "metadata": {},
   "outputs": [],
   "source": []
  }
 ],
 "metadata": {
  "kernelspec": {
   "display_name": "Python 3",
   "language": "python",
   "name": "python3"
  },
  "language_info": {
   "codemirror_mode": {
    "name": "ipython",
    "version": 3
   },
   "file_extension": ".py",
   "mimetype": "text/x-python",
   "name": "python",
   "nbconvert_exporter": "python",
   "pygments_lexer": "ipython3",
   "version": "3.6.5"
  }
 },
 "nbformat": 4,
 "nbformat_minor": 2
}
