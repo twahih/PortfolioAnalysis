{
 "cells": [
  {
   "cell_type": "code",
   "execution_count": 1,
   "metadata": {},
   "outputs": [],
   "source": [
    "import matplotlib.pyplot as plt\n",
    "import numpy as np\n",
    "import pandas as pd\n",
    "import gc\n",
    "#import scipy as sp\n",
    "import scipy.stats as sp\n",
    "import scipy as sc\n",
    "import math\n",
    "import numpy as np\n",
    "import networkx as nx\n",
    "import sys\n",
    "from scipy.sparse import random"
   ]
  },
  {
   "cell_type": "markdown",
   "metadata": {},
   "source": [
    "# NPN"
   ]
  },
  {
   "cell_type": "code",
   "execution_count": 2,
   "metadata": {},
   "outputs": [],
   "source": [
    "def huge_npn(x,npn_func = \"shrinkage\",npn_thresh= None,verbose=True):\n",
    "    \"\"\"Implements the Gausianization to help relax the assumption of normality\n",
    "    as in paper 'The Nonparanormal:Semiparametric Estimation\n",
    "    of High Dimensional Undirected Graphs' Liu et.al 2009\"\"\"\n",
    "    n,d = x.shape\n",
    "    x_col = list(x.columns)\n",
    "    x_row = list(x.index)\n",
    "    if npn_func == \"shrinkage\":\n",
    "        if verbose==True:\n",
    "            print(\"Conducting the nonparanormal (npn) transformation via shrunkun ECDF..\")\n",
    "        x= sp.norm.ppf(x.apply(sp.rankdata)/(n+1))\n",
    "        x = pd.DataFrame(x,columns=x_col,index=x_row)\n",
    "        x = x/x.ix[:,0].std()\n",
    "        if verbose==True:\n",
    "            print(\"done.\\\\n\")\n",
    "        del(n,d,verbose)\n",
    "        gc.collect()\n",
    "        x.columns=x_col\n",
    "        x.index = x_row\n",
    "    if (npn_func ==\"truncation\"):\n",
    "        if verbose==True:\n",
    "            print(\"Conducting nonparanormal (npn) transformation via truncated ECDF\")\n",
    "        if npn_thresh == None:\n",
    "            npn_thresh = 1/(4*(n**0.25)* math.sqrt(math.pi*math.log(n)))\n",
    "        x = sp.norm.ppf(np.minimum(np.maximum(x.apply(sp.rankdata)/n,npn_thresh),\n",
    "                        1-npn_thresh))\n",
    "        x = pd.DataFrame(x,columns=x_col,index=x_row)\n",
    "        x = x/x.ix[:,0].std()\n",
    "        if verbose== True:\n",
    "            print(\"done.\\\\n\")\n",
    "        del(n,d,verbose)\n",
    "        gc.collect()\n",
    "        x.columns=x_col\n",
    "        x.index = x_row\n",
    "    if npn_func ==\"skeptic\":\n",
    "        if verbose == True:\n",
    "            print(\"Conducting nonparanormal (npn) transformation via skeptic ..\")\n",
    "        rho, pval = sp.spearmanr(x, axis=0)    \n",
    "        x = np.multiply(2,np.sin(np.multiply(math.pi/6 ,rho)))\n",
    "        x = pd.DataFrame(x,columns=x_col)\n",
    "        if verbose==True:\n",
    "            print(\"done.\\\\n\")\n",
    "        del(n,d,verbose)\n",
    "        gc.collect()\n",
    "        x.columns=x_col\n",
    "    return(x)\n",
    "            "
   ]
  },
  {
   "cell_type": "markdown",
   "metadata": {},
   "source": [
    "# Generate Random Graph "
   ]
  },
  {
   "cell_type": "code",
   "execution_count": 3,
   "metadata": {},
   "outputs": [],
   "source": [
    "def wgtMatrix(g,transpose=True):\n",
    "    res =nt.adjacency_matrix(g, nodelist=None)\n",
    "    res =res.todense()\n",
    "    if transpose ==True:\n",
    "        res=np.transpose(res)\n",
    "    else: res\n",
    "    return(res)"
   ]
  },
  {
   "cell_type": "code",
   "execution_count": 4,
   "metadata": {},
   "outputs": [],
   "source": [
    "def trueCov(dag):\n",
    "    wm = wgtMatrix(dag)\n",
    "    p = len(dag.nodes())\n",
    "    diag = np.zeros((p, p), int)\n",
    "    np.fill_diagonal(diag, 1)\n",
    "    mat =np.linalg.inv(diag-wm)\n",
    "    cov=np.matmul(mat,np.transpose(mat))\n",
    "    return(cov)"
   ]
  },
  {
   "cell_type": "code",
   "execution_count": 66,
   "metadata": {},
   "outputs": [],
   "source": [
    "def erDAG(n,p):\n",
    "    \"\"\"Generate Random Erdos Graph as in\n",
    "    Erdős and A. Rényi, On Random Graphs, Publ. Math. 6, 290 (1959)\"\"\"\n",
    "    mat = np.empty((n,n,))\n",
    "    mat[:] = np.nan\n",
    "    Q = np.triu(mat,1)\n",
    "    Q[np.isnan(Q)] = np.random.binomial(1, p, (n-1)*int(n/2))\n",
    "    return(Q)"
   ]
  },
  {
   "cell_type": "code",
   "execution_count": 6,
   "metadata": {},
   "outputs": [],
   "source": [
    "def randDAG(n,p):\n",
    "    amat= erDAG(n,p)\n",
    "    G=nx.from_numpy_matrix(amat,create_using=nx.DiGraph())\n",
    "    result ={\"amat\":amat,\"G\":G}\n",
    "    return(result)"
   ]
  },
  {
   "cell_type": "code",
   "execution_count": null,
   "metadata": {},
   "outputs": [],
   "source": []
  },
  {
   "cell_type": "markdown",
   "metadata": {},
   "source": [
    "# GAUSSCITEST"
   ]
  },
  {
   "cell_type": "code",
   "execution_count": 7,
   "metadata": {},
   "outputs": [],
   "source": [
    "def gaussCItest(x,y,S,suffStat):\n",
    "    \"\"\"use zStat() to test for (conditional) independence between gaussian\n",
    "        random variables\"\"\"\n",
    "    z = zStat(x,y,S,C = suffStat[\"C\"], n=suffStat[\"n\"])\n",
    "    return (2*(1-sp.norm.cdf(abs(z))))"
   ]
  },
  {
   "cell_type": "code",
   "execution_count": 8,
   "metadata": {},
   "outputs": [],
   "source": [
    "def log_q1pm(r):\n",
    "    return (math.log1p(2*r/(1-r)))"
   ]
  },
  {
   "cell_type": "code",
   "execution_count": 9,
   "metadata": {},
   "outputs": [],
   "source": [
    "def zStat(x,y,S,C,n):\n",
    "    r = pcorOrder(x,y,S,C,n)\n",
    "    if type(S)== int:\n",
    "         res = math.sqrt(n-1-3)*0.5*log_q1pm(r)\n",
    "    else:\n",
    "        res = math.sqrt(n-len(S)-3)*0.5*log_q1pm(r)\n",
    "    if res == np.nan:\n",
    "        res = 0\n",
    "    else: res =res\n",
    "    return res"
   ]
  },
  {
   "cell_type": "code",
   "execution_count": 10,
   "metadata": {},
   "outputs": [],
   "source": [
    "def pcorOrder(i,j,k,C,cut_at=0.9999999):\n",
    "    \"\"\"This function computes partial correlations given a correlation\n",
    "    matrix using a recursive algorithm.\"\"\"\n",
    "    if k==0:\n",
    "        r= C[i,j]\n",
    "    elif (type(k)== int) :\n",
    "        r = (C[i,j] - C[i,k] *C[j,k])/math.sqrt((1-C[j,k]**2)*(1-C[i,k]**2))\n",
    "    elif len(k)==0:\n",
    "        r= C[i,j]\n",
    "    else:\n",
    "        PM = np.linalg.pinv(C[np.ix_(np.r_[i,j,k],np.r_[i,j,k])])\n",
    "        r = -PM[0,1]/math.sqrt(PM[0,0]*PM[1,1])\n",
    "    if r ==  np.isnan:\n",
    "        r =0\n",
    "    else:\n",
    "        r =min(cut_at,max(-cut_at,r))\n",
    "    return(r)\n",
    "            "
   ]
  },
  {
   "cell_type": "code",
   "execution_count": null,
   "metadata": {},
   "outputs": [],
   "source": []
  },
  {
   "cell_type": "markdown",
   "metadata": {},
   "source": [
    "# Simulate VAR"
   ]
  },
  {
   "cell_type": "code",
   "execution_count": 48,
   "metadata": {},
   "outputs": [],
   "source": [
    "\n",
    "def companionVAR(A): \n",
    "    \"\"\"This function transforms VAR(P) into VAR(1)\"\"\"\n",
    "    A         = A\n",
    "    K         = A.shape[0]\n",
    "    p         = int(A.shape[1]/K)\n",
    "    companion = np.zeros((K*p,K*p))\n",
    "    companion[0:K,0:(K*p)] = A\n",
    "    diag = np.zeros((K*p-K-1,K*p-K-1))\n",
    "    np.fill_diagonal(diag, 1)\n",
    "    if (p > 1):\n",
    "        companion[(K):(K*p-1),0:(K*p-K-1)] = diag\n",
    "    eigens    = sc.linalg.eig(companion)[0]\n",
    "    mods      = abs(eigens)\n",
    "    result    = {\"coefMatr\":A, \"isCausal\":max(mods) < 1, \"companion\":companion,\n",
    "                 \"eigens\":eigens, \"mods\":mods}\n",
    "    return(result)"
   ]
  },
  {
   "cell_type": "code",
   "execution_count": 49,
   "metadata": {},
   "outputs": [],
   "source": [
    "def makecausal(x):\n",
    "    \"\"\"This function transforms VAR(P) into VAR(1) and makes\n",
    "    coefficient function CAUSAL by deviding to max singular\n",
    "    value\"\"\"\n",
    "    A =x\n",
    "    epsilion <- 0.05\n",
    "    u ,singular, v= np.linalg.svd(A,full_matrices=True)\n",
    "    new_singular <-singular/(max(singular)+epsilion)\n",
    "    diag = np.zeros((len(singular),len(singular)))\n",
    "    np.fill_diagonal(diag, new_singular)\n",
    "    A = np.matrixmultiply(np.matrixmultiply(u,diag),np.transpose(v))\n",
    "    companion = np.zeros((K*p,K*p))\n",
    "    companion[0:K-1,0:(K*p-1)] = A\n",
    "    diag1 = np.zeros((K*p-K-1,K*p-K-1))\n",
    "    np.fill_diagonal(diag1, 1)\n",
    "    if (p>1):\n",
    "        companion[(K):(K*p-1),0:((K*p)-K-1)] = diag1\n",
    "    eigens    = sc.linalg.eig(companion)[0]\n",
    "    mods      = abs(eigens)\n",
    "    return({\"companion\":companion,\"mods\":mods})"
   ]
  },
  {
   "cell_type": "code",
   "execution_count": 50,
   "metadata": {},
   "outputs": [],
   "source": [
    "def coeffmat(K=2,p=1,seed=10 ):\n",
    "    random.seed(seed)\n",
    "#  K=K\n",
    "#  p=p\n",
    "    A = random(K,(K*p),density=0.4)\n",
    "    companion              = np.zeros((K*p,K*p))\n",
    "    companion[0:K-1,0:(K*p-1)] = A\n",
    "    diag1 = np.zeros((K*p-K-1,K*p-K-1))\n",
    "    np.fill_diagonal(diag1, 1)\n",
    "    if (p>1):\n",
    "        companion[(K):(K*p-1),0:((K*p)-K-1)] = diag1\n",
    "    eigens    = sc.linalg.eig(companion)[0]\n",
    "    mods      = abs(eigens)\n",
    "    isCausal = max(mods) < 1\n",
    "    if (isCausal==False):\n",
    "        companion =makecausal(A)[\"companion\"]\n",
    "        isCausal = max(makecausal(A)[\"mods\"]) <1\n",
    "        A=companion[0:K-1,0:(K*p-1)] \n",
    "    result=list(A= A,companion=companion, isCausal=isCausal)\n",
    "    return(result)\n"
   ]
  },
  {
   "cell_type": "code",
   "execution_count": 51,
   "metadata": {},
   "outputs": [
    {
     "data": {
      "text/plain": [
       "array([[0., 0., 0.],\n",
       "       [0., 3., 0.],\n",
       "       [0., 0., 5.]])"
      ]
     },
     "execution_count": 51,
     "metadata": {},
     "output_type": "execute_result"
    }
   ],
   "source": [
    "diag = np.zeros((3,3))\n",
    "np.fill_diagonal(diag, [0,3,5])\n",
    "diag"
   ]
  },
  {
   "cell_type": "code",
   "execution_count": 52,
   "metadata": {},
   "outputs": [
    {
     "ename": "AttributeError",
     "evalue": "'function' object has no attribute 'seed'",
     "output_type": "error",
     "traceback": [
      "\u001b[1;31m---------------------------------------------------------------------------\u001b[0m",
      "\u001b[1;31mAttributeError\u001b[0m                            Traceback (most recent call last)",
      "\u001b[1;32m<ipython-input-52-4e191bf9c0d3>\u001b[0m in \u001b[0;36m<module>\u001b[1;34m()\u001b[0m\n\u001b[1;32m----> 1\u001b[1;33m \u001b[0mcoeffmat\u001b[0m\u001b[1;33m(\u001b[0m\u001b[1;36m3\u001b[0m\u001b[1;33m,\u001b[0m\u001b[1;36m2\u001b[0m\u001b[1;33m,\u001b[0m\u001b[1;36m10\u001b[0m\u001b[1;33m)\u001b[0m\u001b[1;33m\u001b[0m\u001b[0m\n\u001b[0m",
      "\u001b[1;32m<ipython-input-50-d56cefcfe61d>\u001b[0m in \u001b[0;36mcoeffmat\u001b[1;34m(K, p, seed)\u001b[0m\n\u001b[0;32m      1\u001b[0m \u001b[1;32mdef\u001b[0m \u001b[0mcoeffmat\u001b[0m\u001b[1;33m(\u001b[0m\u001b[0mK\u001b[0m\u001b[1;33m=\u001b[0m\u001b[1;36m2\u001b[0m\u001b[1;33m,\u001b[0m\u001b[0mp\u001b[0m\u001b[1;33m=\u001b[0m\u001b[1;36m1\u001b[0m\u001b[1;33m,\u001b[0m\u001b[0mseed\u001b[0m\u001b[1;33m=\u001b[0m\u001b[1;36m10\u001b[0m \u001b[1;33m)\u001b[0m\u001b[1;33m:\u001b[0m\u001b[1;33m\u001b[0m\u001b[0m\n\u001b[1;32m----> 2\u001b[1;33m     \u001b[0mrandom\u001b[0m\u001b[1;33m.\u001b[0m\u001b[0mseed\u001b[0m\u001b[1;33m(\u001b[0m\u001b[0mseed\u001b[0m\u001b[1;33m)\u001b[0m\u001b[1;33m\u001b[0m\u001b[0m\n\u001b[0m\u001b[0;32m      3\u001b[0m \u001b[1;31m#  K=K\u001b[0m\u001b[1;33m\u001b[0m\u001b[1;33m\u001b[0m\u001b[0m\n\u001b[0;32m      4\u001b[0m \u001b[1;31m#  p=p\u001b[0m\u001b[1;33m\u001b[0m\u001b[1;33m\u001b[0m\u001b[0m\n\u001b[0;32m      5\u001b[0m     \u001b[0mA\u001b[0m \u001b[1;33m=\u001b[0m \u001b[0mrandom\u001b[0m\u001b[1;33m(\u001b[0m\u001b[0mK\u001b[0m\u001b[1;33m,\u001b[0m\u001b[1;33m(\u001b[0m\u001b[0mK\u001b[0m\u001b[1;33m*\u001b[0m\u001b[0mp\u001b[0m\u001b[1;33m)\u001b[0m\u001b[1;33m,\u001b[0m\u001b[0mdensity\u001b[0m\u001b[1;33m=\u001b[0m\u001b[1;36m0.4\u001b[0m\u001b[1;33m)\u001b[0m\u001b[1;33m\u001b[0m\u001b[0m\n",
      "\u001b[1;31mAttributeError\u001b[0m: 'function' object has no attribute 'seed'"
     ]
    }
   ],
   "source": [
    "coeffmat(3,2,10)"
   ]
  },
  {
   "cell_type": "code",
   "execution_count": 53,
   "metadata": {},
   "outputs": [
    {
     "data": {
      "text/plain": [
       "matrix([[0, 0, 1, 1, 0, 1],\n",
       "        [0, 0, 1, 1, 0, 1],\n",
       "        [0, 0, 0, 0, 1, 0]])"
      ]
     },
     "execution_count": 53,
     "metadata": {},
     "output_type": "execute_result"
    }
   ],
   "source": [
    "A"
   ]
  },
  {
   "cell_type": "code",
   "execution_count": 54,
   "metadata": {},
   "outputs": [
    {
     "data": {
      "text/plain": [
       "{'coefMatr': matrix([[0, 0, 1, 1, 0, 1],\n",
       "         [0, 0, 1, 1, 0, 1],\n",
       "         [0, 0, 0, 0, 1, 0]]),\n",
       " 'isCausal': False,\n",
       " 'companion': array([[0., 0., 1., 1., 0., 1.],\n",
       "        [0., 0., 1., 1., 0., 1.],\n",
       "        [0., 0., 0., 0., 1., 0.],\n",
       "        [1., 0., 0., 0., 0., 0.],\n",
       "        [0., 1., 0., 0., 0., 0.],\n",
       "        [0., 0., 0., 0., 0., 0.]]),\n",
       " 'eigens': array([ 1.32471796+0.j        , -0.66235898+0.56227951j,\n",
       "        -0.66235898-0.56227951j,  0.        +0.j        ,\n",
       "         0.        +0.j        ,  0.        +0.j        ]),\n",
       " 'mods': array([1.32471796, 0.86883696, 0.86883696, 0.        , 0.        ,\n",
       "        0.        ])}"
      ]
     },
     "execution_count": 54,
     "metadata": {},
     "output_type": "execute_result"
    }
   ],
   "source": [
    "A=np.matrix([[0,0,1,1,0,1],\n",
    "           [0,0,1,1,0,1],\n",
    "           [0,0,0,0,1,0]])\n",
    "\n",
    "companionVAR(A)"
   ]
  },
  {
   "cell_type": "code",
   "execution_count": 55,
   "metadata": {},
   "outputs": [
    {
     "ename": "NameError",
     "evalue": "name 'K' is not defined",
     "output_type": "error",
     "traceback": [
      "\u001b[1;31m---------------------------------------------------------------------------\u001b[0m",
      "\u001b[1;31mNameError\u001b[0m                                 Traceback (most recent call last)",
      "\u001b[1;32m<ipython-input-55-0772171a3f35>\u001b[0m in \u001b[0;36m<module>\u001b[1;34m()\u001b[0m\n\u001b[1;32m----> 1\u001b[1;33m \u001b[0mdiag\u001b[0m \u001b[1;33m=\u001b[0m \u001b[0mnp\u001b[0m\u001b[1;33m.\u001b[0m\u001b[0mzeros\u001b[0m\u001b[1;33m(\u001b[0m\u001b[1;33m(\u001b[0m\u001b[0mK\u001b[0m\u001b[1;33m*\u001b[0m\u001b[0mp\u001b[0m\u001b[1;33m-\u001b[0m\u001b[0mK\u001b[0m\u001b[1;33m-\u001b[0m\u001b[1;36m1\u001b[0m\u001b[1;33m,\u001b[0m\u001b[0mK\u001b[0m\u001b[1;33m*\u001b[0m\u001b[0mp\u001b[0m\u001b[1;33m-\u001b[0m\u001b[0mK\u001b[0m\u001b[1;33m-\u001b[0m\u001b[1;36m1\u001b[0m\u001b[1;33m)\u001b[0m\u001b[1;33m)\u001b[0m\u001b[1;33m\u001b[0m\u001b[0m\n\u001b[0m\u001b[0;32m      2\u001b[0m \u001b[0mnp\u001b[0m\u001b[1;33m.\u001b[0m\u001b[0mfill_diagonal\u001b[0m\u001b[1;33m(\u001b[0m\u001b[0mdiag\u001b[0m\u001b[1;33m,\u001b[0m \u001b[1;36m1\u001b[0m\u001b[1;33m)\u001b[0m\u001b[1;33m\u001b[0m\u001b[0m\n\u001b[0;32m      3\u001b[0m \u001b[0mdiag\u001b[0m\u001b[1;33m\u001b[0m\u001b[0m\n",
      "\u001b[1;31mNameError\u001b[0m: name 'K' is not defined"
     ]
    }
   ],
   "source": [
    "diag = np.zeros((K*p-K-1,K*p-K-1))\n",
    "np.fill_diagonal(diag, 1)\n",
    "diag"
   ]
  },
  {
   "cell_type": "code",
   "execution_count": 60,
   "metadata": {},
   "outputs": [
    {
     "ename": "SyntaxError",
     "evalue": "invalid syntax (<ipython-input-60-d453f8a80010>, line 17)",
     "output_type": "error",
     "traceback": [
      "\u001b[1;36m  File \u001b[1;32m\"<ipython-input-60-d453f8a80010>\"\u001b[1;36m, line \u001b[1;32m17\u001b[0m\n\u001b[1;33m    if(checkCausal & companionVAR(coefMatr).isCausal){stop(\"error: the VAR model is non-causal\")}\u001b[0m\n\u001b[1;37m                                                     ^\u001b[0m\n\u001b[1;31mSyntaxError\u001b[0m\u001b[1;31m:\u001b[0m invalid syntax\n"
     ]
    }
   ],
   "source": [
    "def simulateVAR(coefMatr=None,intercept,size,burn=100,Sigma,error_dist,df=None,checkCausal=True):\n",
    "   \n",
    "    if coefMatr is not None:\n",
    "        coefMatr = coefMatr\n",
    "    inteVect    = intercept\n",
    "    #inteVect    = matrix(inteVect,ncol=1) Command was in actual code\n",
    "    K           = Sigma.shape[0]\n",
    "    print(K)\n",
    "    if error_dist==\"t\":\n",
    "        if df is None or df<=2:\n",
    "            sys.exit()\n",
    "            print(\"error: the d.f. of t-distribution is NULL or <=2\")\n",
    "    if (min(sc.linalg.eig(Sigma)[0])<0):\n",
    "        sys.exit()\n",
    "        print(\"error: the covariance matrix is not positive-definite\")\n",
    "    if (isnull(coefMatr)): \n",
    "        if(checkCausal & companionVAR(coefMatr).isCausal){stop(\"error: the VAR model is non-causal\")}\n",
    "    \n",
    "    S.scale        = diag(NA,K) \n",
    "    if(error.dist==\"t\"):\n",
    "        S.scale = Sigma*(df-2)/df\n",
    "    if (is.null(coefMatr)):\n",
    "        p = ncol(coefMatr)/K \n",
    "    else:\n",
    "        p=0\n",
    "    simData        = matrix(NA,nrow=K,ncol=size+burn)\n",
    "    cholSigma      = t(chol(Sigma))\n",
    "    if(p!=0):\n",
    "        simData[,1:p]  = matrix(rnorm(K*p),nrow=K,ncol=p)\n",
    "        for (i in (p+1):(size+burn)){\n",
    "                if (error.dist==\"normal\") {error = cholSigma %*% matrix(rnorm(K),ncol=1)}\n",
    "            if (error.dist==\"t\")      {error = matrix(rmt(n=1,rep(0,K),S.scale,df),ncol=1)}\n",
    "            simData[,i] = inteVect + coefMatr %*% matrix(c(simData[,(i-1):(i-p)]),ncol=1) + error\n",
    "    }\n",
    "    if(p==0){\n",
    "        for (i in (p+1):(size+burn)){\n",
    "            if (error.dist==\"normal\") {error = cholSigma %*% matrix(rnorm(K),ncol=1)}\n",
    "            if (error.dist==\"t\")      {error = matrix(rmt(n=1,rep(0,K),S.scale,df),ncol=1)}\n",
    "            simData[,i] = inteVect + error\n",
    "    }}\n",
    "    simData  = t(simData[,(1+burn):(size+burn)])\n",
    "    result   = list(simData=simData,coefMatr=coefMatr,inteVect=inteVect,K=K,p=p,size=size,checkCausal=checkCausal,Sigma=Sigma,error.dist=error.dist,df=df)\n",
    "    return(result)\n",
    " }"
   ]
  },
  {
   "cell_type": "markdown",
   "metadata": {},
   "source": [
    "# Example of changing truecov function"
   ]
  },
  {
   "cell_type": "code",
   "execution_count": 61,
   "metadata": {},
   "outputs": [],
   "source": [
    "A=np.matrix([[0,0,1,1,0,1],\n",
    "           [0,0,1,1,0,1],\n",
    "           [0,0,0,0,1,0],\n",
    "           [0,0,0,0,1,1],\n",
    "           [0,0,0,0,0,0],\n",
    "            [0,0,0,0,0,0]])\n",
    "G=nx.from_numpy_matrix(A,create_using=nx.DiGraph())\n",
    "#trueCov(G)"
   ]
  },
  {
   "cell_type": "code",
   "execution_count": 62,
   "metadata": {},
   "outputs": [
    {
     "data": {
      "text/plain": [
       "array([0., 0., 0., 0., 0., 0.])"
      ]
     },
     "execution_count": 62,
     "metadata": {},
     "output_type": "execute_result"
    }
   ],
   "source": [
    "abs(sc.linalg.eig(A)[0])"
   ]
  },
  {
   "cell_type": "code",
   "execution_count": 63,
   "metadata": {},
   "outputs": [
    {
     "data": {
      "image/png": "[encoded data removed]",
      "text/plain": [
       "<Figure size 432x288 with 1 Axes>"
      ]
     },
     "metadata": {},
     "output_type": "display_data"
    }
   ],
   "source": [
    "nx.draw(G)\n",
    "plt.show()"
   ]
  },
  {
   "cell_type": "code",
   "execution_count": 64,
   "metadata": {},
   "outputs": [
    {
     "data": {
      "image/png": "[encoded data removed]",
      "text/plain": [
       "<Figure size 432x288 with 1 Axes>"
      ]
     },
     "metadata": {},
     "output_type": "display_data"
    }
   ],
   "source": [
    "g= nx.gnp_random_graph(5, 0.4, seed=10, directed=True)\n",
    "nx.draw(g)\n",
    "plt.show()"
   ]
  },
  {
   "cell_type": "code",
   "execution_count": 67,
   "metadata": {},
   "outputs": [
    {
     "ename": "ValueError",
     "evalue": "NumPy boolean array indexing assignment cannot assign 8 input values to the 10 output values where the mask is true",
     "output_type": "error",
     "traceback": [
      "\u001b[1;31m---------------------------------------------------------------------------\u001b[0m",
      "\u001b[1;31mValueError\u001b[0m                                Traceback (most recent call last)",
      "\u001b[1;32m<ipython-input-67-4543883b5110>\u001b[0m in \u001b[0;36m<module>\u001b[1;34m()\u001b[0m\n\u001b[1;32m----> 1\u001b[1;33m \u001b[0mnx\u001b[0m\u001b[1;33m.\u001b[0m\u001b[0mdraw\u001b[0m\u001b[1;33m(\u001b[0m\u001b[0mrandDAG\u001b[0m\u001b[1;33m(\u001b[0m\u001b[1;36m5\u001b[0m\u001b[1;33m,\u001b[0m\u001b[1;36m0.2\u001b[0m\u001b[1;33m)\u001b[0m\u001b[1;33m[\u001b[0m\u001b[1;34m\"G\"\u001b[0m\u001b[1;33m]\u001b[0m\u001b[1;33m)\u001b[0m\u001b[1;33m\u001b[0m\u001b[0m\n\u001b[0m\u001b[0;32m      2\u001b[0m \u001b[0mplt\u001b[0m\u001b[1;33m.\u001b[0m\u001b[0mshow\u001b[0m\u001b[1;33m(\u001b[0m\u001b[1;33m)\u001b[0m\u001b[1;33m\u001b[0m\u001b[0m\n",
      "\u001b[1;32m<ipython-input-6-a4f6d059f0af>\u001b[0m in \u001b[0;36mrandDAG\u001b[1;34m(n, p)\u001b[0m\n\u001b[0;32m      1\u001b[0m \u001b[1;32mdef\u001b[0m \u001b[0mrandDAG\u001b[0m\u001b[1;33m(\u001b[0m\u001b[0mn\u001b[0m\u001b[1;33m,\u001b[0m\u001b[0mp\u001b[0m\u001b[1;33m)\u001b[0m\u001b[1;33m:\u001b[0m\u001b[1;33m\u001b[0m\u001b[0m\n\u001b[1;32m----> 2\u001b[1;33m     \u001b[0mamat\u001b[0m\u001b[1;33m=\u001b[0m \u001b[0merDAG\u001b[0m\u001b[1;33m(\u001b[0m\u001b[0mn\u001b[0m\u001b[1;33m,\u001b[0m\u001b[0mp\u001b[0m\u001b[1;33m)\u001b[0m\u001b[1;33m\u001b[0m\u001b[0m\n\u001b[0m\u001b[0;32m      3\u001b[0m     \u001b[0mG\u001b[0m\u001b[1;33m=\u001b[0m\u001b[0mnx\u001b[0m\u001b[1;33m.\u001b[0m\u001b[0mfrom_numpy_matrix\u001b[0m\u001b[1;33m(\u001b[0m\u001b[0mamat\u001b[0m\u001b[1;33m,\u001b[0m\u001b[0mcreate_using\u001b[0m\u001b[1;33m=\u001b[0m\u001b[0mnx\u001b[0m\u001b[1;33m.\u001b[0m\u001b[0mDiGraph\u001b[0m\u001b[1;33m(\u001b[0m\u001b[1;33m)\u001b[0m\u001b[1;33m)\u001b[0m\u001b[1;33m\u001b[0m\u001b[0m\n\u001b[0;32m      4\u001b[0m     \u001b[0mresult\u001b[0m \u001b[1;33m=\u001b[0m\u001b[1;33m{\u001b[0m\u001b[1;34m\"amat\"\u001b[0m\u001b[1;33m:\u001b[0m\u001b[0mamat\u001b[0m\u001b[1;33m,\u001b[0m\u001b[1;34m\"G\"\u001b[0m\u001b[1;33m:\u001b[0m\u001b[0mG\u001b[0m\u001b[1;33m}\u001b[0m\u001b[1;33m\u001b[0m\u001b[0m\n\u001b[0;32m      5\u001b[0m     \u001b[1;32mreturn\u001b[0m\u001b[1;33m(\u001b[0m\u001b[0mresult\u001b[0m\u001b[1;33m)\u001b[0m\u001b[1;33m\u001b[0m\u001b[0m\n",
      "\u001b[1;32m<ipython-input-66-eddb11a842e9>\u001b[0m in \u001b[0;36merDAG\u001b[1;34m(n, p)\u001b[0m\n\u001b[0;32m      5\u001b[0m     \u001b[0mmat\u001b[0m\u001b[1;33m[\u001b[0m\u001b[1;33m:\u001b[0m\u001b[1;33m]\u001b[0m \u001b[1;33m=\u001b[0m \u001b[0mnp\u001b[0m\u001b[1;33m.\u001b[0m\u001b[0mnan\u001b[0m\u001b[1;33m\u001b[0m\u001b[0m\n\u001b[0;32m      6\u001b[0m     \u001b[0mQ\u001b[0m \u001b[1;33m=\u001b[0m \u001b[0mnp\u001b[0m\u001b[1;33m.\u001b[0m\u001b[0mtriu\u001b[0m\u001b[1;33m(\u001b[0m\u001b[0mmat\u001b[0m\u001b[1;33m,\u001b[0m\u001b[1;36m1\u001b[0m\u001b[1;33m)\u001b[0m\u001b[1;33m\u001b[0m\u001b[0m\n\u001b[1;32m----> 7\u001b[1;33m     \u001b[0mQ\u001b[0m\u001b[1;33m[\u001b[0m\u001b[0mnp\u001b[0m\u001b[1;33m.\u001b[0m\u001b[0misnan\u001b[0m\u001b[1;33m(\u001b[0m\u001b[0mQ\u001b[0m\u001b[1;33m)\u001b[0m\u001b[1;33m]\u001b[0m \u001b[1;33m=\u001b[0m \u001b[0mnp\u001b[0m\u001b[1;33m.\u001b[0m\u001b[0mrandom\u001b[0m\u001b[1;33m.\u001b[0m\u001b[0mbinomial\u001b[0m\u001b[1;33m(\u001b[0m\u001b[1;36m1\u001b[0m\u001b[1;33m,\u001b[0m \u001b[0mp\u001b[0m\u001b[1;33m,\u001b[0m \u001b[1;33m(\u001b[0m\u001b[0mn\u001b[0m\u001b[1;33m-\u001b[0m\u001b[1;36m1\u001b[0m\u001b[1;33m)\u001b[0m\u001b[1;33m*\u001b[0m\u001b[0mint\u001b[0m\u001b[1;33m(\u001b[0m\u001b[0mn\u001b[0m\u001b[1;33m/\u001b[0m\u001b[1;36m2\u001b[0m\u001b[1;33m)\u001b[0m\u001b[1;33m)\u001b[0m\u001b[1;33m\u001b[0m\u001b[0m\n\u001b[0m\u001b[0;32m      8\u001b[0m     \u001b[1;32mreturn\u001b[0m\u001b[1;33m(\u001b[0m\u001b[0mQ\u001b[0m\u001b[1;33m)\u001b[0m\u001b[1;33m\u001b[0m\u001b[0m\n",
      "\u001b[1;31mValueError\u001b[0m: NumPy boolean array indexing assignment cannot assign 8 input values to the 10 output values where the mask is true"
     ]
    }
   ],
   "source": [
    "nx.draw(randDAG(5,0.2)[\"G\"])\n",
    "plt.show()"
   ]
  },
  {
   "cell_type": "code",
   "execution_count": 13,
   "metadata": {},
   "outputs": [],
   "source": [
    "import os\n",
    "path = \"C:\\\\Users\\\\dallakyan1988\\\\Documents\\\\Nonparanormal\"\n",
    "os.chdir(path)"
   ]
  },
  {
   "cell_type": "code",
   "execution_count": 23,
   "metadata": {},
   "outputs": [],
   "source": [
    "data = pd.read_csv(\"GaussCItest_Example.csv\",sep =\",\",usecols=[\"x\",\"y\",\"z\"] )"
   ]
  },
  {
   "cell_type": "code",
   "execution_count": 69,
   "metadata": {},
   "outputs": [
    {
     "data": {
      "text/html": [
       "<div>\n",
       "<table border=\"1\" class=\"dataframe\">\n",
       "  <thead>\n",
       "    <tr style=\"text-align: right;\">\n",
       "      <th></th>\n",
       "      <th>x</th>\n",
       "      <th>y</th>\n",
       "      <th>z</th>\n",
       "    </tr>\n",
       "  </thead>\n",
       "  <tbody>\n",
       "    <tr>\n",
       "      <th>0</th>\n",
       "      <td>-1.283371</td>\n",
       "      <td>-3.761766</td>\n",
       "      <td>-8.335365</td>\n",
       "    </tr>\n",
       "    <tr>\n",
       "      <th>1</th>\n",
       "      <td>-1.263450</td>\n",
       "      <td>-3.252096</td>\n",
       "      <td>-5.311136</td>\n",
       "    </tr>\n",
       "    <tr>\n",
       "      <th>2</th>\n",
       "      <td>0.214673</td>\n",
       "      <td>-0.884848</td>\n",
       "      <td>-1.424593</td>\n",
       "    </tr>\n",
       "    <tr>\n",
       "      <th>3</th>\n",
       "      <td>0.946949</td>\n",
       "      <td>1.550440</td>\n",
       "      <td>2.108790</td>\n",
       "    </tr>\n",
       "    <tr>\n",
       "      <th>4</th>\n",
       "      <td>-1.175025</td>\n",
       "      <td>-2.739191</td>\n",
       "      <td>-7.253134</td>\n",
       "    </tr>\n",
       "  </tbody>\n",
       "</table>\n",
       "</div>"
      ],
      "text/plain": [
       "          x         y         z\n",
       "0 -1.283371 -3.761766 -8.335365\n",
       "1 -1.263450 -3.252096 -5.311136\n",
       "2  0.214673 -0.884848 -1.424593\n",
       "3  0.946949  1.550440  2.108790\n",
       "4 -1.175025 -2.739191 -7.253134"
      ]
     },
     "execution_count": 69,
     "metadata": {},
     "output_type": "execute_result"
    }
   ],
   "source": [
    "data.head()"
   ]
  },
  {
   "cell_type": "code",
   "execution_count": 195,
   "metadata": {},
   "outputs": [],
   "source": [
    "suffStat = {\"C\":np.corrcoef(data, rowvar=False), \"n\" :data.shape[0]}"
   ]
  },
  {
   "cell_type": "code",
   "execution_count": 197,
   "metadata": {},
   "outputs": [
    {
     "data": {
      "text/plain": [
       "100"
      ]
     },
     "execution_count": 197,
     "metadata": {},
     "output_type": "execute_result"
    }
   ],
   "source": [
    "suffStat[\"n\"]"
   ]
  },
  {
   "cell_type": "code",
   "execution_count": 194,
   "metadata": {},
   "outputs": [],
   "source": [
    "C= np.corrcoef(data, rowvar=False)"
   ]
  },
  {
   "cell_type": "code",
   "execution_count": 228,
   "metadata": {},
   "outputs": [
    {
     "data": {
      "text/plain": [
       "0.0"
      ]
     },
     "execution_count": 228,
     "metadata": {},
     "output_type": "execute_result"
    }
   ],
   "source": [
    "gaussCItest(0,2,0, suffStat)"
   ]
  },
  {
   "cell_type": "code",
   "execution_count": 166,
   "metadata": {},
   "outputs": [
    {
     "ename": "TypeError",
     "evalue": "unsupported operand type(s) for +: 'int' and 'list'",
     "output_type": "error",
     "traceback": [
      "\u001b[0;31m---------------------------------------------------------------------------\u001b[0m",
      "\u001b[0;31mTypeError\u001b[0m                                 Traceback (most recent call last)",
      "\u001b[0;32m<ipython-input-166-b6aa61b8b90c>\u001b[0m in \u001b[0;36m<module>\u001b[0;34m()\u001b[0m\n\u001b[0;32m----> 1\u001b[0;31m \u001b[0mC\u001b[0m\u001b[1;33m[\u001b[0m\u001b[0mnp\u001b[0m\u001b[1;33m.\u001b[0m\u001b[0mix_\u001b[0m\u001b[1;33m(\u001b[0m\u001b[1;33m[\u001b[0m\u001b[1;36m0\u001b[0m\u001b[1;33m+\u001b[0m\u001b[1;33m[\u001b[0m\u001b[1;36m1\u001b[0m\u001b[1;33m,\u001b[0m\u001b[1;36m2\u001b[0m\u001b[1;33m]\u001b[0m\u001b[1;33m]\u001b[0m\u001b[1;33m,\u001b[0m\u001b[1;33m[\u001b[0m\u001b[1;36m0\u001b[0m\u001b[1;33m+\u001b[0m\u001b[1;33m[\u001b[0m\u001b[1;36m1\u001b[0m\u001b[1;33m,\u001b[0m\u001b[1;36m2\u001b[0m\u001b[1;33m]\u001b[0m\u001b[1;33m]\u001b[0m\u001b[1;33m)\u001b[0m\u001b[1;33m]\u001b[0m\u001b[1;33m\u001b[0m\u001b[0m\n\u001b[0m",
      "\u001b[0;31mTypeError\u001b[0m: unsupported operand type(s) for +: 'int' and 'list'"
     ]
    }
   ],
   "source": [
    "C[np.ix_([0+[1,2]],[0+[1,2]])]\n",
    "np.r_()"
   ]
  }
 ],
 "metadata": {
  "anaconda-cloud": {},
  "kernelspec": {
   "display_name": "Python 3",
   "language": "python",
   "name": "python3"
  },
  "language_info": {
   "codemirror_mode": {
    "name": "ipython",
    "version": 3
   },
   "file_extension": ".py",
   "mimetype": "text/x-python",
   "name": "python",
   "nbconvert_exporter": "python",
   "pygments_lexer": "ipython3",
   "version": "3.6.5"
  }
 },
 "nbformat": 4,
 "nbformat_minor": 1
}
