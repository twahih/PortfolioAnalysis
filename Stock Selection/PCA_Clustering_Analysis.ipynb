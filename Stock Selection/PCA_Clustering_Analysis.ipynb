{
 "cells": [
  {
   "cell_type": "code",
   "execution_count": 1,
   "metadata": {},
   "outputs": [],
   "source": [
    "import pandas_datareader.data as web\n",
    "from matplotlib import pyplot as plt\n",
    "import pandas as pd\n",
    "import numpy as np\n",
    "import datetime"
   ]
  },
  {
   "cell_type": "code",
   "execution_count": 2,
   "metadata": {},
   "outputs": [],
   "source": [
    "df=pd.read_csv('SP500_bySectors',index_col=0)"
   ]
  },
  {
   "cell_type": "code",
   "execution_count": 3,
   "metadata": {},
   "outputs": [
    {
     "data": {
      "text/html": [
       "<div>\n",
       "<style scoped>\n",
       "    .dataframe tbody tr th:only-of-type {\n",
       "        vertical-align: middle;\n",
       "    }\n",
       "\n",
       "    .dataframe tbody tr th {\n",
       "        vertical-align: top;\n",
       "    }\n",
       "\n",
       "    .dataframe thead th {\n",
       "        text-align: right;\n",
       "    }\n",
       "</style>\n",
       "<table border=\"1\" class=\"dataframe\">\n",
       "  <thead>\n",
       "    <tr style=\"text-align: right;\">\n",
       "      <th></th>\n",
       "      <th>Symbol</th>\n",
       "      <th>Security</th>\n",
       "      <th>SEC filings</th>\n",
       "      <th>GICS Sector</th>\n",
       "      <th>GICS Sub Industry</th>\n",
       "      <th>Headquarters Location</th>\n",
       "      <th>Date first added</th>\n",
       "      <th>CIK</th>\n",
       "      <th>Founded</th>\n",
       "    </tr>\n",
       "  </thead>\n",
       "  <tbody>\n",
       "    <tr>\n",
       "      <th>0</th>\n",
       "      <td>MMM</td>\n",
       "      <td>3M Company</td>\n",
       "      <td>reports</td>\n",
       "      <td>Industrials</td>\n",
       "      <td>Industrial Conglomerates</td>\n",
       "      <td>St. Paul, Minnesota</td>\n",
       "      <td>1976-08-09</td>\n",
       "      <td>66740</td>\n",
       "      <td>1902</td>\n",
       "    </tr>\n",
       "    <tr>\n",
       "      <th>1</th>\n",
       "      <td>ABT</td>\n",
       "      <td>Abbott Laboratories</td>\n",
       "      <td>reports</td>\n",
       "      <td>Health Care</td>\n",
       "      <td>Health Care Equipment</td>\n",
       "      <td>North Chicago, Illinois</td>\n",
       "      <td>1964-03-31</td>\n",
       "      <td>1800</td>\n",
       "      <td>1888</td>\n",
       "    </tr>\n",
       "    <tr>\n",
       "      <th>2</th>\n",
       "      <td>ABBV</td>\n",
       "      <td>AbbVie Inc.</td>\n",
       "      <td>reports</td>\n",
       "      <td>Health Care</td>\n",
       "      <td>Pharmaceuticals</td>\n",
       "      <td>North Chicago, Illinois</td>\n",
       "      <td>2012-12-31</td>\n",
       "      <td>1551152</td>\n",
       "      <td>2013 (1888)</td>\n",
       "    </tr>\n",
       "    <tr>\n",
       "      <th>3</th>\n",
       "      <td>ABMD</td>\n",
       "      <td>ABIOMED Inc</td>\n",
       "      <td>reports</td>\n",
       "      <td>Health Care</td>\n",
       "      <td>Health Care Equipment</td>\n",
       "      <td>Danvers, Massachusetts</td>\n",
       "      <td>2018-05-31</td>\n",
       "      <td>815094</td>\n",
       "      <td>1981</td>\n",
       "    </tr>\n",
       "    <tr>\n",
       "      <th>4</th>\n",
       "      <td>ACN</td>\n",
       "      <td>Accenture plc</td>\n",
       "      <td>reports</td>\n",
       "      <td>Information Technology</td>\n",
       "      <td>IT Consulting &amp; Other Services</td>\n",
       "      <td>Dublin, Ireland</td>\n",
       "      <td>2011-07-06</td>\n",
       "      <td>1467373</td>\n",
       "      <td>1989</td>\n",
       "    </tr>\n",
       "  </tbody>\n",
       "</table>\n",
       "</div>"
      ],
      "text/plain": [
       "  Symbol             Security SEC filings             GICS Sector  \\\n",
       "0    MMM           3M Company     reports             Industrials   \n",
       "1    ABT  Abbott Laboratories     reports             Health Care   \n",
       "2   ABBV          AbbVie Inc.     reports             Health Care   \n",
       "3   ABMD          ABIOMED Inc     reports             Health Care   \n",
       "4    ACN        Accenture plc     reports  Information Technology   \n",
       "\n",
       "                GICS Sub Industry    Headquarters Location Date first added  \\\n",
       "0        Industrial Conglomerates      St. Paul, Minnesota       1976-08-09   \n",
       "1           Health Care Equipment  North Chicago, Illinois       1964-03-31   \n",
       "2                 Pharmaceuticals  North Chicago, Illinois       2012-12-31   \n",
       "3           Health Care Equipment   Danvers, Massachusetts       2018-05-31   \n",
       "4  IT Consulting & Other Services          Dublin, Ireland       2011-07-06   \n",
       "\n",
       "       CIK      Founded  \n",
       "0    66740         1902  \n",
       "1     1800         1888  \n",
       "2  1551152  2013 (1888)  \n",
       "3   815094         1981  \n",
       "4  1467373         1989  "
      ]
     },
     "execution_count": 3,
     "metadata": {},
     "output_type": "execute_result"
    }
   ],
   "source": [
    "df.head()"
   ]
  },
  {
   "cell_type": "code",
   "execution_count": 4,
   "metadata": {},
   "outputs": [
    {
     "data": {
      "text/html": [
       "<div>\n",
       "<style scoped>\n",
       "    .dataframe tbody tr th:only-of-type {\n",
       "        vertical-align: middle;\n",
       "    }\n",
       "\n",
       "    .dataframe tbody tr th {\n",
       "        vertical-align: top;\n",
       "    }\n",
       "\n",
       "    .dataframe thead th {\n",
       "        text-align: right;\n",
       "    }\n",
       "</style>\n",
       "<table border=\"1\" class=\"dataframe\">\n",
       "  <thead>\n",
       "    <tr style=\"text-align: right;\">\n",
       "      <th></th>\n",
       "      <th>Symbol</th>\n",
       "      <th>GICS Sector</th>\n",
       "      <th>GICS Sub Industry</th>\n",
       "    </tr>\n",
       "  </thead>\n",
       "  <tbody>\n",
       "    <tr>\n",
       "      <th>4</th>\n",
       "      <td>ACN</td>\n",
       "      <td>Information Technology</td>\n",
       "      <td>IT Consulting &amp; Other Services</td>\n",
       "    </tr>\n",
       "    <tr>\n",
       "      <th>6</th>\n",
       "      <td>ADBE</td>\n",
       "      <td>Information Technology</td>\n",
       "      <td>Application Software</td>\n",
       "    </tr>\n",
       "    <tr>\n",
       "      <th>7</th>\n",
       "      <td>AMD</td>\n",
       "      <td>Information Technology</td>\n",
       "      <td>Semiconductors</td>\n",
       "    </tr>\n",
       "    <tr>\n",
       "      <th>13</th>\n",
       "      <td>AKAM</td>\n",
       "      <td>Information Technology</td>\n",
       "      <td>Internet Services &amp; Infrastructure</td>\n",
       "    </tr>\n",
       "    <tr>\n",
       "      <th>20</th>\n",
       "      <td>ADS</td>\n",
       "      <td>Information Technology</td>\n",
       "      <td>Data Processing &amp; Outsourced Services</td>\n",
       "    </tr>\n",
       "  </tbody>\n",
       "</table>\n",
       "</div>"
      ],
      "text/plain": [
       "   Symbol             GICS Sector                      GICS Sub Industry\n",
       "4     ACN  Information Technology         IT Consulting & Other Services\n",
       "6    ADBE  Information Technology                   Application Software\n",
       "7     AMD  Information Technology                         Semiconductors\n",
       "13   AKAM  Information Technology     Internet Services & Infrastructure\n",
       "20    ADS  Information Technology  Data Processing & Outsourced Services"
      ]
     },
     "execution_count": 4,
     "metadata": {},
     "output_type": "execute_result"
    }
   ],
   "source": [
    "df=df[['Symbol','GICS Sector','GICS Sub Industry']]\n",
    "df_tech=df[df['GICS Sector']=='Information Technology']\n",
    "df_tech.head()"
   ]
  },
  {
   "cell_type": "code",
   "execution_count": 5,
   "metadata": {},
   "outputs": [],
   "source": [
    "tech_companies_list=df_tech['Symbol'].values.tolist()"
   ]
  },
  {
   "cell_type": "code",
   "execution_count": 6,
   "metadata": {},
   "outputs": [
    {
     "data": {
      "text/plain": [
       "list"
      ]
     },
     "execution_count": 6,
     "metadata": {},
     "output_type": "execute_result"
    }
   ],
   "source": [
    "type(tech_companies_list)"
   ]
  },
  {
   "cell_type": "code",
   "execution_count": 11,
   "metadata": {},
   "outputs": [],
   "source": [
    "# Define which online source to use\n",
    "#data_source = 'yahoo'\n",
    "\n",
    "# define start and end dates\n",
    "#start_date = '2015-01-01'\n",
    "#end_date = '2020-05-01'\n",
    "\n",
    "# Use pandas_datareader.data.DataReader to load the desired data list(companies_dict.values()) used for python 3 compatibility\n",
    "#panel_data = web.DataReader(tech_companies_list, data_source, start_date, end_date)"
   ]
  },
  {
   "cell_type": "code",
   "execution_count": 12,
   "metadata": {},
   "outputs": [
    {
     "data": {
      "text/html": [
       "<div>\n",
       "<style scoped>\n",
       "    .dataframe tbody tr th:only-of-type {\n",
       "        vertical-align: middle;\n",
       "    }\n",
       "\n",
       "    .dataframe tbody tr th {\n",
       "        vertical-align: top;\n",
       "    }\n",
       "\n",
       "    .dataframe thead th {\n",
       "        text-align: right;\n",
       "    }\n",
       "</style>\n",
       "<table border=\"1\" class=\"dataframe\">\n",
       "  <thead>\n",
       "    <tr style=\"text-align: right;\">\n",
       "      <th></th>\n",
       "      <th>AAPL</th>\n",
       "      <th>ACN</th>\n",
       "      <th>ADBE</th>\n",
       "      <th>ADI</th>\n",
       "      <th>ADP</th>\n",
       "      <th>ADS</th>\n",
       "      <th>ADSK</th>\n",
       "      <th>AKAM</th>\n",
       "      <th>AMAT</th>\n",
       "      <th>AMD</th>\n",
       "      <th>...</th>\n",
       "      <th>SWKS</th>\n",
       "      <th>TEL</th>\n",
       "      <th>TXN</th>\n",
       "      <th>V</th>\n",
       "      <th>VRSN</th>\n",
       "      <th>WDC</th>\n",
       "      <th>WU</th>\n",
       "      <th>XLNX</th>\n",
       "      <th>XRX</th>\n",
       "      <th>ZBRA</th>\n",
       "    </tr>\n",
       "    <tr>\n",
       "      <th>Date</th>\n",
       "      <th></th>\n",
       "      <th></th>\n",
       "      <th></th>\n",
       "      <th></th>\n",
       "      <th></th>\n",
       "      <th></th>\n",
       "      <th></th>\n",
       "      <th></th>\n",
       "      <th></th>\n",
       "      <th></th>\n",
       "      <th></th>\n",
       "      <th></th>\n",
       "      <th></th>\n",
       "      <th></th>\n",
       "      <th></th>\n",
       "      <th></th>\n",
       "      <th></th>\n",
       "      <th></th>\n",
       "      <th></th>\n",
       "      <th></th>\n",
       "      <th></th>\n",
       "    </tr>\n",
       "  </thead>\n",
       "  <tbody>\n",
       "    <tr>\n",
       "      <th>2015-01-02</th>\n",
       "      <td>109.330002</td>\n",
       "      <td>88.839996</td>\n",
       "      <td>72.339996</td>\n",
       "      <td>55.540001</td>\n",
       "      <td>83.290001</td>\n",
       "      <td>285.369995</td>\n",
       "      <td>59.529999</td>\n",
       "      <td>63.250000</td>\n",
       "      <td>24.959999</td>\n",
       "      <td>2.67</td>\n",
       "      <td>...</td>\n",
       "      <td>73.320000</td>\n",
       "      <td>63.169998</td>\n",
       "      <td>53.480000</td>\n",
       "      <td>66.254997</td>\n",
       "      <td>57.189999</td>\n",
       "      <td>110.430000</td>\n",
       "      <td>17.930000</td>\n",
       "      <td>43.599998</td>\n",
       "      <td>36.231884</td>\n",
       "      <td>77.430000</td>\n",
       "    </tr>\n",
       "    <tr>\n",
       "      <th>2015-01-05</th>\n",
       "      <td>106.250000</td>\n",
       "      <td>87.339996</td>\n",
       "      <td>71.980003</td>\n",
       "      <td>54.529999</td>\n",
       "      <td>83.230003</td>\n",
       "      <td>281.399994</td>\n",
       "      <td>58.660000</td>\n",
       "      <td>61.939999</td>\n",
       "      <td>24.160000</td>\n",
       "      <td>2.66</td>\n",
       "      <td>...</td>\n",
       "      <td>72.129997</td>\n",
       "      <td>61.939999</td>\n",
       "      <td>52.650002</td>\n",
       "      <td>64.792503</td>\n",
       "      <td>56.240002</td>\n",
       "      <td>108.970001</td>\n",
       "      <td>17.760000</td>\n",
       "      <td>42.799999</td>\n",
       "      <td>35.441372</td>\n",
       "      <td>76.339996</td>\n",
       "    </tr>\n",
       "    <tr>\n",
       "      <th>2015-01-06</th>\n",
       "      <td>106.260002</td>\n",
       "      <td>86.709999</td>\n",
       "      <td>70.529999</td>\n",
       "      <td>53.250000</td>\n",
       "      <td>82.540001</td>\n",
       "      <td>277.820007</td>\n",
       "      <td>57.500000</td>\n",
       "      <td>60.669998</td>\n",
       "      <td>23.250000</td>\n",
       "      <td>2.63</td>\n",
       "      <td>...</td>\n",
       "      <td>69.830002</td>\n",
       "      <td>61.189999</td>\n",
       "      <td>51.779999</td>\n",
       "      <td>64.375000</td>\n",
       "      <td>55.180000</td>\n",
       "      <td>106.540001</td>\n",
       "      <td>17.730000</td>\n",
       "      <td>42.180000</td>\n",
       "      <td>34.967060</td>\n",
       "      <td>75.790001</td>\n",
       "    </tr>\n",
       "    <tr>\n",
       "      <th>2015-01-07</th>\n",
       "      <td>107.750000</td>\n",
       "      <td>88.529999</td>\n",
       "      <td>71.110001</td>\n",
       "      <td>53.810001</td>\n",
       "      <td>83.260002</td>\n",
       "      <td>279.950012</td>\n",
       "      <td>57.380001</td>\n",
       "      <td>60.160000</td>\n",
       "      <td>23.469999</td>\n",
       "      <td>2.58</td>\n",
       "      <td>...</td>\n",
       "      <td>70.980003</td>\n",
       "      <td>63.029999</td>\n",
       "      <td>52.709999</td>\n",
       "      <td>65.237503</td>\n",
       "      <td>55.639999</td>\n",
       "      <td>108.139999</td>\n",
       "      <td>17.559999</td>\n",
       "      <td>42.200001</td>\n",
       "      <td>35.415020</td>\n",
       "      <td>77.720001</td>\n",
       "    </tr>\n",
       "    <tr>\n",
       "      <th>2015-01-08</th>\n",
       "      <td>111.889999</td>\n",
       "      <td>89.879997</td>\n",
       "      <td>72.919998</td>\n",
       "      <td>54.759998</td>\n",
       "      <td>85.169998</td>\n",
       "      <td>287.929993</td>\n",
       "      <td>58.799999</td>\n",
       "      <td>61.570000</td>\n",
       "      <td>24.219999</td>\n",
       "      <td>2.61</td>\n",
       "      <td>...</td>\n",
       "      <td>74.199997</td>\n",
       "      <td>64.300003</td>\n",
       "      <td>53.570000</td>\n",
       "      <td>66.112503</td>\n",
       "      <td>56.880001</td>\n",
       "      <td>110.379997</td>\n",
       "      <td>17.910000</td>\n",
       "      <td>43.139999</td>\n",
       "      <td>36.389988</td>\n",
       "      <td>79.379997</td>\n",
       "    </tr>\n",
       "  </tbody>\n",
       "</table>\n",
       "<p>5 rows × 71 columns</p>\n",
       "</div>"
      ],
      "text/plain": [
       "                  AAPL        ACN       ADBE        ADI        ADP  \\\n",
       "Date                                                                 \n",
       "2015-01-02  109.330002  88.839996  72.339996  55.540001  83.290001   \n",
       "2015-01-05  106.250000  87.339996  71.980003  54.529999  83.230003   \n",
       "2015-01-06  106.260002  86.709999  70.529999  53.250000  82.540001   \n",
       "2015-01-07  107.750000  88.529999  71.110001  53.810001  83.260002   \n",
       "2015-01-08  111.889999  89.879997  72.919998  54.759998  85.169998   \n",
       "\n",
       "                   ADS       ADSK       AKAM       AMAT   AMD  ...       SWKS  \\\n",
       "Date                                                           ...              \n",
       "2015-01-02  285.369995  59.529999  63.250000  24.959999  2.67  ...  73.320000   \n",
       "2015-01-05  281.399994  58.660000  61.939999  24.160000  2.66  ...  72.129997   \n",
       "2015-01-06  277.820007  57.500000  60.669998  23.250000  2.63  ...  69.830002   \n",
       "2015-01-07  279.950012  57.380001  60.160000  23.469999  2.58  ...  70.980003   \n",
       "2015-01-08  287.929993  58.799999  61.570000  24.219999  2.61  ...  74.199997   \n",
       "\n",
       "                  TEL        TXN          V       VRSN         WDC         WU  \\\n",
       "Date                                                                            \n",
       "2015-01-02  63.169998  53.480000  66.254997  57.189999  110.430000  17.930000   \n",
       "2015-01-05  61.939999  52.650002  64.792503  56.240002  108.970001  17.760000   \n",
       "2015-01-06  61.189999  51.779999  64.375000  55.180000  106.540001  17.730000   \n",
       "2015-01-07  63.029999  52.709999  65.237503  55.639999  108.139999  17.559999   \n",
       "2015-01-08  64.300003  53.570000  66.112503  56.880001  110.379997  17.910000   \n",
       "\n",
       "                 XLNX        XRX       ZBRA  \n",
       "Date                                         \n",
       "2015-01-02  43.599998  36.231884  77.430000  \n",
       "2015-01-05  42.799999  35.441372  76.339996  \n",
       "2015-01-06  42.180000  34.967060  75.790001  \n",
       "2015-01-07  42.200001  35.415020  77.720001  \n",
       "2015-01-08  43.139999  36.389988  79.379997  \n",
       "\n",
       "[5 rows x 71 columns]"
      ]
     },
     "execution_count": 12,
     "metadata": {},
     "output_type": "execute_result"
    }
   ],
   "source": [
    "tech_price_close=pd.read_csv('XLK_Closing_Price',index_col=0)\n",
    "tech_price_open =pd.read_csv('XLK_Opening_price',index_col=0)\n",
    "\n",
    "tech_price_close.head()"
   ]
  },
  {
   "cell_type": "code",
   "execution_count": 13,
   "metadata": {},
   "outputs": [
    {
     "data": {
      "text/plain": [
       "(1342, 71)"
      ]
     },
     "execution_count": 13,
     "metadata": {},
     "output_type": "execute_result"
    }
   ],
   "source": [
    "tech_price_close.shape"
   ]
  },
  {
   "cell_type": "code",
   "execution_count": 136,
   "metadata": {},
   "outputs": [],
   "source": [
    "tech_daily_returns=np.log(tech_price_close).diff()"
   ]
  },
  {
   "cell_type": "code",
   "execution_count": 137,
   "metadata": {},
   "outputs": [
    {
     "name": "stdout",
     "output_type": "stream",
     "text": [
      "(1141, 70)\n",
      "\n",
      "\n"
     ]
    },
    {
     "data": {
      "text/html": [
       "<div>\n",
       "<style scoped>\n",
       "    .dataframe tbody tr th:only-of-type {\n",
       "        vertical-align: middle;\n",
       "    }\n",
       "\n",
       "    .dataframe tbody tr th {\n",
       "        vertical-align: top;\n",
       "    }\n",
       "\n",
       "    .dataframe thead th {\n",
       "        text-align: right;\n",
       "    }\n",
       "</style>\n",
       "<table border=\"1\" class=\"dataframe\">\n",
       "  <thead>\n",
       "    <tr style=\"text-align: right;\">\n",
       "      <th></th>\n",
       "      <th>AAPL</th>\n",
       "      <th>ACN</th>\n",
       "      <th>ADBE</th>\n",
       "      <th>ADI</th>\n",
       "      <th>ADP</th>\n",
       "      <th>ADS</th>\n",
       "      <th>ADSK</th>\n",
       "      <th>AKAM</th>\n",
       "      <th>AMAT</th>\n",
       "      <th>AMD</th>\n",
       "      <th>...</th>\n",
       "      <th>SWKS</th>\n",
       "      <th>TEL</th>\n",
       "      <th>TXN</th>\n",
       "      <th>V</th>\n",
       "      <th>VRSN</th>\n",
       "      <th>WDC</th>\n",
       "      <th>WU</th>\n",
       "      <th>XLNX</th>\n",
       "      <th>XRX</th>\n",
       "      <th>ZBRA</th>\n",
       "    </tr>\n",
       "    <tr>\n",
       "      <th>Date</th>\n",
       "      <th></th>\n",
       "      <th></th>\n",
       "      <th></th>\n",
       "      <th></th>\n",
       "      <th></th>\n",
       "      <th></th>\n",
       "      <th></th>\n",
       "      <th></th>\n",
       "      <th></th>\n",
       "      <th></th>\n",
       "      <th></th>\n",
       "      <th></th>\n",
       "      <th></th>\n",
       "      <th></th>\n",
       "      <th></th>\n",
       "      <th></th>\n",
       "      <th></th>\n",
       "      <th></th>\n",
       "      <th></th>\n",
       "      <th></th>\n",
       "      <th></th>\n",
       "    </tr>\n",
       "  </thead>\n",
       "  <tbody>\n",
       "    <tr>\n",
       "      <th>2015-10-20</th>\n",
       "      <td>0.018094</td>\n",
       "      <td>0.003582</td>\n",
       "      <td>-0.017805</td>\n",
       "      <td>0.002985</td>\n",
       "      <td>0.001374</td>\n",
       "      <td>0.003279</td>\n",
       "      <td>-0.008426</td>\n",
       "      <td>0.021077</td>\n",
       "      <td>0.023751</td>\n",
       "      <td>0.004963</td>\n",
       "      <td>...</td>\n",
       "      <td>0.005893</td>\n",
       "      <td>0.008014</td>\n",
       "      <td>-0.003997</td>\n",
       "      <td>-0.009265</td>\n",
       "      <td>0.003834</td>\n",
       "      <td>-0.072389</td>\n",
       "      <td>-0.002624</td>\n",
       "      <td>0.000644</td>\n",
       "      <td>0.003918</td>\n",
       "      <td>-0.009537</td>\n",
       "    </tr>\n",
       "    <tr>\n",
       "      <th>2015-10-21</th>\n",
       "      <td>-0.000088</td>\n",
       "      <td>-0.009224</td>\n",
       "      <td>-0.008210</td>\n",
       "      <td>0.022105</td>\n",
       "      <td>0.000343</td>\n",
       "      <td>-0.018172</td>\n",
       "      <td>-0.016872</td>\n",
       "      <td>-0.010623</td>\n",
       "      <td>-0.007440</td>\n",
       "      <td>0.038840</td>\n",
       "      <td>...</td>\n",
       "      <td>-0.007951</td>\n",
       "      <td>-0.043343</td>\n",
       "      <td>-0.010160</td>\n",
       "      <td>-0.010808</td>\n",
       "      <td>-0.017704</td>\n",
       "      <td>-0.046762</td>\n",
       "      <td>0.002100</td>\n",
       "      <td>0.002144</td>\n",
       "      <td>-0.006866</td>\n",
       "      <td>-0.016285</td>\n",
       "    </tr>\n",
       "    <tr>\n",
       "      <th>2015-10-22</th>\n",
       "      <td>0.015180</td>\n",
       "      <td>0.037711</td>\n",
       "      <td>0.026693</td>\n",
       "      <td>0.026370</td>\n",
       "      <td>0.025292</td>\n",
       "      <td>0.065098</td>\n",
       "      <td>0.028155</td>\n",
       "      <td>0.019069</td>\n",
       "      <td>0.008674</td>\n",
       "      <td>0.018869</td>\n",
       "      <td>...</td>\n",
       "      <td>0.050463</td>\n",
       "      <td>0.035644</td>\n",
       "      <td>0.112675</td>\n",
       "      <td>0.012642</td>\n",
       "      <td>0.012678</td>\n",
       "      <td>-0.020934</td>\n",
       "      <td>0.030470</td>\n",
       "      <td>0.019933</td>\n",
       "      <td>0.012714</td>\n",
       "      <td>0.010794</td>\n",
       "    </tr>\n",
       "    <tr>\n",
       "      <th>2015-10-23</th>\n",
       "      <td>0.030525</td>\n",
       "      <td>0.014269</td>\n",
       "      <td>-0.006806</td>\n",
       "      <td>0.003464</td>\n",
       "      <td>0.009322</td>\n",
       "      <td>0.004675</td>\n",
       "      <td>-0.003810</td>\n",
       "      <td>0.021145</td>\n",
       "      <td>0.014089</td>\n",
       "      <td>0.032187</td>\n",
       "      <td>...</td>\n",
       "      <td>0.010473</td>\n",
       "      <td>0.007229</td>\n",
       "      <td>0.015205</td>\n",
       "      <td>0.008470</td>\n",
       "      <td>0.061334</td>\n",
       "      <td>-0.008902</td>\n",
       "      <td>0.005074</td>\n",
       "      <td>-0.009917</td>\n",
       "      <td>0.004847</td>\n",
       "      <td>0.045606</td>\n",
       "    </tr>\n",
       "    <tr>\n",
       "      <th>2015-10-26</th>\n",
       "      <td>-0.032432</td>\n",
       "      <td>-0.000185</td>\n",
       "      <td>0.011092</td>\n",
       "      <td>-0.033403</td>\n",
       "      <td>-0.004650</td>\n",
       "      <td>-0.003216</td>\n",
       "      <td>0.023020</td>\n",
       "      <td>0.017264</td>\n",
       "      <td>-0.006714</td>\n",
       "      <td>-0.027525</td>\n",
       "      <td>...</td>\n",
       "      <td>-0.057850</td>\n",
       "      <td>-0.000470</td>\n",
       "      <td>-0.002886</td>\n",
       "      <td>0.014300</td>\n",
       "      <td>0.003610</td>\n",
       "      <td>-0.031944</td>\n",
       "      <td>-0.006091</td>\n",
       "      <td>0.013480</td>\n",
       "      <td>-0.030439</td>\n",
       "      <td>0.002627</td>\n",
       "    </tr>\n",
       "  </tbody>\n",
       "</table>\n",
       "<p>5 rows × 70 columns</p>\n",
       "</div>"
      ],
      "text/plain": [
       "                AAPL       ACN      ADBE       ADI       ADP       ADS  \\\n",
       "Date                                                                     \n",
       "2015-10-20  0.018094  0.003582 -0.017805  0.002985  0.001374  0.003279   \n",
       "2015-10-21 -0.000088 -0.009224 -0.008210  0.022105  0.000343 -0.018172   \n",
       "2015-10-22  0.015180  0.037711  0.026693  0.026370  0.025292  0.065098   \n",
       "2015-10-23  0.030525  0.014269 -0.006806  0.003464  0.009322  0.004675   \n",
       "2015-10-26 -0.032432 -0.000185  0.011092 -0.033403 -0.004650 -0.003216   \n",
       "\n",
       "                ADSK      AKAM      AMAT       AMD  ...      SWKS       TEL  \\\n",
       "Date                                                ...                       \n",
       "2015-10-20 -0.008426  0.021077  0.023751  0.004963  ...  0.005893  0.008014   \n",
       "2015-10-21 -0.016872 -0.010623 -0.007440  0.038840  ... -0.007951 -0.043343   \n",
       "2015-10-22  0.028155  0.019069  0.008674  0.018869  ...  0.050463  0.035644   \n",
       "2015-10-23 -0.003810  0.021145  0.014089  0.032187  ...  0.010473  0.007229   \n",
       "2015-10-26  0.023020  0.017264 -0.006714 -0.027525  ... -0.057850 -0.000470   \n",
       "\n",
       "                 TXN         V      VRSN       WDC        WU      XLNX  \\\n",
       "Date                                                                     \n",
       "2015-10-20 -0.003997 -0.009265  0.003834 -0.072389 -0.002624  0.000644   \n",
       "2015-10-21 -0.010160 -0.010808 -0.017704 -0.046762  0.002100  0.002144   \n",
       "2015-10-22  0.112675  0.012642  0.012678 -0.020934  0.030470  0.019933   \n",
       "2015-10-23  0.015205  0.008470  0.061334 -0.008902  0.005074 -0.009917   \n",
       "2015-10-26 -0.002886  0.014300  0.003610 -0.031944 -0.006091  0.013480   \n",
       "\n",
       "                 XRX      ZBRA  \n",
       "Date                            \n",
       "2015-10-20  0.003918 -0.009537  \n",
       "2015-10-21 -0.006866 -0.016285  \n",
       "2015-10-22  0.012714  0.010794  \n",
       "2015-10-23  0.004847  0.045606  \n",
       "2015-10-26 -0.030439  0.002627  \n",
       "\n",
       "[5 rows x 70 columns]"
      ]
     },
     "execution_count": 137,
     "metadata": {},
     "output_type": "execute_result"
    }
   ],
   "source": [
    "tech_daily_returns.drop('NLOK',inplace=True,axis=1)\n",
    "tech_daily_returns.dropna(inplace=True)\n",
    "print(tech_daily_returns.shape)\n",
    "print()\n",
    "print()\n",
    "tech_daily_returns.head()"
   ]
  },
  {
   "cell_type": "markdown",
   "metadata": {},
   "source": [
    "# Clustering Analysis"
   ]
  },
  {
   "cell_type": "code",
   "execution_count": 138,
   "metadata": {},
   "outputs": [
    {
     "data": {
      "text/html": [
       "<div>\n",
       "<style scoped>\n",
       "    .dataframe tbody tr th:only-of-type {\n",
       "        vertical-align: middle;\n",
       "    }\n",
       "\n",
       "    .dataframe tbody tr th {\n",
       "        vertical-align: top;\n",
       "    }\n",
       "\n",
       "    .dataframe thead th {\n",
       "        text-align: right;\n",
       "    }\n",
       "</style>\n",
       "<table border=\"1\" class=\"dataframe\">\n",
       "  <thead>\n",
       "    <tr style=\"text-align: right;\">\n",
       "      <th>Date</th>\n",
       "      <th>2015-10-20</th>\n",
       "      <th>2015-10-21</th>\n",
       "      <th>2015-10-22</th>\n",
       "      <th>2015-10-23</th>\n",
       "      <th>2015-10-26</th>\n",
       "      <th>2015-10-27</th>\n",
       "      <th>2015-10-28</th>\n",
       "      <th>2015-10-29</th>\n",
       "      <th>2015-10-30</th>\n",
       "      <th>2015-11-02</th>\n",
       "      <th>...</th>\n",
       "      <th>2020-04-20</th>\n",
       "      <th>2020-04-21</th>\n",
       "      <th>2020-04-22</th>\n",
       "      <th>2020-04-23</th>\n",
       "      <th>2020-04-24</th>\n",
       "      <th>2020-04-27</th>\n",
       "      <th>2020-04-28</th>\n",
       "      <th>2020-04-29</th>\n",
       "      <th>2020-04-30</th>\n",
       "      <th>2020-05-01</th>\n",
       "    </tr>\n",
       "  </thead>\n",
       "  <tbody>\n",
       "    <tr>\n",
       "      <th>AAPL</th>\n",
       "      <td>0.029354</td>\n",
       "      <td>-0.000143</td>\n",
       "      <td>0.024627</td>\n",
       "      <td>0.049522</td>\n",
       "      <td>-0.052616</td>\n",
       "      <td>-0.010306</td>\n",
       "      <td>0.065508</td>\n",
       "      <td>0.017049</td>\n",
       "      <td>-0.013924</td>\n",
       "      <td>0.022649</td>\n",
       "      <td>...</td>\n",
       "      <td>-0.034029</td>\n",
       "      <td>-0.050939</td>\n",
       "      <td>0.046069</td>\n",
       "      <td>-0.006300</td>\n",
       "      <td>0.046173</td>\n",
       "      <td>0.001146</td>\n",
       "      <td>-0.026513</td>\n",
       "      <td>0.052430</td>\n",
       "      <td>0.033869</td>\n",
       "      <td>-0.026331</td>\n",
       "    </tr>\n",
       "    <tr>\n",
       "      <th>ACN</th>\n",
       "      <td>0.006810</td>\n",
       "      <td>-0.017535</td>\n",
       "      <td>0.071692</td>\n",
       "      <td>0.027127</td>\n",
       "      <td>-0.000352</td>\n",
       "      <td>-0.001762</td>\n",
       "      <td>0.032501</td>\n",
       "      <td>-0.031091</td>\n",
       "      <td>-0.013254</td>\n",
       "      <td>0.007080</td>\n",
       "      <td>...</td>\n",
       "      <td>-0.003804</td>\n",
       "      <td>-0.094800</td>\n",
       "      <td>0.068177</td>\n",
       "      <td>0.006498</td>\n",
       "      <td>0.027941</td>\n",
       "      <td>0.042534</td>\n",
       "      <td>-0.011371</td>\n",
       "      <td>0.095614</td>\n",
       "      <td>-0.024175</td>\n",
       "      <td>-0.053088</td>\n",
       "    </tr>\n",
       "    <tr>\n",
       "      <th>ADBE</th>\n",
       "      <td>-0.026585</td>\n",
       "      <td>-0.012258</td>\n",
       "      <td>0.039856</td>\n",
       "      <td>-0.010162</td>\n",
       "      <td>0.016562</td>\n",
       "      <td>-0.013337</td>\n",
       "      <td>0.007612</td>\n",
       "      <td>-0.006425</td>\n",
       "      <td>0.009122</td>\n",
       "      <td>0.020904</td>\n",
       "      <td>...</td>\n",
       "      <td>0.003337</td>\n",
       "      <td>-0.070430</td>\n",
       "      <td>0.034899</td>\n",
       "      <td>-0.006220</td>\n",
       "      <td>0.038371</td>\n",
       "      <td>0.018972</td>\n",
       "      <td>-0.065915</td>\n",
       "      <td>0.068783</td>\n",
       "      <td>0.018994</td>\n",
       "      <td>-0.041962</td>\n",
       "    </tr>\n",
       "    <tr>\n",
       "      <th>ADI</th>\n",
       "      <td>0.004390</td>\n",
       "      <td>0.032513</td>\n",
       "      <td>0.038787</td>\n",
       "      <td>0.005095</td>\n",
       "      <td>-0.049132</td>\n",
       "      <td>-0.003350</td>\n",
       "      <td>0.011218</td>\n",
       "      <td>-0.045395</td>\n",
       "      <td>0.003429</td>\n",
       "      <td>0.005373</td>\n",
       "      <td>...</td>\n",
       "      <td>-0.027294</td>\n",
       "      <td>-0.066185</td>\n",
       "      <td>0.083717</td>\n",
       "      <td>-0.004472</td>\n",
       "      <td>0.058211</td>\n",
       "      <td>0.029013</td>\n",
       "      <td>-0.005730</td>\n",
       "      <td>0.076307</td>\n",
       "      <td>-0.049355</td>\n",
       "      <td>-0.082242</td>\n",
       "    </tr>\n",
       "    <tr>\n",
       "      <th>ADP</th>\n",
       "      <td>0.002494</td>\n",
       "      <td>0.000623</td>\n",
       "      <td>0.045929</td>\n",
       "      <td>0.016928</td>\n",
       "      <td>-0.008444</td>\n",
       "      <td>0.004428</td>\n",
       "      <td>-0.049314</td>\n",
       "      <td>0.009272</td>\n",
       "      <td>-0.028376</td>\n",
       "      <td>0.000000</td>\n",
       "      <td>...</td>\n",
       "      <td>-0.016291</td>\n",
       "      <td>-0.082500</td>\n",
       "      <td>0.067895</td>\n",
       "      <td>-0.036767</td>\n",
       "      <td>0.043693</td>\n",
       "      <td>0.038585</td>\n",
       "      <td>0.010059</td>\n",
       "      <td>0.035585</td>\n",
       "      <td>0.010553</td>\n",
       "      <td>-0.079327</td>\n",
       "    </tr>\n",
       "  </tbody>\n",
       "</table>\n",
       "<p>5 rows × 1141 columns</p>\n",
       "</div>"
      ],
      "text/plain": [
       "Date  2015-10-20  2015-10-21  2015-10-22  2015-10-23  2015-10-26  2015-10-27  \\\n",
       "AAPL    0.029354   -0.000143    0.024627    0.049522   -0.052616   -0.010306   \n",
       "ACN     0.006810   -0.017535    0.071692    0.027127   -0.000352   -0.001762   \n",
       "ADBE   -0.026585   -0.012258    0.039856   -0.010162    0.016562   -0.013337   \n",
       "ADI     0.004390    0.032513    0.038787    0.005095   -0.049132   -0.003350   \n",
       "ADP     0.002494    0.000623    0.045929    0.016928   -0.008444    0.004428   \n",
       "\n",
       "Date  2015-10-28  2015-10-29  2015-10-30  2015-11-02  ...  2020-04-20  \\\n",
       "AAPL    0.065508    0.017049   -0.013924    0.022649  ...   -0.034029   \n",
       "ACN     0.032501   -0.031091   -0.013254    0.007080  ...   -0.003804   \n",
       "ADBE    0.007612   -0.006425    0.009122    0.020904  ...    0.003337   \n",
       "ADI     0.011218   -0.045395    0.003429    0.005373  ...   -0.027294   \n",
       "ADP    -0.049314    0.009272   -0.028376    0.000000  ...   -0.016291   \n",
       "\n",
       "Date  2020-04-21  2020-04-22  2020-04-23  2020-04-24  2020-04-27  2020-04-28  \\\n",
       "AAPL   -0.050939    0.046069   -0.006300    0.046173    0.001146   -0.026513   \n",
       "ACN    -0.094800    0.068177    0.006498    0.027941    0.042534   -0.011371   \n",
       "ADBE   -0.070430    0.034899   -0.006220    0.038371    0.018972   -0.065915   \n",
       "ADI    -0.066185    0.083717   -0.004472    0.058211    0.029013   -0.005730   \n",
       "ADP    -0.082500    0.067895   -0.036767    0.043693    0.038585    0.010059   \n",
       "\n",
       "Date  2020-04-29  2020-04-30  2020-05-01  \n",
       "AAPL    0.052430    0.033869   -0.026331  \n",
       "ACN     0.095614   -0.024175   -0.053088  \n",
       "ADBE    0.068783    0.018994   -0.041962  \n",
       "ADI     0.076307   -0.049355   -0.082242  \n",
       "ADP     0.035585    0.010553   -0.079327  \n",
       "\n",
       "[5 rows x 1141 columns]"
      ]
     },
     "execution_count": 138,
     "metadata": {},
     "output_type": "execute_result"
    }
   ],
   "source": [
    "from sklearn.preprocessing import normalize\n",
    "data_scaled = normalize(tech_daily_returns,axis=0)\n",
    "data_scaled = pd.DataFrame(data_scaled, columns=tech_daily_returns.columns,index=tech_daily_returns.index)\n",
    "data_scaledT=data_scaled.T\n",
    "del data_scaledT.index.name\n",
    "data_scaledT.head()"
   ]
  },
  {
   "cell_type": "code",
   "execution_count": 139,
   "metadata": {},
   "outputs": [
    {
     "data": {
      "image/png": "[encoded data removed]",
      "text/plain": [
       "<Figure size 1152x720 with 1 Axes>"
      ]
     },
     "metadata": {},
     "output_type": "display_data"
    }
   ],
   "source": [
    "import scipy.cluster.hierarchy as shc\n",
    "plt.figure(figsize=(16, 10))  \n",
    "plt.title(\"Dendrograms\")  \n",
    "dend = shc.dendrogram(shc.linkage(data_scaledT, method='ward'),labels=data_scaledT.index,\n",
    "                      leaf_rotation=90,leaf_font_size=10)"
   ]
  },
  {
   "cell_type": "code",
   "execution_count": 140,
   "metadata": {},
   "outputs": [
    {
     "data": {
      "text/plain": [
       "<matplotlib.lines.Line2D at 0x1fe5b63f080>"
      ]
     },
     "execution_count": 140,
     "metadata": {},
     "output_type": "execute_result"
    },
    {
     "data": {
      "image/png": "[encoded data removed]",
      "text/plain": [
       "<Figure size 1152x864 with 1 Axes>"
      ]
     },
     "metadata": {},
     "output_type": "display_data"
    }
   ],
   "source": [
    "plt.figure(figsize=(16, 12))  \n",
    "plt.title(\"Dendrograms\")  \n",
    "dend = shc.dendrogram(shc.linkage(data_scaledT, method='ward'),labels=data_scaledT.index,leaf_font_size=9)\n",
    "plt.axhline(y=1, color='r', linestyle='--')"
   ]
  },
  {
   "cell_type": "code",
   "execution_count": 202,
   "metadata": {},
   "outputs": [
    {
     "data": {
      "text/plain": [
       "array([2, 2, 0, ..., 0, 1, 1], dtype=int64)"
      ]
     },
     "execution_count": 202,
     "metadata": {},
     "output_type": "execute_result"
    }
   ],
   "source": [
    "from sklearn.cluster import AgglomerativeClustering\n",
    "cluster = AgglomerativeClustering(n_clusters=3, affinity='euclidean', linkage='ward')  \n",
    "cluster.fit_predict(data_scaled)"
   ]
  },
  {
   "cell_type": "code",
   "execution_count": 203,
   "metadata": {},
   "outputs": [
    {
     "data": {
      "text/plain": [
       "<matplotlib.collections.PathCollection at 0x1fe6247c2b0>"
      ]
     },
     "execution_count": 203,
     "metadata": {},
     "output_type": "execute_result"
    },
    {
     "data": {
      "image/png": "[encoded data removed]",
      "text/plain": [
       "<Figure size 720x504 with 1 Axes>"
      ]
     },
     "metadata": {},
     "output_type": "display_data"
    }
   ],
   "source": [
    "plt.figure(figsize=(10, 7))\n",
    "plt.scatter(data_scaled.iloc[:,0], data_scaled.iloc[:,1], c=cluster.labels_, cmap='rainbow')"
   ]
  },
  {
   "cell_type": "markdown",
   "metadata": {},
   "source": [
    "# PCA Analysis"
   ]
  },
  {
   "cell_type": "code",
   "execution_count": 204,
   "metadata": {},
   "outputs": [],
   "source": [
    "from sklearn.decomposition import PCA as sklearnPCA"
   ]
  },
  {
   "cell_type": "code",
   "execution_count": 205,
   "metadata": {},
   "outputs": [],
   "source": [
    "sklearn_pca = sklearnPCA(n_components=10)"
   ]
  },
  {
   "cell_type": "code",
   "execution_count": 206,
   "metadata": {},
   "outputs": [],
   "source": [
    "pca=sklearn_pca.fit(tech_daily_returns)"
   ]
  },
  {
   "cell_type": "code",
   "execution_count": 207,
   "metadata": {},
   "outputs": [
    {
     "data": {
      "image/png": "[encoded data removed]",
      "text/plain": [
       "<Figure size 432x288 with 1 Axes>"
      ]
     },
     "metadata": {},
     "output_type": "display_data"
    }
   ],
   "source": [
    "percent_variance = np.round(pca.explained_variance_ratio_, decimals =2)\n",
    "columns = [\"PC\"+str(i) for i in range(1,11)]\n",
    "plt.bar(x= range(1,11), height=percent_variance, tick_label=columns)\n",
    "plt.plot(np.cumsum(pca.explained_variance_ratio_),color='orange',marker='o')\n",
    "plt.ylabel('Percentate of Variance Explained')\n",
    "plt.xlabel('Principal Component')\n",
    "plt.title('PCA Scree Plot')\n",
    "plt.show()"
   ]
  },
  {
   "cell_type": "code",
   "execution_count": 208,
   "metadata": {},
   "outputs": [],
   "source": [
    "pca_loadings=pd.DataFrame(data=pca.components_,columns=tech_daily_returns.columns)"
   ]
  },
  {
   "cell_type": "code",
   "execution_count": 220,
   "metadata": {},
   "outputs": [
    {
     "data": {
      "image/png": "[encoded data removed]",
      "text/plain": [
       "<Figure size 1008x576 with 1 Axes>"
      ]
     },
     "metadata": {},
     "output_type": "display_data"
    }
   ],
   "source": [
    "plt.figure(figsize=(12,6))\n",
    "plt.xticks(rotation='vertical')\n",
    "plt.margins(0.02)\n",
    "(pca_loadings.iloc[0]*-1).sort_values(ascending=False).plot.bar(figsize=(14,8),width=0.1,color='grey')\n",
    "plt.show()"
   ]
  },
  {
   "cell_type": "code",
   "execution_count": 221,
   "metadata": {},
   "outputs": [
    {
     "data": {
      "image/png": "[encoded data removed]",
      "text/plain": [
       "<Figure size 1008x576 with 1 Axes>"
      ]
     },
     "metadata": {},
     "output_type": "display_data"
    }
   ],
   "source": [
    "plt.figure(figsize=(12,6))\n",
    "plt.xticks(rotation='vertical')\n",
    "plt.margins(0.01)\n",
    "(pca_loadings.iloc[1]).sort_values(ascending=False).plot.bar(figsize=(14,8),width=0.1,color='grey')\n",
    "plt.show()"
   ]
  },
  {
   "cell_type": "code",
   "execution_count": 211,
   "metadata": {},
   "outputs": [
    {
     "data": {
      "text/plain": [
       "<matplotlib.axes._subplots.AxesSubplot at 0x1fe5fc246a0>"
      ]
     },
     "execution_count": 211,
     "metadata": {},
     "output_type": "execute_result"
    },
    {
     "data": {
      "image/png": "[encoded data removed]",
      "text/plain": [
       "<Figure size 1008x576 with 1 Axes>"
      ]
     },
     "metadata": {},
     "output_type": "display_data"
    }
   ],
   "source": [
    "plt.figure(figsize=(14,8))\n",
    "plt.xticks(rotation='vertical')\n",
    "plt.margins(0.01)\n",
    "(pca_loadings.iloc[2]).sort_values(ascending=False).plot.bar(figsize=(14,8),width=0.1,color='grey')"
   ]
  },
  {
   "cell_type": "code",
   "execution_count": 307,
   "metadata": {},
   "outputs": [],
   "source": [
    "def find_pairs(df):\n",
    "    \"Return a list of pairs with different signs in PC1 and PC2\"\n",
    "    df=df.sort_values(0,axis=1)\n",
    "    columns=df.columns\n",
    "    Pairs=[]\n",
    "    for i in range(len(columns)-1):\n",
    "        if (df.iloc[0,i]-df.iloc[0,i+1]<=0.001 \n",
    "            and np.sign(df.iloc[1,i])!=np.sign(df.iloc[1,i+1])\n",
    "            and np.absolute(df.iloc[1,i]+df.iloc[1,i+1])<=0.05):\n",
    "            Pairs.append([df.columns[i],df.columns[i+1]])\n",
    "            \n",
    "    return Pairs"
   ]
  },
  {
   "cell_type": "code",
   "execution_count": 308,
   "metadata": {},
   "outputs": [],
   "source": [
    "pairs=find_pairs(pca_loadings)"
   ]
  },
  {
   "cell_type": "code",
   "execution_count": 309,
   "metadata": {},
   "outputs": [
    {
     "data": {
      "text/plain": [
       "<matplotlib.axes._subplots.AxesSubplot at 0x1fe663cb320>"
      ]
     },
     "execution_count": 309,
     "metadata": {},
     "output_type": "execute_result"
    },
    {
     "data": {
      "image/png": "[encoded data removed]",
      "text/plain": [
       "<Figure size 432x288 with 1 Axes>"
      ]
     },
     "metadata": {},
     "output_type": "display_data"
    }
   ],
   "source": [
    "pca_loadings[pairs[0]].plot.bar()"
   ]
  },
  {
   "cell_type": "code",
   "execution_count": 310,
   "metadata": {},
   "outputs": [
    {
     "data": {
      "text/plain": [
       "[['KLAC', 'ADSK'],\n",
       " ['INTC', 'ADBE'],\n",
       " ['ADBE', 'TXN'],\n",
       " ['XLNX', 'CRM'],\n",
       " ['HPE', 'NTAP'],\n",
       " ['XRX', 'QCOM'],\n",
       " ['QCOM', 'CDNS'],\n",
       " ['CDNS', 'KEYS']]"
      ]
     },
     "execution_count": 310,
     "metadata": {},
     "output_type": "execute_result"
    }
   ],
   "source": [
    "pairs"
   ]
  },
  {
   "cell_type": "code",
   "execution_count": 311,
   "metadata": {},
   "outputs": [],
   "source": [
    "pd_pairs=pd.Series(np.array(pairs).flatten().tolist())\n",
    "pd_pairs.name='Symbol'"
   ]
  },
  {
   "cell_type": "code",
   "execution_count": 312,
   "metadata": {},
   "outputs": [
    {
     "data": {
      "text/html": [
       "<div>\n",
       "<style scoped>\n",
       "    .dataframe tbody tr th:only-of-type {\n",
       "        vertical-align: middle;\n",
       "    }\n",
       "\n",
       "    .dataframe tbody tr th {\n",
       "        vertical-align: top;\n",
       "    }\n",
       "\n",
       "    .dataframe thead th {\n",
       "        text-align: right;\n",
       "    }\n",
       "</style>\n",
       "<table border=\"1\" class=\"dataframe\">\n",
       "  <thead>\n",
       "    <tr style=\"text-align: right;\">\n",
       "      <th></th>\n",
       "      <th>Symbol</th>\n",
       "      <th>GICS Sector</th>\n",
       "      <th>GICS Sub Industry</th>\n",
       "    </tr>\n",
       "  </thead>\n",
       "  <tbody>\n",
       "    <tr>\n",
       "      <th>0</th>\n",
       "      <td>KLAC</td>\n",
       "      <td>Information Technology</td>\n",
       "      <td>Semiconductor Equipment</td>\n",
       "    </tr>\n",
       "    <tr>\n",
       "      <th>1</th>\n",
       "      <td>ADSK</td>\n",
       "      <td>Information Technology</td>\n",
       "      <td>Application Software</td>\n",
       "    </tr>\n",
       "    <tr>\n",
       "      <th>2</th>\n",
       "      <td>INTC</td>\n",
       "      <td>Information Technology</td>\n",
       "      <td>Semiconductors</td>\n",
       "    </tr>\n",
       "    <tr>\n",
       "      <th>3</th>\n",
       "      <td>ADBE</td>\n",
       "      <td>Information Technology</td>\n",
       "      <td>Application Software</td>\n",
       "    </tr>\n",
       "    <tr>\n",
       "      <th>4</th>\n",
       "      <td>ADBE</td>\n",
       "      <td>Information Technology</td>\n",
       "      <td>Application Software</td>\n",
       "    </tr>\n",
       "    <tr>\n",
       "      <th>5</th>\n",
       "      <td>TXN</td>\n",
       "      <td>Information Technology</td>\n",
       "      <td>Semiconductors</td>\n",
       "    </tr>\n",
       "    <tr>\n",
       "      <th>6</th>\n",
       "      <td>XLNX</td>\n",
       "      <td>Information Technology</td>\n",
       "      <td>Semiconductors</td>\n",
       "    </tr>\n",
       "    <tr>\n",
       "      <th>7</th>\n",
       "      <td>CRM</td>\n",
       "      <td>Information Technology</td>\n",
       "      <td>Application Software</td>\n",
       "    </tr>\n",
       "    <tr>\n",
       "      <th>8</th>\n",
       "      <td>HPE</td>\n",
       "      <td>Information Technology</td>\n",
       "      <td>Technology Hardware, Storage &amp; Peripherals</td>\n",
       "    </tr>\n",
       "    <tr>\n",
       "      <th>9</th>\n",
       "      <td>NTAP</td>\n",
       "      <td>Information Technology</td>\n",
       "      <td>Technology Hardware, Storage &amp; Peripherals</td>\n",
       "    </tr>\n",
       "    <tr>\n",
       "      <th>10</th>\n",
       "      <td>XRX</td>\n",
       "      <td>Information Technology</td>\n",
       "      <td>Technology Hardware, Storage &amp; Peripherals</td>\n",
       "    </tr>\n",
       "    <tr>\n",
       "      <th>11</th>\n",
       "      <td>QCOM</td>\n",
       "      <td>Information Technology</td>\n",
       "      <td>Semiconductors</td>\n",
       "    </tr>\n",
       "    <tr>\n",
       "      <th>12</th>\n",
       "      <td>QCOM</td>\n",
       "      <td>Information Technology</td>\n",
       "      <td>Semiconductors</td>\n",
       "    </tr>\n",
       "    <tr>\n",
       "      <th>13</th>\n",
       "      <td>CDNS</td>\n",
       "      <td>Information Technology</td>\n",
       "      <td>Application Software</td>\n",
       "    </tr>\n",
       "    <tr>\n",
       "      <th>14</th>\n",
       "      <td>CDNS</td>\n",
       "      <td>Information Technology</td>\n",
       "      <td>Application Software</td>\n",
       "    </tr>\n",
       "    <tr>\n",
       "      <th>15</th>\n",
       "      <td>KEYS</td>\n",
       "      <td>Information Technology</td>\n",
       "      <td>Electronic Equipment &amp; Instruments</td>\n",
       "    </tr>\n",
       "  </tbody>\n",
       "</table>\n",
       "</div>"
      ],
      "text/plain": [
       "   Symbol             GICS Sector                           GICS Sub Industry\n",
       "0    KLAC  Information Technology                     Semiconductor Equipment\n",
       "1    ADSK  Information Technology                        Application Software\n",
       "2    INTC  Information Technology                              Semiconductors\n",
       "3    ADBE  Information Technology                        Application Software\n",
       "4    ADBE  Information Technology                        Application Software\n",
       "5     TXN  Information Technology                              Semiconductors\n",
       "6    XLNX  Information Technology                              Semiconductors\n",
       "7     CRM  Information Technology                        Application Software\n",
       "8     HPE  Information Technology  Technology Hardware, Storage & Peripherals\n",
       "9    NTAP  Information Technology  Technology Hardware, Storage & Peripherals\n",
       "10    XRX  Information Technology  Technology Hardware, Storage & Peripherals\n",
       "11   QCOM  Information Technology                              Semiconductors\n",
       "12   QCOM  Information Technology                              Semiconductors\n",
       "13   CDNS  Information Technology                        Application Software\n",
       "14   CDNS  Information Technology                        Application Software\n",
       "15   KEYS  Information Technology          Electronic Equipment & Instruments"
      ]
     },
     "execution_count": 312,
     "metadata": {},
     "output_type": "execute_result"
    }
   ],
   "source": [
    "pd.merge(pd_pairs,df,on='Symbol')"
   ]
  },
  {
   "cell_type": "code",
   "execution_count": 314,
   "metadata": {},
   "outputs": [
    {
     "data": {
      "text/html": [
       "<div>\n",
       "<style scoped>\n",
       "    .dataframe tbody tr th:only-of-type {\n",
       "        vertical-align: middle;\n",
       "    }\n",
       "\n",
       "    .dataframe tbody tr th {\n",
       "        vertical-align: top;\n",
       "    }\n",
       "\n",
       "    .dataframe thead th {\n",
       "        text-align: right;\n",
       "    }\n",
       "</style>\n",
       "<table border=\"1\" class=\"dataframe\">\n",
       "  <thead>\n",
       "    <tr style=\"text-align: right;\">\n",
       "      <th></th>\n",
       "      <th>KLAC</th>\n",
       "      <th>ADSK</th>\n",
       "    </tr>\n",
       "  </thead>\n",
       "  <tbody>\n",
       "    <tr>\n",
       "      <th>0</th>\n",
       "      <td>-0.142108</td>\n",
       "      <td>-0.138538</td>\n",
       "    </tr>\n",
       "    <tr>\n",
       "      <th>1</th>\n",
       "      <td>0.073872</td>\n",
       "      <td>-0.030789</td>\n",
       "    </tr>\n",
       "    <tr>\n",
       "      <th>2</th>\n",
       "      <td>0.048870</td>\n",
       "      <td>-0.125690</td>\n",
       "    </tr>\n",
       "    <tr>\n",
       "      <th>3</th>\n",
       "      <td>0.127420</td>\n",
       "      <td>0.030652</td>\n",
       "    </tr>\n",
       "    <tr>\n",
       "      <th>4</th>\n",
       "      <td>0.158891</td>\n",
       "      <td>-0.004752</td>\n",
       "    </tr>\n",
       "    <tr>\n",
       "      <th>5</th>\n",
       "      <td>0.009731</td>\n",
       "      <td>-0.155490</td>\n",
       "    </tr>\n",
       "    <tr>\n",
       "      <th>6</th>\n",
       "      <td>-0.118611</td>\n",
       "      <td>0.097632</td>\n",
       "    </tr>\n",
       "    <tr>\n",
       "      <th>7</th>\n",
       "      <td>0.063965</td>\n",
       "      <td>-0.047999</td>\n",
       "    </tr>\n",
       "    <tr>\n",
       "      <th>8</th>\n",
       "      <td>-0.132636</td>\n",
       "      <td>0.083274</td>\n",
       "    </tr>\n",
       "    <tr>\n",
       "      <th>9</th>\n",
       "      <td>-0.095077</td>\n",
       "      <td>-0.142214</td>\n",
       "    </tr>\n",
       "  </tbody>\n",
       "</table>\n",
       "</div>"
      ],
      "text/plain": [
       "       KLAC      ADSK\n",
       "0 -0.142108 -0.138538\n",
       "1  0.073872 -0.030789\n",
       "2  0.048870 -0.125690\n",
       "3  0.127420  0.030652\n",
       "4  0.158891 -0.004752\n",
       "5  0.009731 -0.155490\n",
       "6 -0.118611  0.097632\n",
       "7  0.063965 -0.047999\n",
       "8 -0.132636  0.083274\n",
       "9 -0.095077 -0.142214"
      ]
     },
     "execution_count": 314,
     "metadata": {},
     "output_type": "execute_result"
    }
   ],
   "source": [
    "pca_loadings[['KLAC','ADSK']]"
   ]
  },
  {
   "cell_type": "markdown",
   "metadata": {},
   "source": [
    "# Cointegration Test "
   ]
  },
  {
   "cell_type": "code",
   "execution_count": 315,
   "metadata": {},
   "outputs": [],
   "source": [
    "import statsmodels\n",
    "from statsmodels.tsa.stattools import coint\n",
    "# just set the seed for the random number generator\n",
    "np.random.seed(107)"
   ]
  },
  {
   "cell_type": "code",
   "execution_count": 320,
   "metadata": {},
   "outputs": [],
   "source": [
    "df_pairs=pd.DataFrame(pairs,columns=['S1','S2'])"
   ]
  },
  {
   "cell_type": "code",
   "execution_count": 338,
   "metadata": {},
   "outputs": [
    {
     "name": "stderr",
     "output_type": "stream",
     "text": [
      "C:\\Users\\HerveTwahirwa\\AppData\\Local\\Continuum\\anaconda3\\lib\\site-packages\\statsmodels\\tsa\\stattools.py:1036: UserWarning:\n",
      "\n",
      "y0 and y1 are (almost) perfectly colinear.Cointegration test is not reliable in this case.\n",
      "\n"
     ]
    }
   ],
   "source": [
    "df_pairs['pvalue']=df_pairs[['S1','S2']].apply((lambda row:\n",
    "                                                coint(tech_price_close[row['S1']],\n",
    "                                                      tech_price_close[row['S2']])[1]),axis=1)"
   ]
  },
  {
   "cell_type": "code",
   "execution_count": 342,
   "metadata": {},
   "outputs": [
    {
     "data": {
      "text/html": [
       "<div>\n",
       "<style scoped>\n",
       "    .dataframe tbody tr th:only-of-type {\n",
       "        vertical-align: middle;\n",
       "    }\n",
       "\n",
       "    .dataframe tbody tr th {\n",
       "        vertical-align: top;\n",
       "    }\n",
       "\n",
       "    .dataframe thead th {\n",
       "        text-align: right;\n",
       "    }\n",
       "</style>\n",
       "<table border=\"1\" class=\"dataframe\">\n",
       "  <thead>\n",
       "    <tr style=\"text-align: right;\">\n",
       "      <th></th>\n",
       "      <th>S1</th>\n",
       "      <th>S2</th>\n",
       "      <th>pvalue</th>\n",
       "    </tr>\n",
       "  </thead>\n",
       "  <tbody>\n",
       "    <tr>\n",
       "      <th>4</th>\n",
       "      <td>HPE</td>\n",
       "      <td>NTAP</td>\n",
       "      <td>0.000000</td>\n",
       "    </tr>\n",
       "    <tr>\n",
       "      <th>1</th>\n",
       "      <td>INTC</td>\n",
       "      <td>ADBE</td>\n",
       "      <td>0.004693</td>\n",
       "    </tr>\n",
       "    <tr>\n",
       "      <th>6</th>\n",
       "      <td>QCOM</td>\n",
       "      <td>CDNS</td>\n",
       "      <td>0.035127</td>\n",
       "    </tr>\n",
       "  </tbody>\n",
       "</table>\n",
       "</div>"
      ],
      "text/plain": [
       "     S1    S2    pvalue\n",
       "4   HPE  NTAP  0.000000\n",
       "1  INTC  ADBE  0.004693\n",
       "6  QCOM  CDNS  0.035127"
      ]
     },
     "execution_count": 342,
     "metadata": {},
     "output_type": "execute_result"
    }
   ],
   "source": [
    "df_pairs[df_pairs['pvalue']<0.05].sort_values('pvalue')"
   ]
  },
  {
   "cell_type": "code",
   "execution_count": null,
   "metadata": {},
   "outputs": [],
   "source": []
  }
 ],
 "metadata": {
  "kernelspec": {
   "display_name": "Python 3 (ipykernel)",
   "language": "python",
   "name": "python3"
  },
  "language_info": {
   "codemirror_mode": {
    "name": "ipython",
    "version": 3
   },
   "file_extension": ".py",
   "mimetype": "text/x-python",
   "name": "python",
   "nbconvert_exporter": "python",
   "pygments_lexer": "ipython3",
   "version": "3.8.13"
  }
 },
 "nbformat": 4,
 "nbformat_minor": 2
}
