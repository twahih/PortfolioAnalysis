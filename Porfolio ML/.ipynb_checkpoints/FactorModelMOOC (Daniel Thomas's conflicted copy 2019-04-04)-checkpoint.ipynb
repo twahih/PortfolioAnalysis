{
 "cells": [
  {
   "cell_type": "markdown",
   "metadata": {},
   "source": [
    "# Module 2: Factor Models\n",
    "\n",
    "In this module, we will explore linear factor models (LFMs). \n",
    "\n",
    "## Table of Contents:\n",
    "&nbsp;&nbsp;0. [Motivation of Factor Models](#0)\n",
    "\n",
    "&nbsp;&nbsp;1. [Introduction to Linear Factor Models](#1)\n",
    "\n",
    "\n",
    "&nbsp;&nbsp;2. [Factor Model in Asset Return Interpretation](#2)   \n",
    "\n",
    "&nbsp;&nbsp;&nbsp;&nbsp;&nbsp;&nbsp;&nbsp;&nbsp;2.0 [Model Setup](#2.0)\n",
    "\n",
    "&nbsp;&nbsp;&nbsp;&nbsp;&nbsp;&nbsp;&nbsp;&nbsp;2.1 [Plotting and Exploring the data](#2.1)\n",
    "\n",
    "&nbsp;&nbsp;&nbsp;&nbsp;&nbsp;&nbsp;&nbsp;&nbsp;2.1 [OLS Results](#2.2)\n",
    "\n",
    "&nbsp;&nbsp;&nbsp;&nbsp;&nbsp;&nbsp;&nbsp;&nbsp;2.2 [OLS Drawbacks](#2.3)\n",
    "\n",
    "\n",
    "&nbsp;&nbsp;3. [Alternative ML Methods](#3)\n",
    "\n",
    "&nbsp;&nbsp;&nbsp;&nbsp;&nbsp;&nbsp;&nbsp;&nbsp;3.0 [LASSO Regression](#3.0)\n",
    "\n",
    "&nbsp;&nbsp;&nbsp;&nbsp;&nbsp;&nbsp;&nbsp;&nbsp;3.1 [LASSO with cross validation](#3.1)\n",
    "\n",
    "&nbsp;&nbsp;&nbsp;&nbsp;&nbsp;&nbsp;&nbsp;&nbsp;3.2 [Elastic Net](#3.2)\n",
    "\n",
    "&nbsp;&nbsp;&nbsp;&nbsp;&nbsp;&nbsp;&nbsp;&nbsp;3.3 [Best Subset Regression](#3.3)\n",
    "\n",
    "\n",
    "&nbsp;&nbsp;4. [Relaxing the time period assumption, Regime Analysis](#4)   \n",
    "\n",
    "&nbsp;&nbsp;5. [Additional Resources](#5)\n",
    "\n",
    "&nbsp;&nbsp;6. [User Section](#6)"
   ]
  },
  {
   "cell_type": "markdown",
   "metadata": {},
   "source": [
    "## 0. Motivation of Factor Models <a class=\"anchor\" id=\"0\"></a>\n",
    "\n",
    "Factors models are widely used in industry and serve two main purposes.\n",
    "\n",
    "The first is to reduce the complexity of modeling asset price movements.  For instance, trying to build a model that completely explains stock price movements is near impossible.  In order to build a model for your favorite stock one would need to model supply, demand, sentiment, current and expected future earnings of the stock, news, interest rates, risk premia...\n",
    "\n",
    "It's near impossible to calibrate such a complicated model!  Instead, factor investors assume that there are N important factors that drive a portion of the asset returns.  They then say that at the portfolio level, asset specific movements can be averaged out, and only those N variables remain.  So to understand what drives the portfolio returns we only need to model the effect of that small number of factors.\n",
    "\n",
    "Alternativly, understanding the factor loadings of the individual assets allows us to estimate the covariance of our returns.  We state without proof that if one understands the factor loadings and the covariance of the factor returns, one can then compute an estimate for the covariance of the assets themselves.\n",
    "\n",
    "Finally factor models can also be used for hedging.  We again state without proof that the factor loadings represent the hedging ratio one would use to minimize the volatility of your portfolio.\n",
    "\n",
    "In this module we will walk though multiple ways of estimating factor loadings, and discuss their relative strenghts and weaknesses."
   ]
  },
  {
   "cell_type": "markdown",
   "metadata": {},
   "source": [
    "## 1. Introduction to Linear Factor Models <a class=\"anchor\" id=\"1\"></a>\n",
    "\n",
    "\n",
    "\n",
    "A linear factor model can be expressed in the following equation\n",
    "\n",
    "\\begin{equation*}\n",
    "    y_t = {X_t} \\beta + \\epsilon_t\n",
    "\\end{equation*}\n",
    "\n",
    "$t$ is used to index each observation. ${\\bf y} = \\{y_t\\}$ is called the dependent variable for observation $t$ and the vector ${X_t} = (X_t^1, X_t^2, \\dots, X_t^m)$ is called the set of factors (statisticians would call them independent or explanatory variables) for observation $t$. \n",
    "\n",
    "${\\bf \\beta} = (\\beta_1,\\dots,\\beta_m)'$ are called the factor loadings.\n",
    "\n",
    "As in most of finance, the dependent variable $y_t$ will the be the returns of some asset, and the independent variables will the the return of the factors.  We call this a linear factor model because we have assumed a linear relationship between the returns of the factors and the returns of the assets.\n",
    "\n",
    "With historical data, the factor loadings ${\\bf \\beta}$ can be estimated via Ordinary Least Squares (OLS) estimation:\n",
    "\n",
    "\\begin{equation*} \n",
    "    \\hat{\\beta}^{\\text{OLS}} = argmin_{\\beta}\\bigg\\{\\sum_{t=1}^{n} (y_t - {X_t} {\\bf \\beta})^2 \\bigg\\}.\n",
    "\\end{equation*}\n",
    "\n",
    "\n",
    "Let's run the OLS estimation with asset return data and apply extensions to the model."
   ]
  },
  {
   "cell_type": "markdown",
   "metadata": {},
   "source": [
    "## 2. Factor Model in Asset Return Interpretation <a class=\"anchor\" id=\"2\"></a>\n",
    "\n",
    "If $y_t$ represent an asset return at time t, the linear factor model can help us interpret the source of the asset return and attribute it to the factor returns.\n",
    "\n",
    "In this example, we are interested in explaining the asset returns with a five-factor model:\n",
    "\n",
    "1) World Equity: This factor represents worldwide equity returns.\n",
    "\n",
    "2) US Treasury: This factor contains return from treasury bonds in United States, the bonds with the least risk.\n",
    "\n",
    "3) Bond Risk Premia: This is a credit factor that captures extra yield from risky bonds.  Defined as the spread between high risk bonds and US Treasury bonds.\n",
    "\n",
    "4) Inflation Protection: This is a \"style\" factor that considers the difference between real and nominal returns, thus balances the need for both.\n",
    "\n",
    "5) Currency Protection: This is also a \"style\" factor that includes risk premium for US domestic assets.\n"
   ]
  },
  {
   "cell_type": "markdown",
   "metadata": {},
   "source": [
    "### 2.0 Model Setup <a class=\"anchor\" id=\"2.0\"></a>\n",
    "For the first step, let's import necessary packages and define our functions (for later use):\n"
   ]
  },
  {
   "cell_type": "code",
   "execution_count": 1,
   "metadata": {},
   "outputs": [],
   "source": [
    "#import all the necessary packages\n",
    "import numpy as np #for numerical array data\n",
    "import pandas as pd #for tabular data\n",
    "import matplotlib.pyplot as plt #for plotting purposes\n",
    "\n",
    "%matplotlib inline\n",
    "plt.rcParams['axes.labelsize'] = 14\n",
    "plt.rcParams['xtick.labelsize'] = 12\n",
    "plt.rcParams['ytick.labelsize'] = 12\n",
    "\n",
    "import importlib as imp\n",
    "\n",
    "import FactorModelLib as fm #the code that wraps around the sikitlearn implementations\n",
    "import config\n",
    "\n",
    "\n",
    "import warnings\n",
    "warnings.filterwarnings('ignore')"
   ]
  },
  {
   "cell_type": "markdown",
   "metadata": {},
   "source": [
    "Next, read our data and check the assets/factors we have:"
   ]
  },
  {
   "cell_type": "code",
   "execution_count": 2,
   "metadata": {},
   "outputs": [],
   "source": [
    "all_data = pd.read_csv(config.dataPath)\n",
    "all_data.head()\n",
    "all_data[config.dateName] = pd.to_datetime(all_data[config.dateName])"
   ]
  },
  {
   "cell_type": "markdown",
   "metadata": {},
   "source": [
    "### 2.1 Plotting and Exploring the data <a class=\"anchor\" id=\"2.1\"></a>\n",
    "\n",
    "First things first, let's look at the data."
   ]
  },
  {
   "cell_type": "code",
   "execution_count": 3,
   "metadata": {},
   "outputs": [
    {
     "data": {
      "text/html": [
       "<div>\n",
       "<style scoped>\n",
       "    .dataframe tbody tr th:only-of-type {\n",
       "        vertical-align: middle;\n",
       "    }\n",
       "\n",
       "    .dataframe tbody tr th {\n",
       "        vertical-align: top;\n",
       "    }\n",
       "\n",
       "    .dataframe thead th {\n",
       "        text-align: right;\n",
       "    }\n",
       "</style>\n",
       "<table border=\"1\" class=\"dataframe\">\n",
       "  <thead>\n",
       "    <tr style=\"text-align: right;\">\n",
       "      <th></th>\n",
       "      <th>Date</th>\n",
       "      <th>World Equities</th>\n",
       "      <th>US Treasuries</th>\n",
       "      <th>Bond Risk Premium</th>\n",
       "      <th>Inflation Protection</th>\n",
       "      <th>Currency Protection</th>\n",
       "      <th>Regime-5</th>\n",
       "      <th>Regime-7</th>\n",
       "      <th>US Equities</th>\n",
       "      <th>Real Estate</th>\n",
       "      <th>Commodities</th>\n",
       "      <th>Corp Bonds</th>\n",
       "    </tr>\n",
       "  </thead>\n",
       "  <tbody>\n",
       "    <tr>\n",
       "      <th>0</th>\n",
       "      <td>1985-01-01</td>\n",
       "      <td>0.028511</td>\n",
       "      <td>0.031500</td>\n",
       "      <td>0.006408</td>\n",
       "      <td>-0.016265</td>\n",
       "      <td>0.030292</td>\n",
       "      <td>1</td>\n",
       "      <td>1</td>\n",
       "      <td>0.081301</td>\n",
       "      <td>0.056605</td>\n",
       "      <td>0.021351</td>\n",
       "      <td>0.048963</td>\n",
       "    </tr>\n",
       "    <tr>\n",
       "      <th>1</th>\n",
       "      <td>1985-02-01</td>\n",
       "      <td>-0.009204</td>\n",
       "      <td>-0.044692</td>\n",
       "      <td>0.057381</td>\n",
       "      <td>0.006362</td>\n",
       "      <td>0.010258</td>\n",
       "      <td>1</td>\n",
       "      <td>1</td>\n",
       "      <td>0.030075</td>\n",
       "      <td>0.016448</td>\n",
       "      <td>-0.015217</td>\n",
       "      <td>-0.042029</td>\n",
       "    </tr>\n",
       "    <tr>\n",
       "      <th>2</th>\n",
       "      <td>1985-03-01</td>\n",
       "      <td>0.075134</td>\n",
       "      <td>0.028719</td>\n",
       "      <td>-0.024396</td>\n",
       "      <td>-0.002848</td>\n",
       "      <td>-0.020739</td>\n",
       "      <td>1</td>\n",
       "      <td>1</td>\n",
       "      <td>-0.007299</td>\n",
       "      <td>-0.006716</td>\n",
       "      <td>0.037171</td>\n",
       "      <td>0.032666</td>\n",
       "    </tr>\n",
       "    <tr>\n",
       "      <th>3</th>\n",
       "      <td>1985-04-01</td>\n",
       "      <td>-0.002459</td>\n",
       "      <td>0.023084</td>\n",
       "      <td>-0.004869</td>\n",
       "      <td>0.003089</td>\n",
       "      <td>0.008187</td>\n",
       "      <td>1</td>\n",
       "      <td>1</td>\n",
       "      <td>-0.012255</td>\n",
       "      <td>0.000906</td>\n",
       "      <td>-0.035116</td>\n",
       "      <td>0.037125</td>\n",
       "    </tr>\n",
       "    <tr>\n",
       "      <th>4</th>\n",
       "      <td>1985-05-01</td>\n",
       "      <td>0.040245</td>\n",
       "      <td>0.086780</td>\n",
       "      <td>-0.044417</td>\n",
       "      <td>0.004077</td>\n",
       "      <td>-0.002219</td>\n",
       "      <td>1</td>\n",
       "      <td>1</td>\n",
       "      <td>0.064516</td>\n",
       "      <td>0.027241</td>\n",
       "      <td>0.004351</td>\n",
       "      <td>0.104199</td>\n",
       "    </tr>\n",
       "  </tbody>\n",
       "</table>\n",
       "</div>"
      ],
      "text/plain": [
       "        Date  World Equities  US Treasuries  Bond Risk Premium  \\\n",
       "0 1985-01-01        0.028511       0.031500           0.006408   \n",
       "1 1985-02-01       -0.009204      -0.044692           0.057381   \n",
       "2 1985-03-01        0.075134       0.028719          -0.024396   \n",
       "3 1985-04-01       -0.002459       0.023084          -0.004869   \n",
       "4 1985-05-01        0.040245       0.086780          -0.044417   \n",
       "\n",
       "   Inflation Protection  Currency Protection  Regime-5  Regime-7  US Equities  \\\n",
       "0             -0.016265             0.030292         1         1     0.081301   \n",
       "1              0.006362             0.010258         1         1     0.030075   \n",
       "2             -0.002848            -0.020739         1         1    -0.007299   \n",
       "3              0.003089             0.008187         1         1    -0.012255   \n",
       "4              0.004077            -0.002219         1         1     0.064516   \n",
       "\n",
       "   Real Estate  Commodities  Corp Bonds  \n",
       "0     0.056605     0.021351    0.048963  \n",
       "1     0.016448    -0.015217   -0.042029  \n",
       "2    -0.006716     0.037171    0.032666  \n",
       "3     0.000906    -0.035116    0.037125  \n",
       "4     0.027241     0.004351    0.104199  "
      ]
     },
     "execution_count": 3,
     "metadata": {},
     "output_type": "execute_result"
    }
   ],
   "source": [
    "all_data.head(5)"
   ]
  },
  {
   "cell_type": "markdown",
   "metadata": {},
   "source": [
    "Next, determine the time increment for our data"
   ]
  },
  {
   "cell_type": "code",
   "execution_count": 4,
   "metadata": {},
   "outputs": [
    {
     "data": {
      "text/plain": [
       "'monthly'"
      ]
     },
     "execution_count": 4,
     "metadata": {},
     "output_type": "execute_result"
    }
   ],
   "source": [
    "fm.data_time_periods(all_data, config.dateName)"
   ]
  },
  {
   "cell_type": "code",
   "execution_count": 5,
   "metadata": {},
   "outputs": [],
   "source": [
    "startDate = all_data[config.dateName].min()\n",
    "endDate = all_data[config.dateName].max()"
   ]
  },
  {
   "cell_type": "markdown",
   "metadata": {},
   "source": [
    "Let's get more specific.  Let's plot our data over time"
   ]
  },
  {
   "cell_type": "code",
   "execution_count": 6,
   "metadata": {},
   "outputs": [
    {
     "data": {
      "image/png": "[encoded data removed]",
      "text/plain": [
       "<Figure size 432x288 with 1 Axes>"
      ]
     },
     "metadata": {
      "needs_background": "light"
     },
     "output_type": "display_data"
    }
   ],
   "source": [
    "name = 'Real Estate'\n",
    "fm.plot_returns(all_data, name, flag='Total Return')"
   ]
  },
  {
   "cell_type": "markdown",
   "metadata": {},
   "source": [
    "As a sanity check, find the months where the monthly return of US equities were the lowest."
   ]
  },
  {
   "cell_type": "code",
   "execution_count": 7,
   "metadata": {},
   "outputs": [
    {
     "data": {
      "text/html": [
       "<div>\n",
       "<style scoped>\n",
       "    .dataframe tbody tr th:only-of-type {\n",
       "        vertical-align: middle;\n",
       "    }\n",
       "\n",
       "    .dataframe tbody tr th {\n",
       "        vertical-align: top;\n",
       "    }\n",
       "\n",
       "    .dataframe thead th {\n",
       "        text-align: right;\n",
       "    }\n",
       "</style>\n",
       "<table border=\"1\" class=\"dataframe\">\n",
       "  <thead>\n",
       "    <tr style=\"text-align: right;\">\n",
       "      <th></th>\n",
       "      <th>Date</th>\n",
       "      <th>World Equities</th>\n",
       "      <th>US Treasuries</th>\n",
       "      <th>Bond Risk Premium</th>\n",
       "      <th>Inflation Protection</th>\n",
       "      <th>Currency Protection</th>\n",
       "      <th>Regime-5</th>\n",
       "      <th>Regime-7</th>\n",
       "      <th>US Equities</th>\n",
       "      <th>Real Estate</th>\n",
       "      <th>Commodities</th>\n",
       "      <th>Corp Bonds</th>\n",
       "    </tr>\n",
       "  </thead>\n",
       "  <tbody>\n",
       "    <tr>\n",
       "      <th>33</th>\n",
       "      <td>1987-10-01</td>\n",
       "      <td>-0.145045</td>\n",
       "      <td>0.068928</td>\n",
       "      <td>-0.101626</td>\n",
       "      <td>-0.010618</td>\n",
       "      <td>-0.025647</td>\n",
       "      <td>-1</td>\n",
       "      <td>-1</td>\n",
       "      <td>-0.227451</td>\n",
       "      <td>-0.142819</td>\n",
       "      <td>-0.013019</td>\n",
       "      <td>0.047145</td>\n",
       "    </tr>\n",
       "    <tr>\n",
       "      <th>285</th>\n",
       "      <td>2008-10-01</td>\n",
       "      <td>-0.204945</td>\n",
       "      <td>-0.039976</td>\n",
       "      <td>-0.112578</td>\n",
       "      <td>-0.083037</td>\n",
       "      <td>0.024725</td>\n",
       "      <td>-1</td>\n",
       "      <td>-1</td>\n",
       "      <td>-0.173147</td>\n",
       "      <td>-0.312202</td>\n",
       "      <td>-0.295256</td>\n",
       "      <td>-0.068198</td>\n",
       "    </tr>\n",
       "    <tr>\n",
       "      <th>286</th>\n",
       "      <td>2008-11-01</td>\n",
       "      <td>-0.111894</td>\n",
       "      <td>0.154699</td>\n",
       "      <td>-0.249246</td>\n",
       "      <td>-0.044064</td>\n",
       "      <td>-0.010747</td>\n",
       "      <td>-1</td>\n",
       "      <td>-1</td>\n",
       "      <td>-0.162932</td>\n",
       "      <td>-0.337308</td>\n",
       "      <td>-0.175630</td>\n",
       "      <td>0.053776</td>\n",
       "    </tr>\n",
       "  </tbody>\n",
       "</table>\n",
       "</div>"
      ],
      "text/plain": [
       "          Date  World Equities  US Treasuries  Bond Risk Premium  \\\n",
       "33  1987-10-01       -0.145045       0.068928          -0.101626   \n",
       "285 2008-10-01       -0.204945      -0.039976          -0.112578   \n",
       "286 2008-11-01       -0.111894       0.154699          -0.249246   \n",
       "\n",
       "     Inflation Protection  Currency Protection  Regime-5  Regime-7  \\\n",
       "33              -0.010618            -0.025647        -1        -1   \n",
       "285             -0.083037             0.024725        -1        -1   \n",
       "286             -0.044064            -0.010747        -1        -1   \n",
       "\n",
       "     US Equities  Real Estate  Commodities  Corp Bonds  \n",
       "33     -0.227451    -0.142819    -0.013019    0.047145  \n",
       "285    -0.173147    -0.312202    -0.295256   -0.068198  \n",
       "286    -0.162932    -0.337308    -0.175630    0.053776  "
      ]
     },
     "execution_count": 7,
     "metadata": {},
     "output_type": "execute_result"
    }
   ],
   "source": [
    "all_data.sort_values('US Equities').head(3)"
   ]
  },
  {
   "cell_type": "markdown",
   "metadata": {},
   "source": [
    "October 1987 was [black monday](https://en.wikipedia.org/wiki/Black_Monday_(1987)) and October / November 2008 was the beginnings of the [financial crisis](https://en.wikipedia.org/wiki/Financial_crisis_of_2007%E2%80%932008)"
   ]
  },
  {
   "cell_type": "markdown",
   "metadata": {},
   "source": [
    "### 2.2 OLS Regression <a class=\"anchor\" id=\"2.2\"></a>\n",
    "\n",
    "Now let's return to factor models.  Building a factor module is equivalent to solving for the factor loadings defined in part 1.  Ordinary Least Squares (OLS) regression is the simplest way.\n",
    "\n",
    "As we mentioned in part 1, OLS regression is equivalent to solving the following optimization problem\n",
    "\n",
    "\\begin{equation*} \n",
    "    \\hat{\\beta}^{\\text{OLS}} = argmin_{\\beta}\\bigg\\{\\sum_{t=1}^{n} (y_t - {X_t} * {\\bf \\beta})^2 \\bigg\\}\n",
    "\\end{equation*}\n",
    "\n",
    "In our notation, n in the number of data points.  In this case, OLS regression has a closed form solution.\n",
    "\n",
    "\\begin{equation*} \n",
    "    \\hat{\\beta}^{\\text{OLS}} = ({\\bf X_t}^\\intercal {\\bf X_t})^{-1} {\\bf X_t}^\\intercal{\\bf Y_t}\n",
    "\\end{equation*}\n",
    "\n",
    "Where ${\\bf Y_t}$ is the vector representation of $y_t$, and ${\\bf X_t}$ is the matrix representation of $X_t$\n",
    "\n",
    "Let's take a second to look at, $\\hat{\\beta}$, the factor loadings.  What do they mean?  They represent the effect on the dependent variable caused by movement in the underlying factor.\n",
    "\n",
    "In this course we will be using the sikitlearn package to build models.  But since we have a closed form solution, let's check that the closed form solution gives the same answer as sikit-learn."
   ]
  },
  {
   "cell_type": "code",
   "execution_count": 8,
   "metadata": {},
   "outputs": [
    {
     "name": "stdout",
     "output_type": "stream",
     "text": [
      "Dependent variable is Real Estate\n",
      "Historical Timeperiods January 1985September 2018\n",
      "             Intercept  World Equities  US Treasuries  Bond Risk Premium  \\\n",
      "theory_beta  -0.003587        0.310261       1.212508           1.054238   \n",
      "\n",
      "             Inflation Protection  Currency Protection  \n",
      "theory_beta              0.287919              0.36184  \n"
     ]
    }
   ],
   "source": [
    "# Linear Regression (OLS)\n",
    "Factors = all_data[config.factorName].values\n",
    "Assets = all_data[config.assetName].values\n",
    "\n",
    "Asset_RE = Assets[:,1]\n",
    "Factors_ones = np.concatenate((np.ones((all_data.shape[0],1)),Factors),axis=1)\n",
    "theory_beta = np.linalg.inv(Factors_ones.T.dot(Factors_ones)).dot(Factors_ones.T).dot(Asset_RE)\n",
    "print('Dependent variable is Real Estate')\n",
    "print('Historical Timeperiods ' +  fm.num_to_month(startDate.month) +  \" \" + str(startDate.year)\n",
    "      + fm.num_to_month(endDate.month) +  \" \" + str(endDate.year))\n",
    "opt = dict()\n",
    "opt['nameOfReg'] = 'theory_beta'\n",
    "fm.display_factor_loadings(theory_beta[0], theory_beta[1:], config.factorName, opt)"
   ]
  },
  {
   "cell_type": "code",
   "execution_count": 9,
   "metadata": {},
   "outputs": [
    {
     "name": "stdout",
     "output_type": "stream",
     "text": [
      "Dependent Variable is Real Estate\n",
      "Time period is between January 1985 to September 2018 inclusive   \n",
      "                 Intercept  World Equities  US Treasuries  Bond Risk Premium  \\\n",
      "sikit-learn OLS  -0.003587        0.310261       1.212508           1.054238   \n",
      "\n",
      "                 Inflation Protection  Currency Protection  \n",
      "sikit-learn OLS              0.287919              0.36184  \n"
     ]
    }
   ],
   "source": [
    "#Linear Regression via Scikit-learn\n",
    "options = fm.create_options()\n",
    "options['nameOfReg'] = 'sikit-learn OLS'\n",
    "fm.linear_regression(all_data, 'Real Estate', config.factorName, options)"
   ]
  },
  {
   "cell_type": "markdown",
   "metadata": {},
   "source": [
    "Indeed it does"
   ]
  },
  {
   "cell_type": "markdown",
   "metadata": {},
   "source": [
    "### 2.3 OLS Drawbacks <a class=\"anchor\" id=\"2.3\"></a>\n",
    "\n",
    "OLS has major drawbacks.  First, OLS has no mechanism to filter out noise variables.  Second, it assumes that factor loadings are constant over time. In practice, you will generally have many variables that you would like to filter down.  Moreover, the assumption that the factor loadings are constant over time is restrictive, and not true.  In fact, we will show that factor loadings are highly dependent on the time period.\n",
    "\n",
    "In this section we give example of the two drawbacks.  In section 3, we will introduce ways of filtering noise variables.\n",
    "\n",
    "To demonstrate how OLS can be susceptible to noise, we introduce a noise variable positivly correlated with the World Equities factor.  Then we re-run the OLS regression. The OLS regression chosses to average the two signals, changing the loading on the World Equity factor."
   ]
  },
  {
   "cell_type": "code",
   "execution_count": 10,
   "metadata": {},
   "outputs": [],
   "source": [
    "#Calculate a noise variable\n",
    "std = all_data['World Equities'].std()*(2)\n",
    "nPeriods = all_data.shape[0]\n",
    "np.random.seed(1245)\n",
    "noise = np.random.normal(loc=0, size=(nPeriods))\n",
    "noise = np.reshape(std*noise + np.array(all_data['World Equities']), (nPeriods,1))\n",
    "all_data['Noise'] = noise\n",
    "factorNameWithNoise = config.factorName + ['Noise']"
   ]
  },
  {
   "cell_type": "code",
   "execution_count": 11,
   "metadata": {},
   "outputs": [
    {
     "name": "stdout",
     "output_type": "stream",
     "text": [
      "Dependent Variable is Real Estate\n",
      "Time period is between January 1985 to September 2018 inclusive   \n",
      "                Intercept  World Equities  US Treasuries  Bond Risk Premium  \\\n",
      "OLS with Noise  -0.003654        0.323065       1.214039           1.054216   \n",
      "\n",
      "                Inflation Protection  Currency Protection     Noise  \n",
      "OLS with Noise              0.283488             0.361987 -0.010582  \n"
     ]
    }
   ],
   "source": [
    "options = fm.create_options()\n",
    "options['nameOfReg'] = 'OLS with Noise'\n",
    "fm.linear_regression(all_data, 'Real Estate', factorNameWithNoise, options)"
   ]
  },
  {
   "cell_type": "markdown",
   "metadata": {},
   "source": [
    "Notice that the sum of World Equities Beta + Noise Beta is around .31.  Feel free to re-run the previous 2 code blocks.  It will generate a new noise term, and notice that each time the noise term will then effects the World Equities loading.  That noise term is directly causing estimation error in the true loading (Beta value) of the World Equity factor."
   ]
  },
  {
   "cell_type": "markdown",
   "metadata": {},
   "source": [
    "To demonstrate the second drawback we will show that the OLS estimator depends greatly on the time period.  First, we will pick different time periods and run the OLS regression.  We'll show that the factor loadings can change dramatically depending on the time period.  To formalize this idea, we will filter our data into two different regimes.  The first regime \"normal\", will be months where US Equities had a positive monthly return.  The second, \"crash\" will be months where US Equities had a negative return.  These are crude approximations, but even with this crude definition we will return substantially different factor loadings.\n",
    "\n",
    "In a future module we will refine our definition of crash periods using LASSO."
   ]
  },
  {
   "cell_type": "markdown",
   "metadata": {},
   "source": [
    "To review, here are the factor loadings using the full data set"
   ]
  },
  {
   "cell_type": "code",
   "execution_count": 12,
   "metadata": {},
   "outputs": [
    {
     "name": "stdout",
     "output_type": "stream",
     "text": [
      "Dependent Variable is Real Estate\n",
      "Time period is between January 1985 to September 2018 inclusive   \n",
      "               Intercept  World Equities  US Treasuries  Bond Risk Premium  \\\n",
      "OLS full data  -0.003587        0.310261       1.212508           1.054238   \n",
      "\n",
      "               Inflation Protection  Currency Protection  \n",
      "OLS full data              0.287919              0.36184  \n"
     ]
    }
   ],
   "source": [
    "options['nameOfReg'] = 'OLS full data'\n",
    "fm.linear_regression(all_data, 'Real Estate', config.factorName, options)"
   ]
  },
  {
   "cell_type": "markdown",
   "metadata": {},
   "source": [
    "For a first example, let's just pick a \"random\" (hint, it's not random) time period where we might see different factor loadings.  One could imagine that maybe during crash periods the factor loadings would change.  So let's pick the financial crisis years as our period to investigate."
   ]
  },
  {
   "cell_type": "code",
   "execution_count": 13,
   "metadata": {},
   "outputs": [
    {
     "name": "stdout",
     "output_type": "stream",
     "text": [
      "Dependent Variable is Real Estate\n",
      "Time period is between January 1985 to September 2018 inclusive   \n",
      "            Intercept  World Equities  US Treasuries  Bond Risk Premium  \\\n",
      "OLS Normal    0.00348         0.15022        1.30286           1.100558   \n",
      "\n",
      "            Inflation Protection  Currency Protection  \n",
      "OLS Normal              0.210193              0.05183  \n"
     ]
    }
   ],
   "source": [
    "normalData = all_data[all_data['US Equities'] > 0].copy()\n",
    "options['nameOfReg'] = 'OLS Normal'\n",
    "fm.linear_regression(normalData, 'Real Estate', config.factorName, options)"
   ]
  },
  {
   "cell_type": "markdown",
   "metadata": {},
   "source": [
    "Next we perform the analysis on crash months"
   ]
  },
  {
   "cell_type": "code",
   "execution_count": 14,
   "metadata": {},
   "outputs": [
    {
     "name": "stdout",
     "output_type": "stream",
     "text": [
      "Dependent Variable is Real Estate\n",
      "Time period is between March 1985 to June 2018 inclusive   \n",
      "           Intercept  World Equities  US Treasuries  Bond Risk Premium  \\\n",
      "OLS Crash  -0.011274        0.365824       0.959781           0.792532   \n",
      "\n",
      "           Inflation Protection  Currency Protection  \n",
      "OLS Crash              0.540801             0.588727  \n"
     ]
    }
   ],
   "source": [
    "crashData = all_data[all_data['US Equities'] <= 0].copy()\n",
    "options['nameOfReg'] = 'OLS Crash'\n",
    "fm.linear_regression(crashData, 'Real Estate', config.factorName, options)"
   ]
  },
  {
   "cell_type": "markdown",
   "metadata": {},
   "source": [
    "Even with a crude definition of a \"crash\" regime we have isolated different factor loadings.  Notice that during normal periods the loading on Currency Protection is close to zero, but during crash periods is 10x larger!"
   ]
  },
  {
   "cell_type": "markdown",
   "metadata": {},
   "source": [
    "## 3 Alternative ML Methods <a class=\"anchor\" id=\"3\"></a>\n",
    "\n",
    "Now that we have motivated the drawbacks of OLS, we can move to modern machine learning techniques.  We will discus two new methods in this section as improvements to OLS to handle noise variables.\n",
    "\n",
    "The first, LASSO regression, is the simplest version of regularized regression.  Regularized regression means that we add a penalty term to the optimization problem to penalize the model's complexity.  For the sake of intuition, imagine if we could penalize the number of non zero coeficients we add to the model.  In that instance we would expect that the model would only consider the variables that really influence Y, and ignore the noise variables.  LASSO regression (defined below) does exactly that.\n",
    "\n",
    "The second method is called \"best subset selection.\"  Conceptually, the optimization problem is directly constrained to only allow for a certain number of non zero coeficients.  Put another way, best x-subset regression says \"I want the best model where I can at maximum use x variables.\""
   ]
  },
  {
   "cell_type": "markdown",
   "metadata": {},
   "source": [
    "### 3.0 LASSO Regression <a class=\"anchor\" id=\"3.0\"></a>\n",
    "\n",
    "We define LASSO regression as the following optimization problem.\n",
    "\n",
    "As before, n is the number of data points, and m is the number factors.\n",
    "\n",
    "\\begin{equation*} \n",
    "    {\\hat{\\beta}}^{\\text{LASSO}} = argmin_{\\beta}\\bigg\\{\\sum_{t=1}^{n} (y_t - X_t * \\beta)^2 + \\lambda \\sum_{j=1}^{m}|\\beta_j| \\bigg\\}\n",
    "\\end{equation*}\n",
    "\n",
    "Note that it is the same as the OLS regression, but with a second penalty term.  As stated above, it directly penalizes the use of non zero coeficients and can be shown to set factor loadings to zero.  If you want to learn more about the theoretical properties of LASSO regression.  The text book [Elements of Statistical Learning](https://web.stanford.edu/~hastie/ElemStatLearn/) covers the method in detail.\n",
    "\n",
    "$\\lambda$ is called a hyperparameter which you need to choose.  Sikit-learn doesn't use $\\lambda$ it uses $\\alpha$ which can be related via the following equation\n",
    "\n",
    "\\begin{equation*}\n",
    "    {\\frac{\\lambda}{2*n} = \\alpha}\n",
    "\\end{equation*}\n",
    "\n",
    "Where $n$ is the number of data points.  For now, let's arbitrarily pick $\\lambda = .1$"
   ]
  },
  {
   "cell_type": "code",
   "execution_count": 15,
   "metadata": {},
   "outputs": [
    {
     "name": "stdout",
     "output_type": "stream",
     "text": [
      "Dependent Variable is Real Estate\n",
      "Time period is between January 1985 to September 2018 inclusive   \n",
      "lambda = 0.1\n",
      "                  Intercept  World Equities  US Treasuries  Bond Risk Premium  \\\n",
      "LASSO Regression   0.001834        0.349738         0.5422           0.574002   \n",
      "\n",
      "                  Inflation Protection  Currency Protection  \n",
      "LASSO Regression                   0.0                  0.0  \n"
     ]
    }
   ],
   "source": [
    "options = fm.create_options_lasso()\n",
    "options['lambda'] = .1\n",
    "options['printLoadings'] = True\n",
    "options['nameOfReg'] = 'LASSO Regression'\n",
    "fm.lasso_regression(all_data, 'Real Estate', config.factorName, options)"
   ]
  },
  {
   "cell_type": "markdown",
   "metadata": {},
   "source": [
    "Notice that LASSO sets factor loadings to zero.  Because of this, it can filter out noise variables.  Let's rerun the analysis including the noise variable."
   ]
  },
  {
   "cell_type": "code",
   "execution_count": 16,
   "metadata": {},
   "outputs": [
    {
     "name": "stdout",
     "output_type": "stream",
     "text": [
      "Dependent Variable is Real Estate\n",
      "Time period is between January 1985 to September 2018 inclusive   \n",
      "lambda = 0.1\n",
      "                      Intercept  World Equities  US Treasuries  \\\n",
      "LASSO Reg with noise   0.001834        0.349738         0.5422   \n",
      "\n",
      "                      Bond Risk Premium  Inflation Protection  \\\n",
      "LASSO Reg with noise           0.574002                   0.0   \n",
      "\n",
      "                      Currency Protection  Noise  \n",
      "LASSO Reg with noise                  0.0    0.0  \n"
     ]
    }
   ],
   "source": [
    "options = fm.create_options_lasso()\n",
    "options['lambda'] = .1\n",
    "options['printLoadings'] = True\n",
    "options['nameOfReg'] = 'LASSO Reg with noise'\n",
    "fm.lasso_regression(all_data, 'Real Estate', factorNameWithNoise, options)"
   ]
  },
  {
   "cell_type": "markdown",
   "metadata": {},
   "source": [
    "Depending on the noise, and the value of lambda, LASSO may shrink noise coeficient, or set it equal to zero.  Let's try one last time with a larger lambda"
   ]
  },
  {
   "cell_type": "code",
   "execution_count": 17,
   "metadata": {},
   "outputs": [
    {
     "name": "stdout",
     "output_type": "stream",
     "text": [
      "Dependent Variable is Real Estate\n",
      "Time period is between January 1985 to September 2018 inclusive   \n",
      "lambda = 0.2\n",
      "                      Intercept  World Equities  US Treasuries  \\\n",
      "LASSO Reg with noise    0.00535        0.408359            0.0   \n",
      "\n",
      "                      Bond Risk Premium  Inflation Protection  \\\n",
      "LASSO Reg with noise           0.127616                   0.0   \n",
      "\n",
      "                      Currency Protection  Noise  \n",
      "LASSO Reg with noise                  0.0    0.0  \n"
     ]
    }
   ],
   "source": [
    "options['lambda'] = .2\n",
    "fm.lasso_regression(all_data, 'Real Estate', factorNameWithNoise, options)"
   ]
  },
  {
   "cell_type": "markdown",
   "metadata": {},
   "source": [
    "Notice that for large lambda values, many coeficients have been set to zero, including the noise term."
   ]
  },
  {
   "cell_type": "markdown",
   "metadata": {},
   "source": [
    "### 3.1 Cross Validation  <a class=\"anchor\" id=\"3.1\"></a>\n",
    "\n",
    "The previous section ignored the largest issue in LASSO regression, the choice of $\\lambda$.  In practice, most people use cross-validation.  We will not give a formal definition of cross-validation here, and instead we will give a heuristic.\n",
    "\n",
    "First, break the training set into $k$ folds, and define a list of $\\lambda$ values.  For each fold, and for each $\\lambda$, train the model $k-1$ other folds, and calculate the error on the test fold.  At the end of this, you will have $k$ out of sample errors for each value of lambda.  Then pick the $\\lambda$ which satisfies produces the average error across your out of sample tests.\n",
    "\n",
    "Here we use cross validation to pick the optimal lambda value for lasso."
   ]
  },
  {
   "cell_type": "code",
   "execution_count": 18,
   "metadata": {},
   "outputs": [
    {
     "name": "stdout",
     "output_type": "stream",
     "text": [
      "Dependent Variable is Real Estate\n",
      "Time period is between January 1985 to September 2018 inclusive   \n",
      "best lambda = 0.048634343434343426\n",
      "          Intercept  World Equities  US Treasuries  Bond Risk Premium  \\\n",
      "CV Lasso  -0.000342        0.311805       0.875641           0.835079   \n",
      "\n",
      "          Inflation Protection  Currency Protection  \n",
      "CV Lasso              0.044825                  0.0  \n"
     ]
    }
   ],
   "source": [
    "options = fm.create_options_cv_lasso()\n",
    "options['nameOfReg'] = 'CV Lasso'\n",
    "fm.cross_validated_lasso_regression(all_data, 'Real Estate', config.factorName, options)"
   ]
  },
  {
   "cell_type": "code",
   "execution_count": 19,
   "metadata": {},
   "outputs": [
    {
     "name": "stdout",
     "output_type": "stream",
     "text": [
      "Dependent Variable is Real Estate\n",
      "Time period is between January 1985 to September 2018 inclusive   \n",
      "best lambda = 0.06625383838383839\n",
      "          Intercept  World Equities  US Treasuries  Bond Risk Premium  \\\n",
      "CV Lasso   0.000441        0.324436       0.759458           0.748534   \n",
      "\n",
      "          Inflation Protection  Currency Protection  Noise  \n",
      "CV Lasso                   0.0                  0.0   -0.0  \n"
     ]
    }
   ],
   "source": [
    "options = fm.create_options_cv_lasso()\n",
    "options['nameOfReg'] = 'CV Lasso'\n",
    "fm.cross_validated_lasso_regression(all_data, 'Real Estate', config.factorName + ['Noise'], options)"
   ]
  },
  {
   "cell_type": "markdown",
   "metadata": {},
   "source": [
    "Notice how the cross validated LASSO model gives smaller factor loadings than OLS."
   ]
  },
  {
   "cell_type": "markdown",
   "metadata": {},
   "source": [
    "### 3.2 Elastic Net <a class=\"anchor\" id=\"3.2\"></a>\n",
    "\n",
    "Now that we've discussed cross validation and LASSO regression, one can mix and match penalized regressions to create regressions with specific proporties.  For instance, we know from literature that LASSO regression can be used for variable selection.  We also know that Ridge regression (defined below) shrinks coeficients to provide a more robust solution.  Combined, it's called an Elastic Net, and it can provide the benefits of both methods.\n",
    "\n",
    "Again, for our notation, n is the number of data points, and m is the number of factors.\n",
    "\n",
    "\\begin{equation*} \n",
    "    {\\hat{\\beta}}^{\\text{LASSO}} = argmin_{\\beta}\\bigg\\{\\sum_{t=1}^{n} (y_t - X_t * \\beta)^2 + \\lambda_1 \\sum_{j=1}^{m}|\\beta_j| \\bigg\\}\n",
    "\\end{equation*}\n",
    "\n",
    "\\begin{equation*} \n",
    "    {\\hat{\\beta}}^{\\text{Ridge}} = argmin_{\\beta}\\bigg\\{\\sum_{t=1}^{n} (y_t - X_t * \\beta)^2 + \\lambda_2||\\beta||_2^2 \\bigg\\}\n",
    "\\end{equation*}\n",
    "\n",
    "\\begin{equation*} \n",
    "    {\\hat{\\beta}}^{\\text{Elastic Net}} = argmin_{\\beta}\\bigg\\{\\sum_{t=1}^{n} (y_t - X_t * \\beta)^2 + \\lambda_1 \\sum_{j=1}^{m}|\\beta_j| + \\lambda_2||\\beta||_2^2 \\bigg\\}\n",
    "\\end{equation*}\n",
    "\n",
    "In our notation, $||\\beta||_2^2$ indicates the two norm of the vector $\\beta$\n",
    "\n",
    "Let's run Elastic Net and see if we get different results."
   ]
  },
  {
   "cell_type": "code",
   "execution_count": 20,
   "metadata": {},
   "outputs": [
    {
     "name": "stdout",
     "output_type": "stream",
     "text": [
      "Dependent Variable is Real Estate\n",
      "Time period is between January 1985 to September 2018 inclusive   \n",
      "best lambda1 = 0.04814799999999999\n",
      "best lambda2 = 0.00024317171717171734\n",
      "                Intercept  World Equities  US Treasuries  Bond Risk Premium  \\\n",
      "CV Elastic Net  -0.000348        0.311963       0.876042           0.835015   \n",
      "\n",
      "                Inflation Protection  Currency Protection  \n",
      "CV Elastic Net              0.047047                  0.0  \n"
     ]
    }
   ],
   "source": [
    "options = fm.create_options_cv_elastic_net()\n",
    "options['nameOfReg'] = 'CV Elastic Net'\n",
    "fm.cross_validated_elastic_net_regression(all_data, 'Real Estate', config.factorName, options)"
   ]
  },
  {
   "cell_type": "markdown",
   "metadata": {},
   "source": [
    "In this instance, the elastic net gives us effectivly the same model as the LASSO solution.  But this isn't always the case.\n",
    "\n",
    "Let's run one last test with the Elastic Net.  We'll run the elastic net with the nosie variable."
   ]
  },
  {
   "cell_type": "code",
   "execution_count": 21,
   "metadata": {},
   "outputs": [
    {
     "name": "stdout",
     "output_type": "stream",
     "text": [
      "Dependent Variable is Real Estate\n",
      "Time period is between January 1985 to September 2018 inclusive   \n",
      "best lambda1 = 0.0655913\n",
      "best lambda2 = 0.0003312691919191922\n",
      "                           Intercept  World Equities  US Treasuries  \\\n",
      "CV Elastic Net with Noise   0.000434         0.32451       0.760312   \n",
      "\n",
      "                           Bond Risk Premium  Inflation Protection  \\\n",
      "CV Elastic Net with Noise            0.74916                   0.0   \n",
      "\n",
      "                           Currency Protection  Noise  \n",
      "CV Elastic Net with Noise                  0.0   -0.0  \n"
     ]
    }
   ],
   "source": [
    "options = fm.create_options_cv_elastic_net()\n",
    "options['nameOfReg'] = 'CV Elastic Net with Noise'\n",
    "fm.cross_validated_elastic_net_regression(all_data, 'Real Estate', config.factorName + ['Noise'], options)"
   ]
  },
  {
   "cell_type": "markdown",
   "metadata": {},
   "source": [
    "It seems to again give the same values as the LASSO regression.  In this particular instance, elastic net doesn't do much better than LASSO because we don't have many highly correlated variables.  If we many highly correlated factors, we would expect the Elastic Net to outperform LASSO.  For more details on the relative strenghts and weaknesses of LASSO verses Elastic Net, see the reference section."
   ]
  },
  {
   "cell_type": "markdown",
   "metadata": {},
   "source": [
    "### 3.3 Best Subset Regression <a class=\"anchor\" id=\"3.3\"></a>\n",
    "\n",
    "But penalized regressions are not the only type of regression we can run.  We can also run constrained regressions!  Formally, let's define an intuitive constrained regression called \"Best Subset Regression\".  It's name is exactly what it sounds like.  It attempts to find the linear model subject to the constraint that only \"x\" factor loadings can be nonzero.  In this case, \"x\" is an integer the user defines.\n",
    "\n",
    "Formally, we set can define the best subset regression as follows:\n",
    "Let $\\textbf{z}$ be a vector of binary variables, let $ M $ be a very large number\n",
    "For simplicity, let $ \\text{total_vars} $ be the number of variables considered and $ \\text{max_vars} $ be the number max number of variables allowed in the subset\n",
    "\n",
    "\\begin{equation*} \n",
    "    {\\hat{\\beta}}^{\\text{Best Subset}} = argmin_{\\beta}\\bigg\\{\\sum_{t=1}^{n} (y_t - X_t * \\beta)^2 \\bigg\\}.\n",
    "\\end{equation*}\n",
    "\n",
    "\\begin{equation*} \n",
    "    \\sum_{i=1}^{\\text{max_vars}} z_i \\leq \\text{max_vars,}  \\hspace{2mm} Mz + \\beta \\geq 0 \\text{  and  } \\beta \\leq Mz \\text{  ,  } \\textbf{z } \\text{ binary}\n",
    "\\end{equation*}"
   ]
  },
  {
   "cell_type": "code",
   "execution_count": 22,
   "metadata": {},
   "outputs": [
    {
     "name": "stdout",
     "output_type": "stream",
     "text": [
      "Dependent Variable is Real Estate\n",
      "Time period is between January 1985 to September 2018 inclusive   \n",
      "                              Intercept  World Equities  US Treasuries  \\\n",
      "Best Subset with maxVars = 2  -0.001956    2.103416e-09       1.453734   \n",
      "\n",
      "                              Bond Risk Premium  Inflation Protection  \\\n",
      "Best Subset with maxVars = 2           1.395798         -3.542204e-11   \n",
      "\n",
      "                              Currency Protection  \n",
      "Best Subset with maxVars = 2        -2.118101e-10  \n"
     ]
    }
   ],
   "source": [
    "options['maxVars'] = 2\n",
    "options['nameOfReg'] = 'Best Subset with maxVars = 2'\n",
    "fm.best_subset_regression(all_data, 'Real Estate', config.factorName, options)"
   ]
  },
  {
   "cell_type": "markdown",
   "metadata": {},
   "source": [
    "Notice how the best subset selection gives the exact same non zero variables as LASSO.\n",
    "\n",
    "Of course you can vary the number non-zero coeficients..."
   ]
  },
  {
   "cell_type": "code",
   "execution_count": 23,
   "metadata": {},
   "outputs": [
    {
     "name": "stdout",
     "output_type": "stream",
     "text": [
      "Dependent Variable is Real Estate\n",
      "Time period is between January 1985 to September 2018 inclusive   \n",
      "                              Intercept  World Equities  US Treasuries  \\\n",
      "Best Subset with maxVars = 3  -0.002295        0.274697       1.186262   \n",
      "\n",
      "                              Bond Risk Premium  Inflation Protection  \\\n",
      "Best Subset with maxVars = 3           1.091385          1.223532e-09   \n",
      "\n",
      "                              Currency Protection  \n",
      "Best Subset with maxVars = 3         4.284109e-10  \n"
     ]
    }
   ],
   "source": [
    "options['maxVars'] = 3\n",
    "options['nameOfReg'] = 'Best Subset with maxVars = 3'\n",
    "fm.best_subset_regression(all_data, 'Real Estate', config.factorName, options)"
   ]
  },
  {
   "cell_type": "markdown",
   "metadata": {},
   "source": [
    "As we claimed before, best subset can also drop out noisy variables like LASSO.  The following code block re-runs the best subset regression with the noise variable.  Notice that like LASSO, it also filters out the noise variable."
   ]
  },
  {
   "cell_type": "code",
   "execution_count": 24,
   "metadata": {},
   "outputs": [
    {
     "name": "stdout",
     "output_type": "stream",
     "text": [
      "Dependent Variable is Real Estate\n",
      "Time period is between January 1985 to September 2018 inclusive   \n",
      "                              Intercept  World Equities  US Treasuries  \\\n",
      "Best Subset with maxVars = 3  -0.002295        0.274694       1.186268   \n",
      "\n",
      "                              Bond Risk Premium  Inflation Protection  \\\n",
      "Best Subset with maxVars = 3            1.09139         -1.454410e-10   \n",
      "\n",
      "                              Currency Protection         Noise  \n",
      "Best Subset with maxVars = 3        -1.101196e-11 -1.060274e-09  \n"
     ]
    }
   ],
   "source": [
    "options['maxVars'] = 3\n",
    "options['nameOfReg'] = 'Best Subset with maxVars = 3'\n",
    "fm.best_subset_regression(all_data, 'Real Estate', factorNameWithNoise, options)"
   ]
  },
  {
   "cell_type": "markdown",
   "metadata": {},
   "source": [
    "One might ask, why don't we always use best subset selection?  After all, it seems the most direct way to pick the best n variable model.  Well, one reason is because it's a mixed integer linear program.  The constraint on $\\textbf{z}$ makes the system hard to solve for large numbers of variables.  Although some recent work has been done to make the optimization problem feasible using hundres of variables, LASSO (and other methods) works for potentially thousands of factors."
   ]
  },
  {
   "cell_type": "markdown",
   "metadata": {},
   "source": [
    "## 4 Relaxing the time period assumption, Regime Analysis <a class=\"anchor\" id=\"4\"></a>\n",
    "\n",
    "We haven't discussed how to address the second drawback of factor analysis, namely that over different time periods the factor loadings can change.\n",
    "\n",
    "In the next section we will show how to define regimes using modern machine learning techniques.  We will then use the techniques covered in this module to estimate the factor loadings for each regime."
   ]
  },
  {
   "cell_type": "markdown",
   "metadata": {},
   "source": [
    "## 5 Additional Resources <a class=\"anchor\" id=\"5\"></a>\n",
    "\n",
    "For more information on Lasso Regression, one can refer to [wikipedia](https://en.wikipedia.org/wiki/Lasso_(statistics)) or the original paper [here](http://statweb.stanford.edu/~tibs/lasso.html)\n",
    "\n",
    "If you want to learn more about best subset verses LASSO verses and other variable selection techniques, we encourage you to skim through [this paper](http://www.stat.cmu.edu/~ryantibs/papers/bestsubset.pdf)\n",
    "\n",
    "If you would like to learn more about the advantages of Elastic Net verses LASSO regression, please refer to [this paper](https://web.stanford.edu/~hastie/Papers/B67.2%20%282005%29%20301-320%20Zou%20&%20Hastie.pdf)"
   ]
  },
  {
   "cell_type": "markdown",
   "metadata": {},
   "source": [
    "## 6 User Section <a class=\"anchor\" id=\"5\"></a>\n",
    "In this section, we provide a space for the user to run their own analysis.\n",
    "\n",
    "Instructions:\n",
    "   * Go to the file config.py and turn the demo variable to False\n",
    "   * Change the following variables\n",
    "      * dataPathUser: path to data you wish to analyse, must be in CSV format\n",
    "      * factorNameUser: Make a list of the factors you wish to consider.  The elements of this list must be columns in the csv file located at dataPathUser\n",
    "      * assetNameUser: string, names the asset you wish to calculate factor loadings with\n",
    "      * dateNameUser: defines the date column in your data set\n",
    "      \n",
    "This section runs OLS, LASSO, and Best Subset Regression.  Feel free to compare and contrast any results you get in this section to the results from the above notebook"
   ]
  },
  {
   "cell_type": "code",
   "execution_count": 25,
   "metadata": {},
   "outputs": [],
   "source": [
    "imp.reload(config)\n",
    "if(config.isDemo == False):\n",
    "    #Load in Data\n",
    "    dataUser = pd.read_csv(config.dataPathUser)\n",
    "    dataUser[config.dateNameUser] = pd.to_datetime(dataUser[config.dateNameUser])"
   ]
  },
  {
   "cell_type": "markdown",
   "metadata": {},
   "source": [
    "### OLS Loading"
   ]
  },
  {
   "cell_type": "code",
   "execution_count": 26,
   "metadata": {},
   "outputs": [],
   "source": [
    "imp.reload(fm)\n",
    "if(config.isDemo==False):\n",
    "    optionsUser = fm.create_options()\n",
    "    optionsUser['printLoadings'] = True\n",
    "    optionsUser['nameOfReg'] = 'OLS for ' + str(config.assetNameUser)\n",
    "    fm.linear_regression(dataUser, config.assetNameUser, config.factorNameUser, optionsUser)"
   ]
  },
  {
   "cell_type": "markdown",
   "metadata": {},
   "source": [
    "### CV Lasso"
   ]
  },
  {
   "cell_type": "code",
   "execution_count": 27,
   "metadata": {},
   "outputs": [],
   "source": [
    "if(config.isDemo==False):\n",
    "    optionsUser = fm.create_options_cv_lasso()\n",
    "    optionsUser['printLoadings'] = True\n",
    "    optionsUser['nameOfReg'] = 'CV Lasso for ' + str(config.assetNameUser)\n",
    "    fm.cross_validated_lasso_regression(dataUser, config.assetNameUser, config.factorNameUser, optionsUser)"
   ]
  },
  {
   "cell_type": "markdown",
   "metadata": {},
   "source": [
    "## CV Elastic Net"
   ]
  },
  {
   "cell_type": "code",
   "execution_count": 28,
   "metadata": {},
   "outputs": [],
   "source": [
    "if(config.isDemo==False):\n",
    "    optionsUser = fm.create_options_cv_elastic_net()\n",
    "    optionsUser['printLoadings'] = True\n",
    "    optionsUser['nameOfReg'] = 'CV Elastic Net for ' + str(config.assetNameUser)\n",
    "    fm.cross_validated_lasso_regression(dataUser, config.assetNameUser, config.factorNameUser, optionsUser)"
   ]
  },
  {
   "cell_type": "markdown",
   "metadata": {},
   "source": [
    "### Best Subset Regression"
   ]
  },
  {
   "cell_type": "code",
   "execution_count": 29,
   "metadata": {},
   "outputs": [],
   "source": [
    "if(config.isDemo==False):\n",
    "    optionsUser = fm.create_options()\n",
    "    optionsUser['printLoadings'] = True\n",
    "    optionsUser['maxVars'] = 2\n",
    "    optionsUser['nameOfReg'] = 'Best '+ str(optionsUser['maxVars']) + ' Subset Regression for ' + str(config.assetNameUser)\n",
    "    fm.best_subset_regression(dataUser, config.assetNameUser, config.factorNameUser, optionsUser)"
   ]
  },
  {
   "cell_type": "markdown",
   "metadata": {},
   "source": [
    "If you would like to change the number of variables included in the best subset regression.  Change the line\n",
    "optionsUser['maxVars'] = ... to whatever number of variables you would like to include"
   ]
  },
  {
   "cell_type": "code",
   "execution_count": null,
   "metadata": {},
   "outputs": [],
   "source": []
  }
 ],
 "metadata": {
  "kernelspec": {
   "display_name": "Python 3",
   "language": "python",
   "name": "python3"
  },
  "language_info": {
   "codemirror_mode": {
    "name": "ipython",
    "version": 3
   },
   "file_extension": ".py",
   "mimetype": "text/x-python",
   "name": "python",
   "nbconvert_exporter": "python",
   "pygments_lexer": "ipython3",
   "version": "3.6.7"
  }
 },
 "nbformat": 4,
 "nbformat_minor": 2
}
