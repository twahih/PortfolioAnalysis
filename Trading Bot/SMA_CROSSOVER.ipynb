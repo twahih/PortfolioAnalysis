{
 "cells": [
  {
   "cell_type": "code",
   "execution_count": 1,
   "metadata": {},
   "outputs": [
    {
     "ename": "ModuleNotFoundError",
     "evalue": "No module named 'alpha_vantage'",
     "output_type": "error",
     "traceback": [
      "\u001b[1;31m---------------------------------------------------------------------------\u001b[0m",
      "\u001b[1;31mModuleNotFoundError\u001b[0m                       Traceback (most recent call last)",
      "\u001b[1;32m~\\AppData\\Local\\Temp\\ipykernel_13824\\589533342.py\u001b[0m in \u001b[0;36m<module>\u001b[1;34m\u001b[0m\n\u001b[0;32m      3\u001b[0m \u001b[1;32mimport\u001b[0m \u001b[0mpandas\u001b[0m \u001b[1;32mas\u001b[0m \u001b[0mpd\u001b[0m\u001b[1;33m\u001b[0m\u001b[1;33m\u001b[0m\u001b[0m\n\u001b[0;32m      4\u001b[0m \u001b[1;32mimport\u001b[0m \u001b[0mnumpy\u001b[0m \u001b[1;32mas\u001b[0m \u001b[0mnp\u001b[0m\u001b[1;33m\u001b[0m\u001b[1;33m\u001b[0m\u001b[0m\n\u001b[1;32m----> 5\u001b[1;33m \u001b[1;32mfrom\u001b[0m \u001b[0malpha_vantage\u001b[0m\u001b[1;33m.\u001b[0m\u001b[0mtimeseries\u001b[0m \u001b[1;32mimport\u001b[0m \u001b[0mTimeSeries\u001b[0m\u001b[1;33m\u001b[0m\u001b[1;33m\u001b[0m\u001b[0m\n\u001b[0m\u001b[0;32m      6\u001b[0m \u001b[1;32mimport\u001b[0m \u001b[0malpaca_trade_api\u001b[0m \u001b[1;32mas\u001b[0m \u001b[0mtradeapi\u001b[0m\u001b[1;33m\u001b[0m\u001b[1;33m\u001b[0m\u001b[0m\n\u001b[0;32m      7\u001b[0m \u001b[1;32mfrom\u001b[0m \u001b[0mconfig\u001b[0m \u001b[1;32mimport\u001b[0m \u001b[1;33m*\u001b[0m\u001b[1;33m\u001b[0m\u001b[1;33m\u001b[0m\u001b[0m\n",
      "\u001b[1;31mModuleNotFoundError\u001b[0m: No module named 'alpha_vantage'"
     ]
    }
   ],
   "source": [
    "%load_ext autoreload\n",
    "%autoreload 2\n",
    "import pandas as pd\n",
    "import numpy as np\n",
    "from alpha_vantage.timeseries import TimeSeries\n",
    "import alpaca_trade_api as tradeapi\n",
    "from config import *\n",
    "import matplotlib.pyplot as plt\n"
   ]
  },
  {
   "cell_type": "code",
   "execution_count": null,
   "metadata": {},
   "outputs": [],
   "source": [
    "#SET ALAPACA API ENVIRONMENT VARIABLES \n",
    "\n",
    "HEADERS={'APCA-API-KEY-ID':API_KEY,'APCA-API-SECRET-KEY':SECRET_KEY}\n",
    "alpaca=tradeapi.REST(API_KEY,SECRET_KEY,BASE_URL,api_version='v2')"
   ]
  },
  {
   "cell_type": "code",
   "execution_count": null,
   "metadata": {},
   "outputs": [],
   "source": [
    "#SET ALPHA VINTAGE ENVIRONMENT VARIABLES \n",
    "ts=TimeSeries(key=ALPHA_API_KEY,output_format='pandas')\n",
    "data, meta_data = ts.get_intraday(symbol='MSFT',interval='1min', outputsize='compact')\n",
    "symbol='SNDX'"
   ]
  },
  {
   "cell_type": "code",
   "execution_count": null,
   "metadata": {},
   "outputs": [],
   "source": []
  },
  {
   "cell_type": "code",
   "execution_count": null,
   "metadata": {},
   "outputs": [],
   "source": [
    "def place_order():\n",
    "    \n",
    "    Account=alpaca.get_account()\n",
    "    BuyPwr=float(Account.buying_power)/float(alpaca.get_barset(symbol, '1Min',limit=1)[symbol][0].o)\n",
    "    \n",
    "    try:\n",
    "        SellPwr=float(alpaca.get_position(symbol).qty)\n",
    "    except:\n",
    "        SellPwr =0\n",
    "        \n",
    "    MA10=data['4. close'].rolling(10).mean()[-1]\n",
    "    MA20=data['4. close'].rolling(20).mean()[-1]\n",
    "    qty=np.random.randint(100)\n",
    "    r='No Acction'\n",
    "    if MA10>MA20 and BuyPwr>0:\n",
    "        side='buy'\n",
    "        qty= qty if qty<BuyPwr else int(BuyPwr)\n",
    "        r=alpaca.submit_order(sympol,qty,side,'market','gtc')\n",
    "        Account=alpaca.get_account()\n",
    "        status=r.side +\" \"+r.qty+\" \"+r.symbol+\" at $\"+Account.initial_margin +\" Acct Val:\"+Account.portfolio_value\n",
    "    elif MA10<MA20 and SellPwr>0 :\n",
    "        side='sell'\n",
    "        qty = qty if qty<=SellPwr else SellPwr\n",
    "        r=alpaca.submit_order(symbol,qty,side,'market','gtc')\n",
    "        Account=alpaca.get_account()\n",
    "        status=r.side +\" \"+r.qty+\" \"+r.symbol+\" at $\"+Account.initial_margin +\" Acct Val:\"+Account.portfolio_value\n",
    "    else:\n",
    "        Account=alpaca.get_account()\n",
    "        status='No Transaction'+ \" [INFO] Acct Val: $ \" + Account.portfolio_value +\" \"+str(MA10>MA20) + \" \"+str(SellPwr) +\", Sell Pwr\"\n",
    "    return status"
   ]
  },
  {
   "cell_type": "code",
   "execution_count": null,
   "metadata": {},
   "outputs": [],
   "source": [
    "place_order()"
   ]
  },
  {
   "cell_type": "code",
   "execution_count": null,
   "metadata": {},
   "outputs": [],
   "source": [
    " SellPwr=alpaca.get_position(symbol).qty"
   ]
  },
  {
   "cell_type": "code",
   "execution_count": null,
   "metadata": {},
   "outputs": [],
   "source": [
    "alpaca.get_barset(symbol, '1Min',limit=1)"
   ]
  },
  {
   "cell_type": "code",
   "execution_count": null,
   "metadata": {},
   "outputs": [],
   "source": [
    "Account=alpaca.get_account()"
   ]
  },
  {
   "cell_type": "code",
   "execution_count": null,
   "metadata": {},
   "outputs": [],
   "source": [
    "Account.initial_margin"
   ]
  },
  {
   "cell_type": "code",
   "execution_count": null,
   "metadata": {},
   "outputs": [],
   "source": [
    "float(Account.buying_power)/float(Account.initial_margin)"
   ]
  },
  {
   "cell_type": "code",
   "execution_count": null,
   "metadata": {},
   "outputs": [],
   "source": [
    "Account"
   ]
  },
  {
   "cell_type": "code",
   "execution_count": null,
   "metadata": {},
   "outputs": [],
   "source": [
    "order=alpaca.submit_order('AAPL',1,'buy','market','gtc')"
   ]
  },
  {
   "cell_type": "code",
   "execution_count": null,
   "metadata": {},
   "outputs": [],
   "source": [
    "order"
   ]
  },
  {
   "cell_type": "code",
   "execution_count": null,
   "metadata": {},
   "outputs": [],
   "source": [
    "try:\n",
    "    SellPwr=alpaca.get_position('DAL').qty\n",
    "except:\n",
    "        SellPwr =0"
   ]
  },
  {
   "cell_type": "code",
   "execution_count": null,
   "metadata": {},
   "outputs": [],
   "source": [
    "barset = alpaca.get_barset('AAPL', '1Min',limit=1)\n",
    "aapl_bars = barset['AAPL']"
   ]
  },
  {
   "cell_type": "code",
   "execution_count": null,
   "metadata": {},
   "outputs": [],
   "source": [
    "aapl_bars"
   ]
  },
  {
   "cell_type": "code",
   "execution_count": null,
   "metadata": {},
   "outputs": [],
   "source": [
    "#SET ALPHA VINTAGE ENVIRONMENT VARIABLES \n",
    "ts=TimeSeries(key=ALPHA_API_KEY,output_format='pandas')\n",
    "data, meta_data = ts.get_monthly(symbol='MSFT')\n",
    "symbol='SNDX'"
   ]
  },
  {
   "cell_type": "code",
   "execution_count": null,
   "metadata": {},
   "outputs": [],
   "source": [
    "data.tail()"
   ]
  },
  {
   "cell_type": "code",
   "execution_count": null,
   "metadata": {},
   "outputs": [],
   "source": [
    "aapl, meta_aapl = ts.get_monthly(symbol='AAPL')"
   ]
  },
  {
   "cell_type": "code",
   "execution_count": null,
   "metadata": {},
   "outputs": [],
   "source": [
    "aapl.columns"
   ]
  },
  {
   "cell_type": "code",
   "execution_count": null,
   "metadata": {},
   "outputs": [],
   "source": [
    "aapl=aapl.drop(['1. open', '2. high', '3. low','5. volume'],axis=1)"
   ]
  },
  {
   "cell_type": "code",
   "execution_count": null,
   "metadata": {},
   "outputs": [],
   "source": [
    "aapl.columns=['AAPL']"
   ]
  },
  {
   "cell_type": "code",
   "execution_count": null,
   "metadata": {},
   "outputs": [],
   "source": [
    "data=data.drop(['1. open', '2. high', '3. low','5. volume'],axis=1)"
   ]
  },
  {
   "cell_type": "code",
   "execution_count": null,
   "metadata": {},
   "outputs": [],
   "source": [
    "data.columns=['MSFT']"
   ]
  },
  {
   "cell_type": "code",
   "execution_count": null,
   "metadata": {},
   "outputs": [],
   "source": [
    "sp=data.merge(aapl,how='outer',on='date')"
   ]
  },
  {
   "cell_type": "code",
   "execution_count": null,
   "metadata": {},
   "outputs": [],
   "source": [
    "sp.tail()"
   ]
  },
  {
   "cell_type": "code",
   "execution_count": null,
   "metadata": {},
   "outputs": [],
   "source": [
    "components=['DAL','GE','MSFT']"
   ]
  },
  {
   "cell_type": "code",
   "execution_count": null,
   "metadata": {},
   "outputs": [],
   "source": [
    "Data=pd.DataFrame()\n",
    "for i in components:\n",
    "    data = ts.get_monthly(symbol=i)[0]\n",
    "    data=data.drop(['1. open', '2. high', '3. low','5. volume'],axis=1)\n",
    "    data.columns=[i]\n",
    "    if Data.empty:\n",
    "        Data=data\n",
    "    else:\n",
    "        Data=pd.merge(Data,data,how='outer',on='date')\n",
    "    "
   ]
  },
  {
   "cell_type": "code",
   "execution_count": null,
   "metadata": {},
   "outputs": [],
   "source": [
    "Data.tail()"
   ]
  },
  {
   "cell_type": "code",
   "execution_count": null,
   "metadata": {},
   "outputs": [],
   "source": []
  }
 ],
 "metadata": {
  "kernelspec": {
   "display_name": "Python 3 (ipykernel)",
   "language": "python",
   "name": "python3"
  },
  "language_info": {
   "codemirror_mode": {
    "name": "ipython",
    "version": 3
   },
   "file_extension": ".py",
   "mimetype": "text/x-python",
   "name": "python",
   "nbconvert_exporter": "python",
   "pygments_lexer": "ipython3",
   "version": "3.8.13"
  }
 },
 "nbformat": 4,
 "nbformat_minor": 2
}
