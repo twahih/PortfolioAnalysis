{
 "cells": [
  {
   "cell_type": "code",
   "execution_count": 29,
   "metadata": {},
   "outputs": [
    {
     "name": "stdout",
     "output_type": "stream",
     "text": [
      "The autoreload extension is already loaded. To reload it, use:\n",
      "  %reload_ext autoreload\n"
     ]
    }
   ],
   "source": [
    "%load_ext autoreload\n",
    "%autoreload 2\n",
    "import pandas as pd\n",
    "import numpy as np\n",
    "from alpha_vantage.timeseries import TimeSeries\n",
    "import alpaca_trade_api as tradeapi\n",
    "from config import *\n",
    "import os\n",
    "import time"
   ]
  },
  {
   "cell_type": "markdown",
   "metadata": {},
   "source": [
    "# Compute Stock Beta"
   ]
  },
  {
   "cell_type": "code",
   "execution_count": 33,
   "metadata": {},
   "outputs": [],
   "source": [
    "#SET ALAPACA API ENVIRONMENT VARIABLES \n",
    "\n",
    "HEADERS={'APCA-API-KEY-ID':API_KEY,'APCA-API-SECRET-KEY':SECRET_KEY}\n",
    "alpaca=tradeapi.REST(API_KEY,SECRET_KEY,BASE_URL,api_version='v1')"
   ]
  },
  {
   "cell_type": "code",
   "execution_count": 52,
   "metadata": {},
   "outputs": [],
   "source": [
    "def get_bars(symbol,interval='15Min',limit=\"2021-06-08\"):\n",
    "    bar=alpaca.get_bars(symbol,interval,limit)\n",
    "    return bar"
   ]
  },
  {
   "cell_type": "code",
   "execution_count": 53,
   "metadata": {},
   "outputs": [],
   "source": [
    "#SET ALPHA VINTAGE ENVIRONMENT VARIABLES \n",
    "ts=TimeSeries(key=ALPHA_API_KEY,output_format='pandas')\n",
    "dfy = get_bars('SPY','1D',\"2021-06-08\")\n",
    "dfx1=get_bars('ADBE','1D')\n",
    "dfx2=get_bars('INTC','1D')"
   ]
  },
  {
   "cell_type": "code",
   "execution_count": 13,
   "metadata": {},
   "outputs": [
    {
     "ename": "ModuleNotFoundError",
     "evalue": "No module named 'statsmodels'",
     "output_type": "error",
     "traceback": [
      "\u001b[1;31m---------------------------------------------------------------------------\u001b[0m",
      "\u001b[1;31mModuleNotFoundError\u001b[0m                       Traceback (most recent call last)",
      "\u001b[1;32m~\\AppData\\Local\\Temp\\ipykernel_22804\\2942467458.py\u001b[0m in \u001b[0;36m<module>\u001b[1;34m\u001b[0m\n\u001b[1;32m----> 1\u001b[1;33m \u001b[1;32mimport\u001b[0m \u001b[0mstatsmodels\u001b[0m\u001b[1;33m.\u001b[0m\u001b[0mapi\u001b[0m \u001b[1;32mas\u001b[0m \u001b[0msm\u001b[0m\u001b[1;33m\u001b[0m\u001b[1;33m\u001b[0m\u001b[0m\n\u001b[0m\u001b[0;32m      2\u001b[0m \u001b[1;32mfrom\u001b[0m \u001b[0mstatsmodels\u001b[0m \u001b[1;32mimport\u001b[0m \u001b[0mregression\u001b[0m\u001b[1;33m\u001b[0m\u001b[1;33m\u001b[0m\u001b[0m\n\u001b[0;32m      3\u001b[0m \u001b[1;33m\u001b[0m\u001b[0m\n\u001b[0;32m      4\u001b[0m \u001b[1;32mdef\u001b[0m \u001b[0mget_stock_beta\u001b[0m\u001b[1;33m(\u001b[0m\u001b[0mdfx1\u001b[0m\u001b[1;33m,\u001b[0m\u001b[0mdfx2\u001b[0m\u001b[1;33m,\u001b[0m\u001b[0mdfy\u001b[0m\u001b[1;33m)\u001b[0m\u001b[1;33m:\u001b[0m\u001b[1;33m\u001b[0m\u001b[1;33m\u001b[0m\u001b[0m\n\u001b[0;32m      5\u001b[0m     \u001b[0mdfy_returns\u001b[0m\u001b[1;33m=\u001b[0m\u001b[0mdfy\u001b[0m\u001b[1;33m[\u001b[0m\u001b[1;33m[\u001b[0m\u001b[1;34m'c'\u001b[0m\u001b[1;33m]\u001b[0m\u001b[1;33m]\u001b[0m\u001b[1;33m.\u001b[0m\u001b[0mpct_change\u001b[0m\u001b[1;33m(\u001b[0m\u001b[1;33m)\u001b[0m\u001b[1;33m[\u001b[0m\u001b[1;36m1\u001b[0m\u001b[1;33m:\u001b[0m\u001b[1;33m]\u001b[0m\u001b[1;33m.\u001b[0m\u001b[0mvalues\u001b[0m\u001b[1;33m\u001b[0m\u001b[1;33m\u001b[0m\u001b[0m\n",
      "\u001b[1;31mModuleNotFoundError\u001b[0m: No module named 'statsmodels'"
     ]
    }
   ],
   "source": [
    "import statsmodels.api as sm\n",
    "from statsmodels import regression \n",
    "\n",
    "def get_stock_beta(dfx1,dfx2,dfy):\n",
    "    dfy_returns=dfy[['c']].pct_change()[1:].values\n",
    "    dfx1_returns=dfx1[['c']].pct_change()[1:].values\n",
    "    dfx2_returns=dfx2[['c']].pct_change()[1:].values\n",
    "    \n",
    "    def linreg(X1,X2,Y):\n",
    "        X1=sm.add_constant(X1)\n",
    "        X2=sm.add_constant(X2)\n",
    "        model1=regression.linear_model.OLS(Y,X1).fit()\n",
    "        model2=regression.linear_model.OLS(Y,X2).fit()\n",
    "        return model1.params[1],model2.params[1]\n",
    "    return linreg(dfx1_returns,dfx2_returns,dfy_returns)"
   ]
  },
  {
   "cell_type": "code",
   "execution_count": 6,
   "metadata": {},
   "outputs": [],
   "source": [
    "x1_beta,x2_beta=get_stock_beta(dfx1,dfx2,dfy)"
   ]
  },
  {
   "cell_type": "code",
   "execution_count": 7,
   "metadata": {},
   "outputs": [
    {
     "data": {
      "text/plain": [
       "(0.6756297182428721, 0.5592697435284659)"
      ]
     },
     "execution_count": 7,
     "metadata": {},
     "output_type": "execute_result"
    }
   ],
   "source": [
    "x1_beta,x2_beta"
   ]
  },
  {
   "cell_type": "code",
   "execution_count": 8,
   "metadata": {},
   "outputs": [],
   "source": [
    "x1_price=alpaca.polygon.last_trade('ADBE').price\n",
    "x2_price=alpaca.polygon.last_trade('INTC').price\n",
    "long_limit=int(3000/x1_price)\n",
    "short_limit=int((long_limit*x1_price*x1_beta)/(x2_beta*x2_price))\n",
    "bought=0\n",
    "sold=0"
   ]
  },
  {
   "cell_type": "code",
   "execution_count": 9,
   "metadata": {},
   "outputs": [],
   "source": [
    "def place_order(pair,bought,sold,window1=5,window2=60):\n",
    "    S1 = get_bars(pair[0],'1Min',1000)['c']\n",
    "    S2 = get_bars(pair[1],'1Min',1000)['c']\n",
    "    dt_stocks=pd.merge(S1,S2,on='t')\n",
    "    dt_stocks.columns=pair\n",
    "    # If window length is 0, algorithm doesn't make sense, so exit\n",
    "    if (window1 == 0) or (window2 == 0):\n",
    "        return 0\n",
    "    # Compute rolling mean and rolling standard deviation\n",
    "    ratios = dt_stocks[pair[0]]/dt_stocks[pair[1]]\n",
    "    ma1 = ratios.rolling(window=window1,\n",
    "                               center=False).mean()[-1]\n",
    "    ma2 = ratios.rolling(window=window2,\n",
    "                               center=False).mean()[-1]\n",
    "    std = ratios.rolling(window=window2,\n",
    "                        center=False).std()[-1]\n",
    "    zscore = (ma1 - ma2)/std    \n",
    "    \n",
    "    Account=alpaca.get_account()\n",
    "\n",
    "    r='No Acction'\n",
    "    status=zscore\n",
    "    \n",
    "    #Sell short Buy long if the z-score is >1\n",
    "    if zscore>1 and sold<short_limit and bought<long_limit:\n",
    "        side='sell'\n",
    "        r=alpaca.submit_order(pair[1],7,side,'market','gtc')\n",
    "        k=alpaca.submit_order(pair[0],1,'buy','market','gtc')\n",
    "        Account=alpaca.get_account()\n",
    "        status=r.side +\" \"+\"7\"+\" \"+pair[1]+\" at $\"+str(alpaca.polygon.last_trade(pair[1]).price) +\" Acct Val:\"+Account.portfolio_value\n",
    "        sold=sold+7\n",
    "        bought=bought+1\n",
    "    #Buy long if the z-score is <1\n",
    "    elif zscore<-1 and bought<long_limit and sold<short_limit :\n",
    "        side='buy'\n",
    "        r=alpaca.submit_order(pair[0],1,side,'market','gtc')\n",
    "        k=alpaca.submit_order(pair[1],7,'sell','market','gtc')\n",
    "        Account=alpaca.get_account()\n",
    "        status=r.side +\" \"+\"1\"+\" \"+pair[0]+\" at $\"+str(alpaca.polygon.last_trade(pair[0]).price) +\" Acct Val:\"+Account.portfolio_value\n",
    "        bought=bought+1\n",
    "        sold=sold+7\n",
    "    #Clear positions if the z-score between -0.5 and 0.5\n",
    "    elif abs(zscore)<0.5:\n",
    "        alpaca.close_all_positions()\n",
    "        Account=alpaca.get_account()\n",
    "        sold=0\n",
    "        bought=0\n",
    "        status='No Transaction'+ \" [INFO] Acct Val: $ \" + Account.portfolio_value +\" Z-score \" + str(zscore) \n",
    "    return status,bought,sold\n"
   ]
  },
  {
   "cell_type": "code",
   "execution_count": 10,
   "metadata": {},
   "outputs": [
    {
     "name": "stdout",
     "output_type": "stream",
     "text": [
      "No Transaction [INFO] Acct Val: $ 100048.02 Z-score -0.3967116864451598\n",
      "buy 1 ADBE at $382.9003 Acct Val:100047.98\n",
      "buy 1 ADBE at $382.76 Acct Val:100048.22\n",
      "buy 1 ADBE at $380.17 Acct Val:100049.35\n",
      "buy 1 ADBE at $378.5209 Acct Val:100046.9\n",
      "buy 1 ADBE at $378.14 Acct Val:100048.18\n",
      "buy 1 ADBE at $378.66 Acct Val:100047.9\n",
      "buy 1 ADBE at $378.6848 Acct Val:100043.03\n",
      "-1.3270458560324163\n",
      "No Transaction [INFO] Acct Val: $ 100053.39 Z-score -0.40887788136753395\n",
      "No Transaction [INFO] Acct Val: $ 100052.48 Z-score -0.012203505737441637\n",
      "No Transaction [INFO] Acct Val: $ 100052.48 Z-score -0.12873391325448705\n",
      "No Transaction [INFO] Acct Val: $ 100052.48 Z-score -0.030892717985898918\n",
      "sell 7 INTC at $61.95 Acct Val:100052.41\n",
      "sell 7 INTC at $61.75 Acct Val:100052.74\n",
      "sell 7 INTC at $61.855 Acct Val:100052.45\n",
      "sell 7 INTC at $62.1144 Acct Val:100051.67\n",
      "sell 7 INTC at $62.11 Acct Val:100049.03\n",
      "0.9014536608026814\n",
      "sell 7 INTC at $61.88 Acct Val:100055.65\n",
      "sell 7 INTC at $61.935 Acct Val:100050.48\n",
      "No Transaction [INFO] Acct Val: $ 100044.05 Z-score 0.05347881068630298\n",
      "No Transaction [INFO] Acct Val: $ 100043.84 Z-score 0.0967874987267801\n",
      "No Transaction [INFO] Acct Val: $ 100043.84 Z-score -0.1179743192932461\n",
      "No Transaction [INFO] Acct Val: $ 100043.84 Z-score -0.16978244385258423\n",
      "-0.5234938452848329\n",
      "-0.6198994864517896\n",
      "0.8000765434194005\n",
      "sell 7 INTC at $62.225 Acct Val:100043.84\n",
      "sell 7 INTC at $62.08 Acct Val:100044.35\n",
      "sell 7 INTC at $62.155 Acct Val:100044.07\n",
      "sell 7 INTC at $62.25 Acct Val:100043.83\n",
      "sell 7 INTC at $62.245 Acct Val:100043.24\n",
      "0.8646002724250347\n",
      "0.7203673342668897\n",
      "0.7398452022211097\n",
      "No Transaction [INFO] Acct Val: $ 100037.58 Z-score 0.2870585133097601\n",
      "-0.8964633727927281\n",
      "buy 1 ADBE at $382.52 Acct Val:100035.43\n",
      "buy 1 ADBE at $382.84 Acct Val:100035.1\n",
      "buy 1 ADBE at $383.36 Acct Val:100034.74\n",
      "buy 1 ADBE at $382.9 Acct Val:100032.7\n",
      "buy 1 ADBE at $382.57 Acct Val:100033.2\n",
      "buy 1 ADBE at $382.94 Acct Val:100035.75\n",
      "-0.9193992138320737\n",
      "-0.7043431443129021\n",
      "-0.7202725180592033\n",
      "-0.9065688202921195\n",
      "-0.8173896179977295\n",
      "buy 1 ADBE at $382.885 Acct Val:100035.73\n",
      "-0.7978570121214956\n",
      "-0.8480828445492082\n",
      "No Transaction [INFO] Acct Val: $ 100039.22 Z-score -0.18471306749292352\n",
      "No Transaction [INFO] Acct Val: $ 100037.05 Z-score 0.209148340735372\n",
      "No Transaction [INFO] Acct Val: $ 100037.05 Z-score 0.31752881806130845\n",
      "No Transaction [INFO] Acct Val: $ 100037.05 Z-score 0.1783182423926817\n",
      "0.5812428842533527\n",
      "0.5630806563092203\n",
      "sell 7 INTC at $62.5516 Acct Val:100037.05\n",
      "sell 7 INTC at $62.2785 Acct Val:100036.71\n",
      "No Transaction [INFO] Acct Val: $ 100037.01 Z-score 0.2701041659317906\n",
      "buy 1 ADBE at $384.93 Acct Val:100035.97\n",
      "buy 1 ADBE at $384.96 Acct Val:100034.71\n",
      "buy 1 ADBE at $385.27 Acct Val:100034.35\n",
      "buy 1 ADBE at $384.768 Acct Val:100034.53\n",
      "buy 1 ADBE at $385.8 Acct Val:100036.94\n",
      "-0.8945147860757108\n",
      "-0.5433635273787106\n",
      "No Transaction [INFO] Acct Val: $ 100043.74 Z-score -0.16465053666431642\n",
      "No Transaction [INFO] Acct Val: $ 100043.24 Z-score 0.21810556598324773\n",
      "No Transaction [INFO] Acct Val: $ 100043.24 Z-score 0.3074752980223076\n",
      "No Transaction [INFO] Acct Val: $ 100043.24 Z-score 0.2718660811868587\n",
      "sell 7 INTC at $63.235 Acct Val:100043.24\n",
      "sell 7 INTC at $63.25 Acct Val:100041.74\n",
      "sell 7 INTC at $63.28 Acct Val:100041.53\n",
      "sell 7 INTC at $63.0002 Acct Val:100045.11\n",
      "sell 7 INTC at $63.15 Acct Val:100042.45\n",
      "sell 7 INTC at $62.93 Acct Val:100043.98\n",
      "sell 7 INTC at $63.28 Acct Val:100041.54\n",
      "1.8435272579090423\n",
      "1.8435272579090423\n",
      "1.8435272579090423\n",
      "1.8435272579090423\n",
      "1.8435272579090423\n",
      "1.8435272579090423\n",
      "1.8435272579090423\n",
      "1.8435272579090423\n",
      "1.8435272579090423\n",
      "1.8435272579090423\n",
      "1.8435272579090423\n",
      "1.8435272579090423\n",
      "1.8435272579090423\n",
      "1.8435272579090423\n",
      "1.8435272579090423\n",
      "1.8435272579090423\n",
      "1.8435272579090423\n"
     ]
    },
    {
     "ename": "KeyboardInterrupt",
     "evalue": "",
     "output_type": "error",
     "traceback": [
      "\u001b[1;31m---------------------------------------------------------------------------\u001b[0m",
      "\u001b[1;31mKeyboardInterrupt\u001b[0m                         Traceback (most recent call last)",
      "\u001b[1;32m<ipython-input-10-aeaec92265de>\u001b[0m in \u001b[0;36m<module>\u001b[1;34m()\u001b[0m\n\u001b[0;32m      2\u001b[0m     \u001b[0mstatus\u001b[0m\u001b[1;33m,\u001b[0m \u001b[0mbought\u001b[0m\u001b[1;33m,\u001b[0m \u001b[0msold\u001b[0m\u001b[1;33m=\u001b[0m\u001b[0mplace_order\u001b[0m\u001b[1;33m(\u001b[0m\u001b[1;33m[\u001b[0m\u001b[1;34m'ADBE'\u001b[0m\u001b[1;33m,\u001b[0m\u001b[1;34m'INTC'\u001b[0m\u001b[1;33m]\u001b[0m\u001b[1;33m,\u001b[0m\u001b[0mbought\u001b[0m\u001b[1;33m,\u001b[0m\u001b[0msold\u001b[0m\u001b[1;33m,\u001b[0m\u001b[1;36m5\u001b[0m\u001b[1;33m,\u001b[0m\u001b[1;36m60\u001b[0m\u001b[1;33m)\u001b[0m\u001b[1;33m\u001b[0m\u001b[0m\n\u001b[0;32m      3\u001b[0m     \u001b[0mprint\u001b[0m\u001b[1;33m(\u001b[0m\u001b[0mstatus\u001b[0m\u001b[1;33m)\u001b[0m\u001b[1;33m\u001b[0m\u001b[0m\n\u001b[1;32m----> 4\u001b[1;33m     \u001b[0mtime\u001b[0m\u001b[1;33m.\u001b[0m\u001b[0msleep\u001b[0m\u001b[1;33m(\u001b[0m\u001b[1;36m300\u001b[0m\u001b[1;33m)\u001b[0m\u001b[1;33m\u001b[0m\u001b[0m\n\u001b[0m",
      "\u001b[1;31mKeyboardInterrupt\u001b[0m: "
     ]
    }
   ],
   "source": [
    "while(True):\n",
    "    status, bought, sold=place_order(['ADBE','INTC'],bought,sold,5,60)\n",
    "    print(status)\n",
    "    time.sleep(300)"
   ]
  }
 ],
 "metadata": {
  "kernelspec": {
   "display_name": "Python 3 (ipykernel)",
   "language": "python",
   "name": "python3"
  },
  "language_info": {
   "codemirror_mode": {
    "name": "ipython",
    "version": 3
   },
   "file_extension": ".py",
   "mimetype": "text/x-python",
   "name": "python",
   "nbconvert_exporter": "python",
   "pygments_lexer": "ipython3",
   "version": "3.8.13"
  }
 },
 "nbformat": 4,
 "nbformat_minor": 2
}
