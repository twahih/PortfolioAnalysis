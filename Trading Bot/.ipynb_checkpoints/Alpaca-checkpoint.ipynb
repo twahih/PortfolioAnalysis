{
 "cells": [
  {
   "cell_type": "code",
   "execution_count": 43,
   "metadata": {},
   "outputs": [
    {
     "name": "stdout",
     "output_type": "stream",
     "text": [
      "The autoreload extension is already loaded. To reload it, use:\n",
      "  %reload_ext autoreload\n"
     ]
    }
   ],
   "source": [
    "%load_ext autoreload \n",
    "%autoreload 2"
   ]
  },
  {
   "cell_type": "code",
   "execution_count": 53,
   "metadata": {},
   "outputs": [],
   "source": [
    "import Trade\n",
    "from config import *\n",
    "import requests,json"
   ]
  },
  {
   "cell_type": "code",
   "execution_count": 58,
   "metadata": {},
   "outputs": [],
   "source": [
    "BASE_URL=Trade.ENDPOINT_URL\n",
    "HEADERS={'APCA-API-KEY-ID':API_KEY,'APCA-API-SECRET-KEY':SECRET_KEY}\n",
    "Account_URL=\"{}/v2/account\".format(BASE_URL)\n",
    "ORDERS_URL=\"{}/v2/orders\".format(BASE_URL)\n",
    "def get_account():\n",
    "    r=requests.get(Account_URL,headers=HEADERS)\n",
    "    return json.loads(r.content)\n",
    "    "
   ]
  },
  {
   "cell_type": "code",
   "execution_count": 59,
   "metadata": {},
   "outputs": [],
   "source": [
    "def create_order(symbol,qty,side,type, time_in_force):\n",
    "    data={\n",
    "        \"symbol\":symbol,\n",
    "        \"qty\":qty,\n",
    "        \"side\":side,\n",
    "        \"type\":type,\n",
    "        \"time_in_force\":time_in_force\n",
    "        \n",
    "    }\n",
    "    r=requests.post(ORDERS_URL,json=data,headers=HEADERS)\n",
    "    return json.loads(r.content)"
   ]
  },
  {
   "cell_type": "code",
   "execution_count": 60,
   "metadata": {},
   "outputs": [],
   "source": [
    "def get_orders():\n",
    "    r=requests.get(ORDERS_URL,headers=HEADERS)\n",
    "    return json.loads(r.content)"
   ]
  },
  {
   "cell_type": "code",
   "execution_count": 61,
   "metadata": {},
   "outputs": [
    {
     "name": "stdout",
     "output_type": "stream",
     "text": [
      "{'id': 'c6401835-79d0-4093-99c1-cbcd2e4a352a', 'client_order_id': '30cbcf00-9d0c-4ba3-bc26-59954656ca05', 'created_at': '2020-04-28T03:28:56.165222Z', 'updated_at': '2020-04-28T03:28:56.165222Z', 'submitted_at': '2020-04-28T03:28:56.153797Z', 'filled_at': None, 'expired_at': None, 'canceled_at': None, 'failed_at': None, 'replaced_at': None, 'replaced_by': None, 'replaces': None, 'asset_id': 'b0b6dd9d-8b9b-48a9-ba46-b9d54906e415', 'symbol': 'AAPL', 'asset_class': 'us_equity', 'qty': '100', 'filled_qty': '0', 'filled_avg_price': None, 'order_class': '', 'order_type': 'market', 'type': 'market', 'side': 'buy', 'time_in_force': 'gtc', 'limit_price': None, 'stop_price': None, 'status': 'accepted', 'extended_hours': False, 'legs': None}\n"
     ]
    }
   ],
   "source": [
    "response=create_order(\"AAPL\",100,\"buy\",\"market\",\"gtc\")\n",
    "print(response)"
   ]
  },
  {
   "cell_type": "code",
   "execution_count": 64,
   "metadata": {},
   "outputs": [
    {
     "data": {
      "text/html": [
       "<div>\n",
       "<style scoped>\n",
       "    .dataframe tbody tr th:only-of-type {\n",
       "        vertical-align: middle;\n",
       "    }\n",
       "\n",
       "    .dataframe tbody tr th {\n",
       "        vertical-align: top;\n",
       "    }\n",
       "\n",
       "    .dataframe thead th {\n",
       "        text-align: right;\n",
       "    }\n",
       "</style>\n",
       "<table border=\"1\" class=\"dataframe\">\n",
       "  <thead>\n",
       "    <tr style=\"text-align: right;\">\n",
       "      <th></th>\n",
       "      <th>asset_class</th>\n",
       "      <th>asset_id</th>\n",
       "      <th>canceled_at</th>\n",
       "      <th>client_order_id</th>\n",
       "      <th>created_at</th>\n",
       "      <th>expired_at</th>\n",
       "      <th>extended_hours</th>\n",
       "      <th>failed_at</th>\n",
       "      <th>filled_at</th>\n",
       "      <th>filled_avg_price</th>\n",
       "      <th>...</th>\n",
       "      <th>replaced_by</th>\n",
       "      <th>replaces</th>\n",
       "      <th>side</th>\n",
       "      <th>status</th>\n",
       "      <th>stop_price</th>\n",
       "      <th>submitted_at</th>\n",
       "      <th>symbol</th>\n",
       "      <th>time_in_force</th>\n",
       "      <th>type</th>\n",
       "      <th>updated_at</th>\n",
       "    </tr>\n",
       "  </thead>\n",
       "  <tbody>\n",
       "    <tr>\n",
       "      <th>0</th>\n",
       "      <td>us_equity</td>\n",
       "      <td>b0b6dd9d-8b9b-48a9-ba46-b9d54906e415</td>\n",
       "      <td>None</td>\n",
       "      <td>30cbcf00-9d0c-4ba3-bc26-59954656ca05</td>\n",
       "      <td>2020-04-28T03:28:56.165222Z</td>\n",
       "      <td>None</td>\n",
       "      <td>False</td>\n",
       "      <td>None</td>\n",
       "      <td>None</td>\n",
       "      <td>None</td>\n",
       "      <td>...</td>\n",
       "      <td>None</td>\n",
       "      <td>None</td>\n",
       "      <td>buy</td>\n",
       "      <td>accepted</td>\n",
       "      <td>None</td>\n",
       "      <td>2020-04-28T03:28:56.153797Z</td>\n",
       "      <td>AAPL</td>\n",
       "      <td>gtc</td>\n",
       "      <td>market</td>\n",
       "      <td>2020-04-28T03:28:56.165222Z</td>\n",
       "    </tr>\n",
       "    <tr>\n",
       "      <th>1</th>\n",
       "      <td>us_equity</td>\n",
       "      <td>b0b6dd9d-8b9b-48a9-ba46-b9d54906e415</td>\n",
       "      <td>None</td>\n",
       "      <td>51dfea62-ad78-4b49-9646-adb9bf94e97c</td>\n",
       "      <td>2020-04-28T03:23:12.636141Z</td>\n",
       "      <td>None</td>\n",
       "      <td>False</td>\n",
       "      <td>None</td>\n",
       "      <td>None</td>\n",
       "      <td>None</td>\n",
       "      <td>...</td>\n",
       "      <td>None</td>\n",
       "      <td>None</td>\n",
       "      <td>buy</td>\n",
       "      <td>accepted</td>\n",
       "      <td>None</td>\n",
       "      <td>2020-04-28T03:23:12.615527Z</td>\n",
       "      <td>AAPL</td>\n",
       "      <td>gtc</td>\n",
       "      <td>market</td>\n",
       "      <td>2020-04-28T03:23:12.636141Z</td>\n",
       "    </tr>\n",
       "    <tr>\n",
       "      <th>2</th>\n",
       "      <td>us_equity</td>\n",
       "      <td>2cba3bdd-3f2a-4212-b64c-7bff33ad0f39</td>\n",
       "      <td>None</td>\n",
       "      <td>e54a6b01-943c-4d94-8c5c-83235a5f6858</td>\n",
       "      <td>2020-04-28T02:15:55.646221Z</td>\n",
       "      <td>None</td>\n",
       "      <td>False</td>\n",
       "      <td>None</td>\n",
       "      <td>None</td>\n",
       "      <td>None</td>\n",
       "      <td>...</td>\n",
       "      <td>None</td>\n",
       "      <td>None</td>\n",
       "      <td>buy</td>\n",
       "      <td>accepted</td>\n",
       "      <td>None</td>\n",
       "      <td>2020-04-28T02:15:55.634448Z</td>\n",
       "      <td>DAL</td>\n",
       "      <td>day</td>\n",
       "      <td>market</td>\n",
       "      <td>2020-04-28T02:15:55.646221Z</td>\n",
       "    </tr>\n",
       "    <tr>\n",
       "      <th>3</th>\n",
       "      <td>us_equity</td>\n",
       "      <td>b6d1aa75-5c9c-4353-a305-9e2caa1925ab</td>\n",
       "      <td>None</td>\n",
       "      <td>dcac5d81-ce2b-4035-8c9b-22d78d83f68d</td>\n",
       "      <td>2020-04-28T02:15:10.86029Z</td>\n",
       "      <td>None</td>\n",
       "      <td>False</td>\n",
       "      <td>None</td>\n",
       "      <td>None</td>\n",
       "      <td>None</td>\n",
       "      <td>...</td>\n",
       "      <td>None</td>\n",
       "      <td>None</td>\n",
       "      <td>buy</td>\n",
       "      <td>accepted</td>\n",
       "      <td>None</td>\n",
       "      <td>2020-04-28T02:15:10.849161Z</td>\n",
       "      <td>MSFT</td>\n",
       "      <td>day</td>\n",
       "      <td>market</td>\n",
       "      <td>2020-04-28T02:15:10.86029Z</td>\n",
       "    </tr>\n",
       "  </tbody>\n",
       "</table>\n",
       "<p>4 rows × 28 columns</p>\n",
       "</div>"
      ],
      "text/plain": [
       "  asset_class                              asset_id canceled_at  \\\n",
       "0   us_equity  b0b6dd9d-8b9b-48a9-ba46-b9d54906e415        None   \n",
       "1   us_equity  b0b6dd9d-8b9b-48a9-ba46-b9d54906e415        None   \n",
       "2   us_equity  2cba3bdd-3f2a-4212-b64c-7bff33ad0f39        None   \n",
       "3   us_equity  b6d1aa75-5c9c-4353-a305-9e2caa1925ab        None   \n",
       "\n",
       "                        client_order_id                   created_at  \\\n",
       "0  30cbcf00-9d0c-4ba3-bc26-59954656ca05  2020-04-28T03:28:56.165222Z   \n",
       "1  51dfea62-ad78-4b49-9646-adb9bf94e97c  2020-04-28T03:23:12.636141Z   \n",
       "2  e54a6b01-943c-4d94-8c5c-83235a5f6858  2020-04-28T02:15:55.646221Z   \n",
       "3  dcac5d81-ce2b-4035-8c9b-22d78d83f68d   2020-04-28T02:15:10.86029Z   \n",
       "\n",
       "  expired_at  extended_hours failed_at filled_at filled_avg_price  \\\n",
       "0       None           False      None      None             None   \n",
       "1       None           False      None      None             None   \n",
       "2       None           False      None      None             None   \n",
       "3       None           False      None      None             None   \n",
       "\n",
       "              ...              replaced_by replaces side    status stop_price  \\\n",
       "0             ...                     None     None  buy  accepted       None   \n",
       "1             ...                     None     None  buy  accepted       None   \n",
       "2             ...                     None     None  buy  accepted       None   \n",
       "3             ...                     None     None  buy  accepted       None   \n",
       "\n",
       "                  submitted_at symbol time_in_force    type  \\\n",
       "0  2020-04-28T03:28:56.153797Z   AAPL           gtc  market   \n",
       "1  2020-04-28T03:23:12.615527Z   AAPL           gtc  market   \n",
       "2  2020-04-28T02:15:55.634448Z    DAL           day  market   \n",
       "3  2020-04-28T02:15:10.849161Z   MSFT           day  market   \n",
       "\n",
       "                    updated_at  \n",
       "0  2020-04-28T03:28:56.165222Z  \n",
       "1  2020-04-28T03:23:12.636141Z  \n",
       "2  2020-04-28T02:15:55.646221Z  \n",
       "3   2020-04-28T02:15:10.86029Z  \n",
       "\n",
       "[4 rows x 28 columns]"
      ]
     },
     "execution_count": 64,
     "metadata": {},
     "output_type": "execute_result"
    }
   ],
   "source": [
    "import pandas as pd\n",
    "pd.DataFrame(get_orders())"
   ]
  },
  {
   "cell_type": "code",
   "execution_count": null,
   "metadata": {},
   "outputs": [],
   "source": []
  }
 ],
 "metadata": {
  "kernelspec": {
   "display_name": "Python 3",
   "language": "python",
   "name": "python3"
  },
  "language_info": {
   "codemirror_mode": {
    "name": "ipython",
    "version": 3
   },
   "file_extension": ".py",
   "mimetype": "text/x-python",
   "name": "python",
   "nbconvert_exporter": "python",
   "pygments_lexer": "ipython3",
   "version": "3.6.5"
  }
 },
 "nbformat": 4,
 "nbformat_minor": 2
}
