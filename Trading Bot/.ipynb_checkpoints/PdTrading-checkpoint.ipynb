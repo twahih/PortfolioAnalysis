{
 "cells": [
  {
   "cell_type": "code",
   "execution_count": 863,
   "metadata": {},
   "outputs": [
    {
     "name": "stdout",
     "output_type": "stream",
     "text": [
      "The autoreload extension is already loaded. To reload it, use:\n",
      "  %reload_ext autoreload\n"
     ]
    }
   ],
   "source": [
    "import random_forecast as rf \n",
    "import backtest as bct\n",
    "import pandas as pd\n",
    "import numpy as np\n",
    "import pandas_datareader as pdr\n",
    "import datetime \n",
    "%load_ext autoreload\n",
    "%autoreload 2"
   ]
  },
  {
   "cell_type": "code",
   "execution_count": 872,
   "metadata": {},
   "outputs": [],
   "source": [
    "symbol='TSLA'\n",
    "\n",
    "bars = pdr.get_data_yahoo(symbol, \n",
    "                          start=datetime.datetime(2018, 10, 1), \n",
    "                          end=datetime.datetime(2020, 4, 1))"
   ]
  },
  {
   "cell_type": "code",
   "execution_count": 873,
   "metadata": {},
   "outputs": [],
   "source": [
    "rfs=rf.Crossover(symbol,bars,3,6)\n",
    "signals=rfs.generate_signals()"
   ]
  },
  {
   "cell_type": "code",
   "execution_count": 876,
   "metadata": {},
   "outputs": [
    {
     "data": {
      "text/html": [
       "<div>\n",
       "<style scoped>\n",
       "    .dataframe tbody tr th:only-of-type {\n",
       "        vertical-align: middle;\n",
       "    }\n",
       "\n",
       "    .dataframe tbody tr th {\n",
       "        vertical-align: top;\n",
       "    }\n",
       "\n",
       "    .dataframe thead th {\n",
       "        text-align: right;\n",
       "    }\n",
       "</style>\n",
       "<table border=\"1\" class=\"dataframe\">\n",
       "  <thead>\n",
       "    <tr style=\"text-align: right;\">\n",
       "      <th></th>\n",
       "      <th>Shares</th>\n",
       "      <th>Cash</th>\n",
       "      <th>holdings</th>\n",
       "      <th>total</th>\n",
       "      <th>returns</th>\n",
       "      <th>Open</th>\n",
       "      <th>Total Shares</th>\n",
       "    </tr>\n",
       "    <tr>\n",
       "      <th>Date</th>\n",
       "      <th></th>\n",
       "      <th></th>\n",
       "      <th></th>\n",
       "      <th></th>\n",
       "      <th></th>\n",
       "      <th></th>\n",
       "      <th></th>\n",
       "    </tr>\n",
       "  </thead>\n",
       "  <tbody>\n",
       "    <tr>\n",
       "      <th>2020-03-19</th>\n",
       "      <td>0.0</td>\n",
       "      <td>1179.190140</td>\n",
       "      <td>0.000000</td>\n",
       "      <td>1179.190140</td>\n",
       "      <td>0.000000</td>\n",
       "      <td>374.700012</td>\n",
       "      <td>0.0</td>\n",
       "    </tr>\n",
       "    <tr>\n",
       "      <th>2020-03-20</th>\n",
       "      <td>0.0</td>\n",
       "      <td>1179.190140</td>\n",
       "      <td>0.000000</td>\n",
       "      <td>1179.190140</td>\n",
       "      <td>0.000000</td>\n",
       "      <td>438.200012</td>\n",
       "      <td>0.0</td>\n",
       "    </tr>\n",
       "    <tr>\n",
       "      <th>2020-03-23</th>\n",
       "      <td>0.0</td>\n",
       "      <td>1179.190140</td>\n",
       "      <td>0.000000</td>\n",
       "      <td>1179.190140</td>\n",
       "      <td>0.000000</td>\n",
       "      <td>433.600006</td>\n",
       "      <td>0.0</td>\n",
       "    </tr>\n",
       "    <tr>\n",
       "      <th>2020-03-24</th>\n",
       "      <td>2.0</td>\n",
       "      <td>224.590164</td>\n",
       "      <td>954.599976</td>\n",
       "      <td>1179.190140</td>\n",
       "      <td>0.000000</td>\n",
       "      <td>477.299988</td>\n",
       "      <td>2.0</td>\n",
       "    </tr>\n",
       "    <tr>\n",
       "      <th>2020-03-25</th>\n",
       "      <td>0.0</td>\n",
       "      <td>224.590164</td>\n",
       "      <td>1090.500000</td>\n",
       "      <td>1315.090164</td>\n",
       "      <td>0.115249</td>\n",
       "      <td>545.250000</td>\n",
       "      <td>2.0</td>\n",
       "    </tr>\n",
       "    <tr>\n",
       "      <th>2020-03-26</th>\n",
       "      <td>0.0</td>\n",
       "      <td>224.590164</td>\n",
       "      <td>1094.780029</td>\n",
       "      <td>1319.370193</td>\n",
       "      <td>0.003255</td>\n",
       "      <td>547.390015</td>\n",
       "      <td>2.0</td>\n",
       "    </tr>\n",
       "    <tr>\n",
       "      <th>2020-03-27</th>\n",
       "      <td>0.0</td>\n",
       "      <td>224.590164</td>\n",
       "      <td>1010.000000</td>\n",
       "      <td>1234.590164</td>\n",
       "      <td>-0.064258</td>\n",
       "      <td>505.000000</td>\n",
       "      <td>2.0</td>\n",
       "    </tr>\n",
       "    <tr>\n",
       "      <th>2020-03-30</th>\n",
       "      <td>0.0</td>\n",
       "      <td>224.590164</td>\n",
       "      <td>1020.520020</td>\n",
       "      <td>1245.110184</td>\n",
       "      <td>0.008521</td>\n",
       "      <td>510.260010</td>\n",
       "      <td>2.0</td>\n",
       "    </tr>\n",
       "    <tr>\n",
       "      <th>2020-03-31</th>\n",
       "      <td>-2.0</td>\n",
       "      <td>1227.090164</td>\n",
       "      <td>0.000000</td>\n",
       "      <td>1227.090164</td>\n",
       "      <td>-0.014473</td>\n",
       "      <td>501.250000</td>\n",
       "      <td>0.0</td>\n",
       "    </tr>\n",
       "    <tr>\n",
       "      <th>2020-04-01</th>\n",
       "      <td>0.0</td>\n",
       "      <td>1227.090164</td>\n",
       "      <td>0.000000</td>\n",
       "      <td>1227.090164</td>\n",
       "      <td>0.000000</td>\n",
       "      <td>504.000000</td>\n",
       "      <td>0.0</td>\n",
       "    </tr>\n",
       "  </tbody>\n",
       "</table>\n",
       "</div>"
      ],
      "text/plain": [
       "            Shares         Cash     holdings        total   returns  \\\n",
       "Date                                                                  \n",
       "2020-03-19     0.0  1179.190140     0.000000  1179.190140  0.000000   \n",
       "2020-03-20     0.0  1179.190140     0.000000  1179.190140  0.000000   \n",
       "2020-03-23     0.0  1179.190140     0.000000  1179.190140  0.000000   \n",
       "2020-03-24     2.0   224.590164   954.599976  1179.190140  0.000000   \n",
       "2020-03-25     0.0   224.590164  1090.500000  1315.090164  0.115249   \n",
       "2020-03-26     0.0   224.590164  1094.780029  1319.370193  0.003255   \n",
       "2020-03-27     0.0   224.590164  1010.000000  1234.590164 -0.064258   \n",
       "2020-03-30     0.0   224.590164  1020.520020  1245.110184  0.008521   \n",
       "2020-03-31    -2.0  1227.090164     0.000000  1227.090164 -0.014473   \n",
       "2020-04-01     0.0  1227.090164     0.000000  1227.090164  0.000000   \n",
       "\n",
       "                  Open  Total Shares  \n",
       "Date                                  \n",
       "2020-03-19  374.700012           0.0  \n",
       "2020-03-20  438.200012           0.0  \n",
       "2020-03-23  433.600006           0.0  \n",
       "2020-03-24  477.299988           2.0  \n",
       "2020-03-25  545.250000           2.0  \n",
       "2020-03-26  547.390015           2.0  \n",
       "2020-03-27  505.000000           2.0  \n",
       "2020-03-30  510.260010           2.0  \n",
       "2020-03-31  501.250000           0.0  \n",
       "2020-04-01  504.000000           0.0  "
      ]
     },
     "execution_count": 876,
     "metadata": {},
     "output_type": "execute_result"
    }
   ],
   "source": [
    "portfolio = rf.MarketOnOpenPortfolio(symbol,bars,signals,initial_capital=1000.0)\n",
    "returns = portfolio.backtest_portfolio()\n",
    "returns.tail(10)"
   ]
  },
  {
   "cell_type": "code",
   "execution_count": 888,
   "metadata": {},
   "outputs": [
    {
     "data": {
      "text/plain": [
       "<matplotlib.axes._subplots.AxesSubplot at 0x275a7082860>"
      ]
     },
     "execution_count": 888,
     "metadata": {},
     "output_type": "execute_result"
    },
    {
     "data": {
      "image/png": "[encoded data removed]",
      "text/plain": [
       "<Figure size 864x432 with 1 Axes>"
      ]
     },
     "metadata": {},
     "output_type": "display_data"
    }
   ],
   "source": [
    "import matplotlib.pyplot as plt\n",
    "rt=portfolio.bars['Open'].pct_change()\n",
    "trd_wealth=1000.0*(1+returns['returns']).cumprod()\n",
    "wealth=(1000.0*(1+rt).cumprod())\n",
    "wealth[0]=1000.0\n",
    "trd_wealth.plot(figsize=(12,6))\n",
    "wealth.plot()"
   ]
  },
  {
   "cell_type": "code",
   "execution_count": null,
   "metadata": {},
   "outputs": [],
   "source": []
  }
 ],
 "metadata": {
  "kernelspec": {
   "display_name": "Python 3",
   "language": "python",
   "name": "python3"
  },
  "language_info": {
   "codemirror_mode": {
    "name": "ipython",
    "version": 3
   },
   "file_extension": ".py",
   "mimetype": "text/x-python",
   "name": "python",
   "nbconvert_exporter": "python",
   "pygments_lexer": "ipython3",
   "version": "3.6.5"
  }
 },
 "nbformat": 4,
 "nbformat_minor": 2
}
