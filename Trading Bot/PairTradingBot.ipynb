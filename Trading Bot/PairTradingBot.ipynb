{
 "cells": [
  {
   "cell_type": "code",
   "execution_count": 1,
   "metadata": {},
   "outputs": [],
   "source": [
    "%load_ext autoreload\n",
    "%autoreload 2\n",
    "import pandas as pd\n",
    "import numpy as np\n",
    "from alpha_vantage.timeseries import TimeSeries\n",
    "import alpaca_trade_api as tradeapi\n",
    "from config import *\n",
    "import os\n",
    "import time"
   ]
  },
  {
   "cell_type": "markdown",
   "metadata": {},
   "source": [
    "# Compute Stock Beta"
   ]
  },
  {
   "cell_type": "code",
   "execution_count": 2,
   "metadata": {},
   "outputs": [],
   "source": [
    "#SET ALAPACA API ENVIRONMENT VARIABLES \n",
    "\n",
    "HEADERS={'APCA-API-KEY-ID':API_KEY,'APCA-API-SECRET-KEY':SECRET_KEY}\n",
    "alpaca=tradeapi.REST(API_KEY,SECRET_KEY,BASE_URL,api_version='v2')"
   ]
  },
  {
   "cell_type": "code",
   "execution_count": 3,
   "metadata": {},
   "outputs": [],
   "source": [
    "def get_bars(symbol,interval='15Min',start = '2021-01-01'):\n",
    "    bar=alpaca.get_bars(symbol,interval,start=start).df\n",
    "    return bar"
   ]
  },
  {
   "cell_type": "code",
   "execution_count": 4,
   "metadata": {},
   "outputs": [],
   "source": [
    "#SET ALPHA VINTAGE ENVIRONMENT VARIABLES \n",
    "ts=TimeSeries(key=ALPHA_API_KEY,output_format='pandas')\n",
    "dfy = get_bars('SPY','1D')\n",
    "dfx1=get_bars('ADBE','1D')\n",
    "dfx2=get_bars('INTC','1D')"
   ]
  },
  {
   "cell_type": "code",
   "execution_count": 5,
   "metadata": {},
   "outputs": [
    {
     "data": {
      "text/html": [
       "<div>\n",
       "<style scoped>\n",
       "    .dataframe tbody tr th:only-of-type {\n",
       "        vertical-align: middle;\n",
       "    }\n",
       "\n",
       "    .dataframe tbody tr th {\n",
       "        vertical-align: top;\n",
       "    }\n",
       "\n",
       "    .dataframe thead th {\n",
       "        text-align: right;\n",
       "    }\n",
       "</style>\n",
       "<table border=\"1\" class=\"dataframe\">\n",
       "  <thead>\n",
       "    <tr style=\"text-align: right;\">\n",
       "      <th></th>\n",
       "      <th>open</th>\n",
       "      <th>high</th>\n",
       "      <th>low</th>\n",
       "      <th>close</th>\n",
       "      <th>volume</th>\n",
       "      <th>trade_count</th>\n",
       "      <th>vwap</th>\n",
       "    </tr>\n",
       "    <tr>\n",
       "      <th>timestamp</th>\n",
       "      <th></th>\n",
       "      <th></th>\n",
       "      <th></th>\n",
       "      <th></th>\n",
       "      <th></th>\n",
       "      <th></th>\n",
       "      <th></th>\n",
       "    </tr>\n",
       "  </thead>\n",
       "  <tbody>\n",
       "    <tr>\n",
       "      <th>2022-06-27 04:00:00+00:00</th>\n",
       "      <td>391.12</td>\n",
       "      <td>391.3600</td>\n",
       "      <td>387.44</td>\n",
       "      <td>388.59</td>\n",
       "      <td>65967268</td>\n",
       "      <td>552197</td>\n",
       "      <td>389.085434</td>\n",
       "    </tr>\n",
       "    <tr>\n",
       "      <th>2022-06-28 04:00:00+00:00</th>\n",
       "      <td>390.30</td>\n",
       "      <td>393.1600</td>\n",
       "      <td>380.53</td>\n",
       "      <td>380.65</td>\n",
       "      <td>86376255</td>\n",
       "      <td>641197</td>\n",
       "      <td>384.912075</td>\n",
       "    </tr>\n",
       "    <tr>\n",
       "      <th>2022-06-29 04:00:00+00:00</th>\n",
       "      <td>381.16</td>\n",
       "      <td>382.2700</td>\n",
       "      <td>378.42</td>\n",
       "      <td>380.34</td>\n",
       "      <td>64478427</td>\n",
       "      <td>519970</td>\n",
       "      <td>380.393953</td>\n",
       "    </tr>\n",
       "    <tr>\n",
       "      <th>2022-06-30 04:00:00+00:00</th>\n",
       "      <td>376.27</td>\n",
       "      <td>380.6582</td>\n",
       "      <td>372.56</td>\n",
       "      <td>377.25</td>\n",
       "      <td>112269284</td>\n",
       "      <td>799487</td>\n",
       "      <td>377.083807</td>\n",
       "    </tr>\n",
       "    <tr>\n",
       "      <th>2022-07-01 04:00:00+00:00</th>\n",
       "      <td>376.60</td>\n",
       "      <td>381.7000</td>\n",
       "      <td>373.80</td>\n",
       "      <td>381.24</td>\n",
       "      <td>74165514</td>\n",
       "      <td>601221</td>\n",
       "      <td>378.221516</td>\n",
       "    </tr>\n",
       "  </tbody>\n",
       "</table>\n",
       "</div>"
      ],
      "text/plain": [
       "                             open      high     low   close     volume  \\\n",
       "timestamp                                                                \n",
       "2022-06-27 04:00:00+00:00  391.12  391.3600  387.44  388.59   65967268   \n",
       "2022-06-28 04:00:00+00:00  390.30  393.1600  380.53  380.65   86376255   \n",
       "2022-06-29 04:00:00+00:00  381.16  382.2700  378.42  380.34   64478427   \n",
       "2022-06-30 04:00:00+00:00  376.27  380.6582  372.56  377.25  112269284   \n",
       "2022-07-01 04:00:00+00:00  376.60  381.7000  373.80  381.24   74165514   \n",
       "\n",
       "                           trade_count        vwap  \n",
       "timestamp                                           \n",
       "2022-06-27 04:00:00+00:00       552197  389.085434  \n",
       "2022-06-28 04:00:00+00:00       641197  384.912075  \n",
       "2022-06-29 04:00:00+00:00       519970  380.393953  \n",
       "2022-06-30 04:00:00+00:00       799487  377.083807  \n",
       "2022-07-01 04:00:00+00:00       601221  378.221516  "
      ]
     },
     "execution_count": 5,
     "metadata": {},
     "output_type": "execute_result"
    }
   ],
   "source": [
    "dfy.tail()"
   ]
  },
  {
   "cell_type": "code",
   "execution_count": 6,
   "metadata": {},
   "outputs": [],
   "source": [
    "import statsmodels.api as sm\n",
    "from statsmodels import regression \n",
    "\n",
    "def get_stock_beta(dfx1,dfx2,dfy):\n",
    "    dfy_returns=dfy[['close']].pct_change()[1:].values\n",
    "    dfx1_returns=dfx1[['close']].pct_change()[1:].values\n",
    "    dfx2_returns=dfx2[['close']].pct_change()[1:].values\n",
    "    \n",
    "    def linreg(X1,X2,Y):\n",
    "        X1=sm.add_constant(X1)\n",
    "        X2=sm.add_constant(X2)\n",
    "        model1=regression.linear_model.OLS(Y,X1).fit()\n",
    "        model2=regression.linear_model.OLS(Y,X2).fit()\n",
    "        return model1.params[1],model2.params[1]\n",
    "    return linreg(dfx1_returns,dfx2_returns,dfy_returns)"
   ]
  },
  {
   "cell_type": "code",
   "execution_count": 7,
   "metadata": {},
   "outputs": [],
   "source": [
    "x1_beta,x2_beta=get_stock_beta(dfx1,dfx2,dfy)"
   ]
  },
  {
   "cell_type": "code",
   "execution_count": 8,
   "metadata": {},
   "outputs": [
    {
     "data": {
      "text/plain": [
       "(0.3695190007406155, 0.3434310230309465)"
      ]
     },
     "execution_count": 8,
     "metadata": {},
     "output_type": "execute_result"
    }
   ],
   "source": [
    "x1_beta,x2_beta"
   ]
  },
  {
   "cell_type": "code",
   "execution_count": 9,
   "metadata": {},
   "outputs": [
    {
     "data": {
      "text/plain": [
       "TradeV2({   'c': ['@'],\n",
       "    'i': 4790,\n",
       "    'p': 368.46,\n",
       "    's': 100,\n",
       "    't': '2022-07-01T19:59:59.601443072Z',\n",
       "    'x': 'V',\n",
       "    'z': 'C'})"
      ]
     },
     "execution_count": 9,
     "metadata": {},
     "output_type": "execute_result"
    }
   ],
   "source": [
    "alpaca.get_latest_trade('ADBE')"
   ]
  },
  {
   "cell_type": "code",
   "execution_count": 10,
   "metadata": {},
   "outputs": [],
   "source": [
    "x1_price=alpaca.get_latest_trade('ADBE').p\n",
    "x2_price=alpaca.get_latest_trade('INTC').p\n",
    "long_limit=int(3000/x1_price)\n",
    "short_limit=int((long_limit*x1_price*x1_beta)/(x2_beta*x2_price))\n",
    "bought=0\n",
    "sold=0"
   ]
  },
  {
   "cell_type": "code",
   "execution_count": 11,
   "metadata": {},
   "outputs": [],
   "source": [
    "def place_order(pair,bought,sold,window1=5,window2=60):\n",
    "    S1 = get_bars(pair[0],'1Min')['close']\n",
    "    S2 = get_bars(pair[1],'1Min')['close']\n",
    "    dt_stocks=pd.merge(S1,S2,on='timestamp')\n",
    "    dt_stocks.columns=pair\n",
    "    # If window length is 0, algorithm doesn't make sense, so exit\n",
    "    if (window1 == 0) or (window2 == 0):\n",
    "        return 0\n",
    "    # Compute rolling mean and rolling standard deviation\n",
    "    ratios = dt_stocks[pair[0]]/dt_stocks[pair[1]]\n",
    "    ma1 = ratios.rolling(window=window1,\n",
    "                               center=False).mean()[-1]\n",
    "    ma2 = ratios.rolling(window=window2,\n",
    "                               center=False).mean()[-1]\n",
    "    std = ratios.rolling(window=window2,\n",
    "                        center=False).std()[-1]\n",
    "    zscore = (ma1 - ma2)/std    \n",
    "    \n",
    "    Account=alpaca.get_account()\n",
    "\n",
    "    r='No Acction'\n",
    "    status=zscore\n",
    "    \n",
    "    #Sell short Buy long if the z-score is >1\n",
    "    if zscore>1 and sold<short_limit and bought<long_limit:\n",
    "        side='sell'\n",
    "        r=alpaca.submit_order(pair[1],7,side,'market','gtc')\n",
    "        k=alpaca.submit_order(pair[0],1,'buy','market','gtc')\n",
    "        Account=alpaca.get_account()\n",
    "        status=r.side +\" \"+\"7\"+\" \"+pair[1]+\" at $\"+str(alpaca.get_trades(pair[1])[0].p) +\" Acct Val:\"+Account.portfolio_value\n",
    "        sold=sold+7\n",
    "        bought=bought+1\n",
    "    #Buy long if the z-score is <1\n",
    "    elif zscore<-1 and bought<long_limit and sold<short_limit :\n",
    "        side='buy'\n",
    "        r=alpaca.submit_order(pair[0],1,side,'market','gtc')\n",
    "        k=alpaca.submit_order(pair[1],7,'sell','market','gtc')\n",
    "        Account=alpaca.get_account()\n",
    "        status=r.side +\" \"+\"1\"+\" \"+pair[0]+\" at $\"+str(alpaca.get_trades(pair[0])[0].p) +\" Acct Val:\"+Account.portfolio_value\n",
    "        bought=bought+1\n",
    "        sold=sold+7\n",
    "    #Clear positions if the z-score between -0.5 and 0.5\n",
    "    elif abs(zscore)<0.5:\n",
    "        alpaca.close_all_positions()\n",
    "        Account=alpaca.get_account()\n",
    "        sold=0\n",
    "        bought=0\n",
    "        status='No Transaction'+ \" [INFO] Acct Val: $ \" + Account.portfolio_value +\" Z-score \" + str(zscore) \n",
    "    return status,bought,sold\n"
   ]
  },
  {
   "cell_type": "code",
   "execution_count": 12,
   "metadata": {},
   "outputs": [
    {
     "name": "stderr",
     "output_type": "stream",
     "text": [
      "sleep 3 seconds and retrying https://data.alpaca.markets/v2/stocks/INTC/bars 3 more time(s)...\n",
      "sleep 3 seconds and retrying https://data.alpaca.markets/v2/stocks/INTC/bars 3 more time(s)...\n",
      "sleep 3 seconds and retrying https://data.alpaca.markets/v2/stocks/INTC/bars 3 more time(s)...\n",
      "sleep 3 seconds and retrying https://data.alpaca.markets/v2/stocks/INTC/bars 3 more time(s)...\n",
      "sleep 3 seconds and retrying https://data.alpaca.markets/v2/stocks/INTC/bars 3 more time(s)...\n",
      "sleep 3 seconds and retrying https://data.alpaca.markets/v2/stocks/INTC/bars 3 more time(s)...\n",
      "sleep 3 seconds and retrying https://data.alpaca.markets/v2/stocks/INTC/bars 3 more time(s)...\n",
      "sleep 3 seconds and retrying https://data.alpaca.markets/v2/stocks/INTC/bars 3 more time(s)...\n",
      "sleep 3 seconds and retrying https://data.alpaca.markets/v2/stocks/INTC/bars 3 more time(s)...\n",
      "sleep 3 seconds and retrying https://data.alpaca.markets/v2/stocks/INTC/bars 3 more time(s)...\n"
     ]
    },
    {
     "ename": "IndexError",
     "evalue": "list index out of range",
     "output_type": "error",
     "traceback": [
      "\u001b[1;31m---------------------------------------------------------------------------\u001b[0m",
      "\u001b[1;31mIndexError\u001b[0m                                Traceback (most recent call last)",
      "\u001b[1;32m~\\AppData\\Local\\Temp\\ipykernel_14164\\764802966.py\u001b[0m in \u001b[0;36m<module>\u001b[1;34m\u001b[0m\n\u001b[0;32m      1\u001b[0m \u001b[1;32mwhile\u001b[0m\u001b[1;33m(\u001b[0m\u001b[1;32mTrue\u001b[0m\u001b[1;33m)\u001b[0m\u001b[1;33m:\u001b[0m\u001b[1;33m\u001b[0m\u001b[1;33m\u001b[0m\u001b[0m\n\u001b[1;32m----> 2\u001b[1;33m     \u001b[0mstatus\u001b[0m\u001b[1;33m,\u001b[0m \u001b[0mbought\u001b[0m\u001b[1;33m,\u001b[0m \u001b[0msold\u001b[0m\u001b[1;33m=\u001b[0m\u001b[0mplace_order\u001b[0m\u001b[1;33m(\u001b[0m\u001b[1;33m[\u001b[0m\u001b[1;34m'ADBE'\u001b[0m\u001b[1;33m,\u001b[0m\u001b[1;34m'INTC'\u001b[0m\u001b[1;33m]\u001b[0m\u001b[1;33m,\u001b[0m\u001b[0mbought\u001b[0m\u001b[1;33m,\u001b[0m\u001b[0msold\u001b[0m\u001b[1;33m,\u001b[0m\u001b[1;36m5\u001b[0m\u001b[1;33m,\u001b[0m\u001b[1;36m60\u001b[0m\u001b[1;33m)\u001b[0m\u001b[1;33m\u001b[0m\u001b[1;33m\u001b[0m\u001b[0m\n\u001b[0m\u001b[0;32m      3\u001b[0m     \u001b[0mprint\u001b[0m\u001b[1;33m(\u001b[0m\u001b[0mstatus\u001b[0m\u001b[1;33m)\u001b[0m\u001b[1;33m\u001b[0m\u001b[1;33m\u001b[0m\u001b[0m\n\u001b[0;32m      4\u001b[0m     \u001b[0mtime\u001b[0m\u001b[1;33m.\u001b[0m\u001b[0msleep\u001b[0m\u001b[1;33m(\u001b[0m\u001b[1;36m300\u001b[0m\u001b[1;33m)\u001b[0m\u001b[1;33m\u001b[0m\u001b[1;33m\u001b[0m\u001b[0m\n",
      "\u001b[1;32m~\\AppData\\Local\\Temp\\ipykernel_14164\\2318791795.py\u001b[0m in \u001b[0;36mplace_order\u001b[1;34m(pair, bought, sold, window1, window2)\u001b[0m\n\u001b[0;32m     28\u001b[0m         \u001b[0mk\u001b[0m\u001b[1;33m=\u001b[0m\u001b[0malpaca\u001b[0m\u001b[1;33m.\u001b[0m\u001b[0msubmit_order\u001b[0m\u001b[1;33m(\u001b[0m\u001b[0mpair\u001b[0m\u001b[1;33m[\u001b[0m\u001b[1;36m0\u001b[0m\u001b[1;33m]\u001b[0m\u001b[1;33m,\u001b[0m\u001b[1;36m1\u001b[0m\u001b[1;33m,\u001b[0m\u001b[1;34m'buy'\u001b[0m\u001b[1;33m,\u001b[0m\u001b[1;34m'market'\u001b[0m\u001b[1;33m,\u001b[0m\u001b[1;34m'gtc'\u001b[0m\u001b[1;33m)\u001b[0m\u001b[1;33m\u001b[0m\u001b[1;33m\u001b[0m\u001b[0m\n\u001b[0;32m     29\u001b[0m         \u001b[0mAccount\u001b[0m\u001b[1;33m=\u001b[0m\u001b[0malpaca\u001b[0m\u001b[1;33m.\u001b[0m\u001b[0mget_account\u001b[0m\u001b[1;33m(\u001b[0m\u001b[1;33m)\u001b[0m\u001b[1;33m\u001b[0m\u001b[1;33m\u001b[0m\u001b[0m\n\u001b[1;32m---> 30\u001b[1;33m         \u001b[0mstatus\u001b[0m\u001b[1;33m=\u001b[0m\u001b[0mr\u001b[0m\u001b[1;33m.\u001b[0m\u001b[0mside\u001b[0m \u001b[1;33m+\u001b[0m\u001b[1;34m\" \"\u001b[0m\u001b[1;33m+\u001b[0m\u001b[1;34m\"7\"\u001b[0m\u001b[1;33m+\u001b[0m\u001b[1;34m\" \"\u001b[0m\u001b[1;33m+\u001b[0m\u001b[0mpair\u001b[0m\u001b[1;33m[\u001b[0m\u001b[1;36m1\u001b[0m\u001b[1;33m]\u001b[0m\u001b[1;33m+\u001b[0m\u001b[1;34m\" at $\"\u001b[0m\u001b[1;33m+\u001b[0m\u001b[0mstr\u001b[0m\u001b[1;33m(\u001b[0m\u001b[0malpaca\u001b[0m\u001b[1;33m.\u001b[0m\u001b[0mget_trades\u001b[0m\u001b[1;33m(\u001b[0m\u001b[0mpair\u001b[0m\u001b[1;33m[\u001b[0m\u001b[1;36m1\u001b[0m\u001b[1;33m]\u001b[0m\u001b[1;33m)\u001b[0m\u001b[1;33m[\u001b[0m\u001b[1;36m0\u001b[0m\u001b[1;33m]\u001b[0m\u001b[1;33m.\u001b[0m\u001b[0mp\u001b[0m\u001b[1;33m)\u001b[0m \u001b[1;33m+\u001b[0m\u001b[1;34m\" Acct Val:\"\u001b[0m\u001b[1;33m+\u001b[0m\u001b[0mAccount\u001b[0m\u001b[1;33m.\u001b[0m\u001b[0mportfolio_value\u001b[0m\u001b[1;33m\u001b[0m\u001b[1;33m\u001b[0m\u001b[0m\n\u001b[0m\u001b[0;32m     31\u001b[0m         \u001b[0msold\u001b[0m\u001b[1;33m=\u001b[0m\u001b[0msold\u001b[0m\u001b[1;33m+\u001b[0m\u001b[1;36m7\u001b[0m\u001b[1;33m\u001b[0m\u001b[1;33m\u001b[0m\u001b[0m\n\u001b[0;32m     32\u001b[0m         \u001b[0mbought\u001b[0m\u001b[1;33m=\u001b[0m\u001b[0mbought\u001b[0m\u001b[1;33m+\u001b[0m\u001b[1;36m1\u001b[0m\u001b[1;33m\u001b[0m\u001b[1;33m\u001b[0m\u001b[0m\n",
      "\u001b[1;31mIndexError\u001b[0m: list index out of range"
     ]
    }
   ],
   "source": [
    "while(True):\n",
    "    status, bought, sold=place_order(['ADBE','INTC'],bought,sold,5,60)\n",
    "    print(status)\n",
    "    time.sleep(300)"
   ]
  },
  {
   "cell_type": "code",
   "execution_count": null,
   "metadata": {},
   "outputs": [],
   "source": []
  }
 ],
 "metadata": {
  "kernelspec": {
   "display_name": "Python 3 (ipykernel)",
   "language": "python",
   "name": "python3"
  },
  "language_info": {
   "codemirror_mode": {
    "name": "ipython",
    "version": 3
   },
   "file_extension": ".py",
   "mimetype": "text/x-python",
   "name": "python",
   "nbconvert_exporter": "python",
   "pygments_lexer": "ipython3",
   "version": "3.8.13"
  }
 },
 "nbformat": 4,
 "nbformat_minor": 2
}
