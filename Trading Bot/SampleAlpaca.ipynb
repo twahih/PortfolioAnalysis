{
 "cells": [
  {
   "cell_type": "code",
   "execution_count": 1,
   "metadata": {},
   "outputs": [],
   "source": [
    "import os\n",
    "import time\n",
    "import alpaca_trade_api as tradeapi\n",
    "import Trade\n",
    "from config import *\n",
    "import numpy as np\n"
   ]
  },
  {
   "cell_type": "code",
   "execution_count": 2,
   "metadata": {},
   "outputs": [],
   "source": [
    "BASE_URL=Trade.ENDPOINT_URL\n",
    "HEADERS={'APCA-API-KEY-ID':API_KEY,'APCA-API-SECRET-KEY':SECRET_KEY}\n",
    "Account_URL=\"{}/v2/account\".format(BASE_URL)\n",
    "ORDERS_URL=\"{}/v2/orders\".format(BASE_URL)\n",
    "alpaca=tradeapi.REST(API_KEY,SECRET_KEY,BASE_URL,api_version='v2')"
   ]
  },
  {
   "cell_type": "code",
   "execution_count": 5,
   "metadata": {},
   "outputs": [],
   "source": [
    "def place_order():\n",
    "    signal=np.random.randn(1)\n",
    "    side=None\n",
    "    qty=np.random.randint(100)\n",
    "    r='No Acction'\n",
    "    if signal>1:\n",
    "        side='sell'\n",
    "        r=alpaca.submit_order('AAPL',qty,side,'market','gtc')\n",
    "        action=r.side +\" \"+r.qty+\" \"+r.symbol +\" \"+str(r.created_at)\n",
    "    elif signal<-1:\n",
    "        side='buy'\n",
    "        r=alpaca.submit_order('AAPL',qty,side,'market','gtc')\n",
    "        action=r.side +\" \"+r.qty+\" \"+r.symbol +\" \"+str(r.created_at)\n",
    "    else:\n",
    "        action='No Transaction'\n",
    "    return action"
   ]
  },
  {
   "cell_type": "code",
   "execution_count": 14,
   "metadata": {},
   "outputs": [
    {
     "data": {
      "text/plain": [
       "'buy 30 AAPL 2020-04-28 15:23:49.779225+00:00'"
      ]
     },
     "execution_count": 14,
     "metadata": {},
     "output_type": "execute_result"
    }
   ],
   "source": [
    "place_order()"
   ]
  },
  {
   "cell_type": "code",
   "execution_count": null,
   "metadata": {},
   "outputs": [],
   "source": []
  }
 ],
 "metadata": {
  "kernelspec": {
   "display_name": "Python 3 (ipykernel)",
   "language": "python",
   "name": "python3"
  },
  "language_info": {
   "codemirror_mode": {
    "name": "ipython",
    "version": 3
   },
   "file_extension": ".py",
   "mimetype": "text/x-python",
   "name": "python",
   "nbconvert_exporter": "python",
   "pygments_lexer": "ipython3",
   "version": "3.8.13"
  }
 },
 "nbformat": 4,
 "nbformat_minor": 2
}
