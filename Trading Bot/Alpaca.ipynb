{
 "cells": [
  {
   "cell_type": "code",
   "execution_count": 1,
   "metadata": {},
   "outputs": [],
   "source": [
    "%load_ext autoreload \n",
    "%autoreload 2"
   ]
  },
  {
   "cell_type": "code",
   "execution_count": 2,
   "metadata": {},
   "outputs": [],
   "source": [
    "import Trade\n",
    "from config import *\n",
    "import requests,json"
   ]
  },
  {
   "cell_type": "code",
   "execution_count": 3,
   "metadata": {},
   "outputs": [],
   "source": [
    "BASE_URL=Trade.ENDPOINT_URL\n",
    "HEADERS={'APCA-API-KEY-ID':API_KEY,'APCA-API-SECRET-KEY':SECRET_KEY}\n",
    "Account_URL=\"{}/v2/account\".format(BASE_URL)\n",
    "ORDERS_URL=\"{}/v2/orders\".format(BASE_URL)\n",
    "def get_account():\n",
    "    r=requests.get(Account_URL,headers=HEADERS)\n",
    "    return json.loads(r.content)\n",
    "    "
   ]
  },
  {
   "cell_type": "code",
   "execution_count": 4,
   "metadata": {},
   "outputs": [],
   "source": [
    "def create_order(symbol,qty,side,type, time_in_force):\n",
    "    data={\n",
    "        \"symbol\":symbol,\n",
    "        \"qty\":qty,\n",
    "        \"side\":side,\n",
    "        \"type\":type,\n",
    "        \"time_in_force\":time_in_force\n",
    "        \n",
    "    }\n",
    "    r=requests.post(ORDERS_URL,json=data,headers=HEADERS)\n",
    "    return json.loads(r.content)"
   ]
  },
  {
   "cell_type": "code",
   "execution_count": 5,
   "metadata": {},
   "outputs": [],
   "source": [
    "def get_orders():\n",
    "    r=requests.get(ORDERS_URL,headers=HEADERS)\n",
    "    return json.loads(r.content)"
   ]
  },
  {
   "cell_type": "code",
   "execution_count": 6,
   "metadata": {},
   "outputs": [
    {
     "name": "stdout",
     "output_type": "stream",
     "text": [
      "{'id': '61901471-a95e-4974-8f73-df846cdd3953', 'client_order_id': 'e019382f-ff05-4021-bda1-e5acadb428c0', 'created_at': '2022-06-29T21:15:16.879689246Z', 'updated_at': '2022-06-29T21:15:16.879689246Z', 'submitted_at': '2022-06-29T21:15:16.878279206Z', 'filled_at': None, 'expired_at': None, 'canceled_at': None, 'failed_at': None, 'replaced_at': None, 'replaced_by': None, 'replaces': None, 'asset_id': 'b0b6dd9d-8b9b-48a9-ba46-b9d54906e415', 'symbol': 'AAPL', 'asset_class': 'us_equity', 'notional': None, 'qty': '100', 'filled_qty': '0', 'filled_avg_price': None, 'order_class': '', 'order_type': 'market', 'type': 'market', 'side': 'buy', 'time_in_force': 'gtc', 'limit_price': None, 'stop_price': None, 'status': 'accepted', 'extended_hours': False, 'legs': None, 'trail_percent': None, 'trail_price': None, 'hwm': None, 'subtag': None, 'source': None}\n"
     ]
    }
   ],
   "source": [
    "response=create_order(\"AAPL\",100,\"buy\",\"market\",\"gtc\")\n",
    "print(response)"
   ]
  },
  {
   "cell_type": "code",
   "execution_count": 7,
   "metadata": {},
   "outputs": [
    {
     "data": {
      "text/html": [
       "<div>\n",
       "<style scoped>\n",
       "    .dataframe tbody tr th:only-of-type {\n",
       "        vertical-align: middle;\n",
       "    }\n",
       "\n",
       "    .dataframe tbody tr th {\n",
       "        vertical-align: top;\n",
       "    }\n",
       "\n",
       "    .dataframe thead th {\n",
       "        text-align: right;\n",
       "    }\n",
       "</style>\n",
       "<table border=\"1\" class=\"dataframe\">\n",
       "  <thead>\n",
       "    <tr style=\"text-align: right;\">\n",
       "      <th></th>\n",
       "      <th>id</th>\n",
       "      <th>client_order_id</th>\n",
       "      <th>created_at</th>\n",
       "      <th>updated_at</th>\n",
       "      <th>submitted_at</th>\n",
       "      <th>filled_at</th>\n",
       "      <th>expired_at</th>\n",
       "      <th>canceled_at</th>\n",
       "      <th>failed_at</th>\n",
       "      <th>replaced_at</th>\n",
       "      <th>...</th>\n",
       "      <th>limit_price</th>\n",
       "      <th>stop_price</th>\n",
       "      <th>status</th>\n",
       "      <th>extended_hours</th>\n",
       "      <th>legs</th>\n",
       "      <th>trail_percent</th>\n",
       "      <th>trail_price</th>\n",
       "      <th>hwm</th>\n",
       "      <th>subtag</th>\n",
       "      <th>source</th>\n",
       "    </tr>\n",
       "  </thead>\n",
       "  <tbody>\n",
       "    <tr>\n",
       "      <th>0</th>\n",
       "      <td>61901471-a95e-4974-8f73-df846cdd3953</td>\n",
       "      <td>e019382f-ff05-4021-bda1-e5acadb428c0</td>\n",
       "      <td>2022-06-29T21:15:16.879689Z</td>\n",
       "      <td>2022-06-29T21:15:16.879689Z</td>\n",
       "      <td>2022-06-29T21:15:16.878279Z</td>\n",
       "      <td>None</td>\n",
       "      <td>None</td>\n",
       "      <td>None</td>\n",
       "      <td>None</td>\n",
       "      <td>None</td>\n",
       "      <td>...</td>\n",
       "      <td>None</td>\n",
       "      <td>None</td>\n",
       "      <td>accepted</td>\n",
       "      <td>False</td>\n",
       "      <td>None</td>\n",
       "      <td>None</td>\n",
       "      <td>None</td>\n",
       "      <td>None</td>\n",
       "      <td>None</td>\n",
       "      <td>access_key</td>\n",
       "    </tr>\n",
       "  </tbody>\n",
       "</table>\n",
       "<p>1 rows × 34 columns</p>\n",
       "</div>"
      ],
      "text/plain": [
       "                                     id                       client_order_id  \\\n",
       "0  61901471-a95e-4974-8f73-df846cdd3953  e019382f-ff05-4021-bda1-e5acadb428c0   \n",
       "\n",
       "                    created_at                   updated_at  \\\n",
       "0  2022-06-29T21:15:16.879689Z  2022-06-29T21:15:16.879689Z   \n",
       "\n",
       "                  submitted_at filled_at expired_at canceled_at failed_at  \\\n",
       "0  2022-06-29T21:15:16.878279Z      None       None        None      None   \n",
       "\n",
       "  replaced_at  ... limit_price stop_price    status extended_hours  legs  \\\n",
       "0        None  ...        None       None  accepted          False  None   \n",
       "\n",
       "  trail_percent trail_price   hwm subtag      source  \n",
       "0          None        None  None   None  access_key  \n",
       "\n",
       "[1 rows x 34 columns]"
      ]
     },
     "execution_count": 7,
     "metadata": {},
     "output_type": "execute_result"
    }
   ],
   "source": [
    "import pandas as pd\n",
    "pd.DataFrame(get_orders())"
   ]
  },
  {
   "cell_type": "code",
   "execution_count": null,
   "metadata": {},
   "outputs": [],
   "source": []
  },
  {
   "cell_type": "code",
   "execution_count": null,
   "metadata": {},
   "outputs": [],
   "source": []
  }
 ],
 "metadata": {
  "kernelspec": {
   "display_name": "Python 3 (ipykernel)",
   "language": "python",
   "name": "python3"
  },
  "language_info": {
   "codemirror_mode": {
    "name": "ipython",
    "version": 3
   },
   "file_extension": ".py",
   "mimetype": "text/x-python",
   "name": "python",
   "nbconvert_exporter": "python",
   "pygments_lexer": "ipython3",
   "version": "3.8.13"
  }
 },
 "nbformat": 4,
 "nbformat_minor": 2
}
